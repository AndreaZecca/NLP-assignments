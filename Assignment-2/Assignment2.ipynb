{
  "cells": [
    {
      "cell_type": "markdown",
      "metadata": {
        "id": "-WeCeITXoxLf"
      },
      "source": [
        "# Assignment 2\n",
        "\n",
        "**Credits**: Federico Ruggeri, Eleonora Mancini, Paolo Torroni\n",
        "\n",
        "**Keywords**: Human Value Detection, Multi-label classification, Transformers, BERT"
      ]
    },
    {
      "cell_type": "markdown",
      "metadata": {
        "id": "7eTtqrqf-TIB"
      },
      "source": [
        "\n",
        "# Contact\n",
        "\n",
        "For any doubt, question, issue or help, you can always contact us at the following email addresses:\n",
        "\n",
        "Teaching Assistants:\n",
        "\n",
        "* Federico Ruggeri -> federico.ruggeri6@unibo.it\n",
        "* Eleonora Mancini -> e.mancini@unibo.it\n",
        "\n",
        "Professor:\n",
        "\n",
        "* Paolo Torroni -> p.torroni@unibo.it"
      ]
    },
    {
      "cell_type": "markdown",
      "metadata": {
        "id": "hsWhyKr5-TIB"
      },
      "source": [
        "# Introduction\n",
        "\n",
        "You are tasked to address the [Human Value Detection challenge](https://aclanthology.org/2022.acl-long.306/)."
      ]
    },
    {
      "cell_type": "markdown",
      "metadata": {
        "id": "eE5p7S_c-TIC"
      },
      "source": [
        "## Problem definition\n",
        "\n",
        "Arguments are paired with their conveyed human values.\n",
        "\n",
        "Arguments are in the form of **premise** $\\rightarrow$ **conclusion**.\n",
        "\n",
        "### Example:\n",
        "\n",
        "**Premise**: *``fast food should be banned because it is really bad for your health and is costly''*\n",
        "\n",
        "**Conclusion**: *``We should ban fast food''*\n",
        "\n",
        "**Stance**: *in favour of*"
      ]
    },
    {
      "cell_type": "markdown",
      "metadata": {
        "id": "ycAtw3ag-TIC"
      },
      "source": [
        "<center>\n",
        "    <img src=\"images/human_values.png\" alt=\"human values\" />\n",
        "</center>"
      ]
    },
    {
      "cell_type": "markdown",
      "metadata": {
        "id": "ZFNfR1HT-TIC"
      },
      "source": [
        "# [Task 1 - 0.5 points] Corpus\n",
        "\n",
        "Check the official page of the challenge [here](https://touche.webis.de/semeval23/touche23-web/).\n",
        "\n",
        "The challenge offers several corpora for evaluation and testing.\n",
        "\n",
        "You are going to work with the standard training, validation, and test splits.\n",
        "\n",
        "#### Arguments\n",
        "* arguments-training.tsv\n",
        "* arguments-validation.tsv\n",
        "* arguments-test.tsv\n",
        "\n",
        "#### Human values\n",
        "* labels-training.tsv\n",
        "* labels-validation.tsv\n",
        "* labels-test.tsv"
      ]
    },
    {
      "cell_type": "markdown",
      "metadata": {
        "id": "9woZu2oH-TIC"
      },
      "source": [
        "### Example\n",
        "\n",
        "#### arguments-*.tsv\n",
        "```\n",
        "\n",
        "Argument ID    A01005\n",
        "\n",
        "Conclusion     We should ban fast food\n",
        "\n",
        "Stance         in favor of\n",
        "\n",
        "Premise        fast food should be banned because it is really bad for your health and is costly.\n",
        "```\n",
        "\n",
        "#### labels-*.tsv\n",
        "\n",
        "```\n",
        "Argument ID                A01005\n",
        "\n",
        "Self-direction: thought    0\n",
        "Self-direction: action     0\n",
        "...\n",
        "Universalism: objectivity: 0\n",
        "```"
      ]
    },
    {
      "cell_type": "markdown",
      "metadata": {
        "id": "fkVPLsR9-TIC"
      },
      "source": [
        "### Splits\n",
        "\n",
        "The standard splits contain\n",
        "\n",
        "   * **Train**: 5393 arguments\n",
        "   * **Validation**: 1896 arguments\n",
        "   * **Test**: 1576 arguments"
      ]
    },
    {
      "cell_type": "markdown",
      "metadata": {
        "id": "5qnuOyVH-TIC"
      },
      "source": [
        "### Annotations\n",
        "\n",
        "In this assignment, you are tasked to address a multi-label classification problem.\n",
        "\n",
        "You are going to consider **level 3** categories:\n",
        "\n",
        "* Openness to change\n",
        "* Self-enhancement\n",
        "* Conversation\n",
        "* Self-transcendence"
      ]
    },
    {
      "cell_type": "markdown",
      "metadata": {
        "id": "clwxe2Ru-TID"
      },
      "source": [
        "**How to do that?**\n",
        "\n",
        "You have to merge (**logical OR**) annotations of level 2 categories belonging to the same level 3 category.\n",
        "\n",
        "**Pay attention to shared level 2 categories** (e.g., Hedonism). $\\rightarrow$ [see Table 1 in the original paper.](https://aclanthology.org/2022.acl-long.306/)\n",
        "\n",
        "#### Example\n",
        "\n",
        "```\n",
        "Self-direction: thought:    0\n",
        "Self-direction: action:     1\n",
        "Stimulation:                0\n",
        "Hedonism:                   1\n",
        "\n",
        "Openess to change           1\n",
        "```"
      ]
    },
    {
      "cell_type": "markdown",
      "metadata": {
        "id": "8lzdqb97-TID"
      },
      "source": [
        "### Instructions\n",
        "\n",
        "* **Download** the specificed training, validation, and test files.\n",
        "* **Encode** split files into a pandas.DataFrame object.\n",
        "* For each split, **merge** the arguments and labels dataframes into a single dataframe.\n",
        "* **Merge** level 2 annotations to level 3 categories."
      ]
    },
    {
      "cell_type": "code",
      "source": [
        "!mkdir data\n",
        "!curl https://zenodo.org/records/8248658/files/arguments-training.tsv?download=1 -o data/arguments-training.tsv\n",
        "!curl https://zenodo.org/records/8248658/files/arguments-validation.tsv?download=1 -o data/arguments-validation.tsv\n",
        "!curl https://zenodo.org/records/8248658/files/arguments-test.tsv?download=1 -o data/arguments-test.tsv\n",
        "!curl https://zenodo.org/records/8248658/files/labels-training.tsv?download=1 -o data/labels-training.tsv\n",
        "!curl https://zenodo.org/records/8248658/files/labels-validation.tsv?download=1 -o data/labels-validation.tsv\n",
        "!curl https://zenodo.org/records/8248658/files/labels-test.tsv?download=1 -o data/labels-test.tsv"
      ],
      "metadata": {
        "colab": {
          "base_uri": "https://localhost:8080/"
        },
        "id": "wd9sx8Z8FveJ",
        "outputId": "e6062d38-f1d2-40e2-e46d-eea1aa49e5a8"
      },
      "execution_count": null,
      "outputs": [
        {
          "output_type": "stream",
          "name": "stdout",
          "text": [
            "  % Total    % Received % Xferd  Average Speed   Time    Time     Time  Current\n",
            "                                 Dload  Upload   Total   Spent    Left  Speed\n",
            "100  988k  100  988k    0     0   689k      0  0:00:01  0:00:01 --:--:--  689k\n",
            "  % Total    % Received % Xferd  Average Speed   Time    Time     Time  Current\n",
            "                                 Dload  Upload   Total   Spent    Left  Speed\n",
            "100  354k  100  354k    0     0   283k      0  0:00:01  0:00:01 --:--:--  283k\n",
            "  % Total    % Received % Xferd  Average Speed   Time    Time     Time  Current\n",
            "                                 Dload  Upload   Total   Spent    Left  Speed\n",
            "100  283k  100  283k    0     0   190k      0  0:00:01  0:00:01 --:--:--  190k\n",
            "  % Total    % Received % Xferd  Average Speed   Time    Time     Time  Current\n",
            "                                 Dload  Upload   Total   Spent    Left  Speed\n",
            "100  247k  100  247k    0     0   224k      0  0:00:01  0:00:01 --:--:--  225k\n",
            "  % Total    % Received % Xferd  Average Speed   Time    Time     Time  Current\n",
            "                                 Dload  Upload   Total   Spent    Left  Speed\n",
            "100 89484  100 89484    0     0  86095      0  0:00:01  0:00:01 --:--:-- 86125\n",
            "  % Total    % Received % Xferd  Average Speed   Time    Time     Time  Current\n",
            "                                 Dload  Upload   Total   Spent    Left  Speed\n",
            "100 74444  100 74444    0     0  90696      0 --:--:-- --:--:-- --:--:-- 90674\n"
          ]
        }
      ]
    },
    {
      "cell_type": "code",
      "source": [
        "import pandas as pd\n",
        "\n",
        "arguments_train = pd.read_csv('data/arguments-training.tsv', sep='\\t')\n",
        "arguments_val = pd.read_csv('data/arguments-validation.tsv', sep='\\t')\n",
        "arguments_test = pd.read_csv('data/arguments-test.tsv', sep='\\t')\n",
        "labels_train = pd.read_csv('data/labels-training.tsv', sep='\\t')\n",
        "labels_val = pd.read_csv('data/labels-validation.tsv', sep='\\t')\n",
        "labels_test = pd.read_csv('data/labels-test.tsv', sep='\\t')"
      ],
      "metadata": {
        "id": "sg-rxmRZGaZe"
      },
      "execution_count": null,
      "outputs": []
    },
    {
      "cell_type": "code",
      "source": [
        "arguments_train.head()"
      ],
      "metadata": {
        "colab": {
          "base_uri": "https://localhost:8080/",
          "height": 206
        },
        "id": "ED0-Mq97GihR",
        "outputId": "29154a92-85cf-492c-d697-ee1324444049"
      },
      "execution_count": null,
      "outputs": [
        {
          "output_type": "execute_result",
          "data": {
            "text/plain": [
              "  Argument ID                                   Conclusion       Stance  \\\n",
              "0      A01002                  We should ban human cloning  in favor of   \n",
              "1      A01005                      We should ban fast food  in favor of   \n",
              "2      A01006  We should end the use of economic sanctions      against   \n",
              "3      A01007         We should abolish capital punishment      against   \n",
              "4      A01008                We should ban factory farming      against   \n",
              "\n",
              "                                             Premise  \n",
              "0  we should ban human cloning as it will only ca...  \n",
              "1  fast food should be banned because it is reall...  \n",
              "2  sometimes economic sanctions are the only thin...  \n",
              "3  capital punishment is sometimes the only optio...  \n",
              "4  factory farming allows for the production of c...  "
            ],
            "text/html": [
              "\n",
              "  <div id=\"df-09143d36-19d3-460f-bfc9-00895888a219\" class=\"colab-df-container\">\n",
              "    <div>\n",
              "<style scoped>\n",
              "    .dataframe tbody tr th:only-of-type {\n",
              "        vertical-align: middle;\n",
              "    }\n",
              "\n",
              "    .dataframe tbody tr th {\n",
              "        vertical-align: top;\n",
              "    }\n",
              "\n",
              "    .dataframe thead th {\n",
              "        text-align: right;\n",
              "    }\n",
              "</style>\n",
              "<table border=\"1\" class=\"dataframe\">\n",
              "  <thead>\n",
              "    <tr style=\"text-align: right;\">\n",
              "      <th></th>\n",
              "      <th>Argument ID</th>\n",
              "      <th>Conclusion</th>\n",
              "      <th>Stance</th>\n",
              "      <th>Premise</th>\n",
              "    </tr>\n",
              "  </thead>\n",
              "  <tbody>\n",
              "    <tr>\n",
              "      <th>0</th>\n",
              "      <td>A01002</td>\n",
              "      <td>We should ban human cloning</td>\n",
              "      <td>in favor of</td>\n",
              "      <td>we should ban human cloning as it will only ca...</td>\n",
              "    </tr>\n",
              "    <tr>\n",
              "      <th>1</th>\n",
              "      <td>A01005</td>\n",
              "      <td>We should ban fast food</td>\n",
              "      <td>in favor of</td>\n",
              "      <td>fast food should be banned because it is reall...</td>\n",
              "    </tr>\n",
              "    <tr>\n",
              "      <th>2</th>\n",
              "      <td>A01006</td>\n",
              "      <td>We should end the use of economic sanctions</td>\n",
              "      <td>against</td>\n",
              "      <td>sometimes economic sanctions are the only thin...</td>\n",
              "    </tr>\n",
              "    <tr>\n",
              "      <th>3</th>\n",
              "      <td>A01007</td>\n",
              "      <td>We should abolish capital punishment</td>\n",
              "      <td>against</td>\n",
              "      <td>capital punishment is sometimes the only optio...</td>\n",
              "    </tr>\n",
              "    <tr>\n",
              "      <th>4</th>\n",
              "      <td>A01008</td>\n",
              "      <td>We should ban factory farming</td>\n",
              "      <td>against</td>\n",
              "      <td>factory farming allows for the production of c...</td>\n",
              "    </tr>\n",
              "  </tbody>\n",
              "</table>\n",
              "</div>\n",
              "    <div class=\"colab-df-buttons\">\n",
              "\n",
              "  <div class=\"colab-df-container\">\n",
              "    <button class=\"colab-df-convert\" onclick=\"convertToInteractive('df-09143d36-19d3-460f-bfc9-00895888a219')\"\n",
              "            title=\"Convert this dataframe to an interactive table.\"\n",
              "            style=\"display:none;\">\n",
              "\n",
              "  <svg xmlns=\"http://www.w3.org/2000/svg\" height=\"24px\" viewBox=\"0 -960 960 960\">\n",
              "    <path d=\"M120-120v-720h720v720H120Zm60-500h600v-160H180v160Zm220 220h160v-160H400v160Zm0 220h160v-160H400v160ZM180-400h160v-160H180v160Zm440 0h160v-160H620v160ZM180-180h160v-160H180v160Zm440 0h160v-160H620v160Z\"/>\n",
              "  </svg>\n",
              "    </button>\n",
              "\n",
              "  <style>\n",
              "    .colab-df-container {\n",
              "      display:flex;\n",
              "      gap: 12px;\n",
              "    }\n",
              "\n",
              "    .colab-df-convert {\n",
              "      background-color: #E8F0FE;\n",
              "      border: none;\n",
              "      border-radius: 50%;\n",
              "      cursor: pointer;\n",
              "      display: none;\n",
              "      fill: #1967D2;\n",
              "      height: 32px;\n",
              "      padding: 0 0 0 0;\n",
              "      width: 32px;\n",
              "    }\n",
              "\n",
              "    .colab-df-convert:hover {\n",
              "      background-color: #E2EBFA;\n",
              "      box-shadow: 0px 1px 2px rgba(60, 64, 67, 0.3), 0px 1px 3px 1px rgba(60, 64, 67, 0.15);\n",
              "      fill: #174EA6;\n",
              "    }\n",
              "\n",
              "    .colab-df-buttons div {\n",
              "      margin-bottom: 4px;\n",
              "    }\n",
              "\n",
              "    [theme=dark] .colab-df-convert {\n",
              "      background-color: #3B4455;\n",
              "      fill: #D2E3FC;\n",
              "    }\n",
              "\n",
              "    [theme=dark] .colab-df-convert:hover {\n",
              "      background-color: #434B5C;\n",
              "      box-shadow: 0px 1px 3px 1px rgba(0, 0, 0, 0.15);\n",
              "      filter: drop-shadow(0px 1px 2px rgba(0, 0, 0, 0.3));\n",
              "      fill: #FFFFFF;\n",
              "    }\n",
              "  </style>\n",
              "\n",
              "    <script>\n",
              "      const buttonEl =\n",
              "        document.querySelector('#df-09143d36-19d3-460f-bfc9-00895888a219 button.colab-df-convert');\n",
              "      buttonEl.style.display =\n",
              "        google.colab.kernel.accessAllowed ? 'block' : 'none';\n",
              "\n",
              "      async function convertToInteractive(key) {\n",
              "        const element = document.querySelector('#df-09143d36-19d3-460f-bfc9-00895888a219');\n",
              "        const dataTable =\n",
              "          await google.colab.kernel.invokeFunction('convertToInteractive',\n",
              "                                                    [key], {});\n",
              "        if (!dataTable) return;\n",
              "\n",
              "        const docLinkHtml = 'Like what you see? Visit the ' +\n",
              "          '<a target=\"_blank\" href=https://colab.research.google.com/notebooks/data_table.ipynb>data table notebook</a>'\n",
              "          + ' to learn more about interactive tables.';\n",
              "        element.innerHTML = '';\n",
              "        dataTable['output_type'] = 'display_data';\n",
              "        await google.colab.output.renderOutput(dataTable, element);\n",
              "        const docLink = document.createElement('div');\n",
              "        docLink.innerHTML = docLinkHtml;\n",
              "        element.appendChild(docLink);\n",
              "      }\n",
              "    </script>\n",
              "  </div>\n",
              "\n",
              "\n",
              "<div id=\"df-c5f2d789-1200-45f0-aeaf-46b354d343c4\">\n",
              "  <button class=\"colab-df-quickchart\" onclick=\"quickchart('df-c5f2d789-1200-45f0-aeaf-46b354d343c4')\"\n",
              "            title=\"Suggest charts\"\n",
              "            style=\"display:none;\">\n",
              "\n",
              "<svg xmlns=\"http://www.w3.org/2000/svg\" height=\"24px\"viewBox=\"0 0 24 24\"\n",
              "     width=\"24px\">\n",
              "    <g>\n",
              "        <path d=\"M19 3H5c-1.1 0-2 .9-2 2v14c0 1.1.9 2 2 2h14c1.1 0 2-.9 2-2V5c0-1.1-.9-2-2-2zM9 17H7v-7h2v7zm4 0h-2V7h2v10zm4 0h-2v-4h2v4z\"/>\n",
              "    </g>\n",
              "</svg>\n",
              "  </button>\n",
              "\n",
              "<style>\n",
              "  .colab-df-quickchart {\n",
              "      --bg-color: #E8F0FE;\n",
              "      --fill-color: #1967D2;\n",
              "      --hover-bg-color: #E2EBFA;\n",
              "      --hover-fill-color: #174EA6;\n",
              "      --disabled-fill-color: #AAA;\n",
              "      --disabled-bg-color: #DDD;\n",
              "  }\n",
              "\n",
              "  [theme=dark] .colab-df-quickchart {\n",
              "      --bg-color: #3B4455;\n",
              "      --fill-color: #D2E3FC;\n",
              "      --hover-bg-color: #434B5C;\n",
              "      --hover-fill-color: #FFFFFF;\n",
              "      --disabled-bg-color: #3B4455;\n",
              "      --disabled-fill-color: #666;\n",
              "  }\n",
              "\n",
              "  .colab-df-quickchart {\n",
              "    background-color: var(--bg-color);\n",
              "    border: none;\n",
              "    border-radius: 50%;\n",
              "    cursor: pointer;\n",
              "    display: none;\n",
              "    fill: var(--fill-color);\n",
              "    height: 32px;\n",
              "    padding: 0;\n",
              "    width: 32px;\n",
              "  }\n",
              "\n",
              "  .colab-df-quickchart:hover {\n",
              "    background-color: var(--hover-bg-color);\n",
              "    box-shadow: 0 1px 2px rgba(60, 64, 67, 0.3), 0 1px 3px 1px rgba(60, 64, 67, 0.15);\n",
              "    fill: var(--button-hover-fill-color);\n",
              "  }\n",
              "\n",
              "  .colab-df-quickchart-complete:disabled,\n",
              "  .colab-df-quickchart-complete:disabled:hover {\n",
              "    background-color: var(--disabled-bg-color);\n",
              "    fill: var(--disabled-fill-color);\n",
              "    box-shadow: none;\n",
              "  }\n",
              "\n",
              "  .colab-df-spinner {\n",
              "    border: 2px solid var(--fill-color);\n",
              "    border-color: transparent;\n",
              "    border-bottom-color: var(--fill-color);\n",
              "    animation:\n",
              "      spin 1s steps(1) infinite;\n",
              "  }\n",
              "\n",
              "  @keyframes spin {\n",
              "    0% {\n",
              "      border-color: transparent;\n",
              "      border-bottom-color: var(--fill-color);\n",
              "      border-left-color: var(--fill-color);\n",
              "    }\n",
              "    20% {\n",
              "      border-color: transparent;\n",
              "      border-left-color: var(--fill-color);\n",
              "      border-top-color: var(--fill-color);\n",
              "    }\n",
              "    30% {\n",
              "      border-color: transparent;\n",
              "      border-left-color: var(--fill-color);\n",
              "      border-top-color: var(--fill-color);\n",
              "      border-right-color: var(--fill-color);\n",
              "    }\n",
              "    40% {\n",
              "      border-color: transparent;\n",
              "      border-right-color: var(--fill-color);\n",
              "      border-top-color: var(--fill-color);\n",
              "    }\n",
              "    60% {\n",
              "      border-color: transparent;\n",
              "      border-right-color: var(--fill-color);\n",
              "    }\n",
              "    80% {\n",
              "      border-color: transparent;\n",
              "      border-right-color: var(--fill-color);\n",
              "      border-bottom-color: var(--fill-color);\n",
              "    }\n",
              "    90% {\n",
              "      border-color: transparent;\n",
              "      border-bottom-color: var(--fill-color);\n",
              "    }\n",
              "  }\n",
              "</style>\n",
              "\n",
              "  <script>\n",
              "    async function quickchart(key) {\n",
              "      const quickchartButtonEl =\n",
              "        document.querySelector('#' + key + ' button');\n",
              "      quickchartButtonEl.disabled = true;  // To prevent multiple clicks.\n",
              "      quickchartButtonEl.classList.add('colab-df-spinner');\n",
              "      try {\n",
              "        const charts = await google.colab.kernel.invokeFunction(\n",
              "            'suggestCharts', [key], {});\n",
              "      } catch (error) {\n",
              "        console.error('Error during call to suggestCharts:', error);\n",
              "      }\n",
              "      quickchartButtonEl.classList.remove('colab-df-spinner');\n",
              "      quickchartButtonEl.classList.add('colab-df-quickchart-complete');\n",
              "    }\n",
              "    (() => {\n",
              "      let quickchartButtonEl =\n",
              "        document.querySelector('#df-c5f2d789-1200-45f0-aeaf-46b354d343c4 button');\n",
              "      quickchartButtonEl.style.display =\n",
              "        google.colab.kernel.accessAllowed ? 'block' : 'none';\n",
              "    })();\n",
              "  </script>\n",
              "</div>\n",
              "    </div>\n",
              "  </div>\n"
            ]
          },
          "metadata": {},
          "execution_count": 3
        }
      ]
    },
    {
      "cell_type": "code",
      "source": [
        "labels_train.head()"
      ],
      "metadata": {
        "colab": {
          "base_uri": "https://localhost:8080/",
          "height": 290
        },
        "id": "yPUt_u2FII84",
        "outputId": "34c0b17d-0cf3-4c24-9a08-06a487516c34"
      },
      "execution_count": null,
      "outputs": [
        {
          "output_type": "execute_result",
          "data": {
            "text/plain": [
              "  Argument ID  Self-direction: thought  Self-direction: action  Stimulation  \\\n",
              "0      A01002                        0                       0            0   \n",
              "1      A01005                        0                       0            0   \n",
              "2      A01006                        0                       0            0   \n",
              "3      A01007                        0                       0            0   \n",
              "4      A01008                        0                       0            0   \n",
              "\n",
              "   Hedonism  Achievement  Power: dominance  Power: resources  Face  \\\n",
              "0         0            0                 0                 0     0   \n",
              "1         0            0                 0                 0     0   \n",
              "2         0            0                 1                 0     0   \n",
              "3         0            0                 0                 0     0   \n",
              "4         0            0                 0                 0     0   \n",
              "\n",
              "   Security: personal  ...  Tradition  Conformity: rules  \\\n",
              "0                   0  ...          0                  0   \n",
              "1                   1  ...          0                  0   \n",
              "2                   0  ...          0                  0   \n",
              "3                   0  ...          0                  1   \n",
              "4                   1  ...          0                  0   \n",
              "\n",
              "   Conformity: interpersonal  Humility  Benevolence: caring  \\\n",
              "0                          0         0                    0   \n",
              "1                          0         0                    0   \n",
              "2                          0         0                    0   \n",
              "3                          0         0                    0   \n",
              "4                          0         0                    1   \n",
              "\n",
              "   Benevolence: dependability  Universalism: concern  Universalism: nature  \\\n",
              "0                           0                      0                     0   \n",
              "1                           0                      0                     0   \n",
              "2                           0                      0                     0   \n",
              "3                           0                      1                     0   \n",
              "4                           0                      1                     0   \n",
              "\n",
              "   Universalism: tolerance  Universalism: objectivity  \n",
              "0                        0                          0  \n",
              "1                        0                          0  \n",
              "2                        0                          0  \n",
              "3                        0                          0  \n",
              "4                        0                          0  \n",
              "\n",
              "[5 rows x 21 columns]"
            ],
            "text/html": [
              "\n",
              "  <div id=\"df-87a907cd-6b5e-4c53-8e77-6a9b603940af\" class=\"colab-df-container\">\n",
              "    <div>\n",
              "<style scoped>\n",
              "    .dataframe tbody tr th:only-of-type {\n",
              "        vertical-align: middle;\n",
              "    }\n",
              "\n",
              "    .dataframe tbody tr th {\n",
              "        vertical-align: top;\n",
              "    }\n",
              "\n",
              "    .dataframe thead th {\n",
              "        text-align: right;\n",
              "    }\n",
              "</style>\n",
              "<table border=\"1\" class=\"dataframe\">\n",
              "  <thead>\n",
              "    <tr style=\"text-align: right;\">\n",
              "      <th></th>\n",
              "      <th>Argument ID</th>\n",
              "      <th>Self-direction: thought</th>\n",
              "      <th>Self-direction: action</th>\n",
              "      <th>Stimulation</th>\n",
              "      <th>Hedonism</th>\n",
              "      <th>Achievement</th>\n",
              "      <th>Power: dominance</th>\n",
              "      <th>Power: resources</th>\n",
              "      <th>Face</th>\n",
              "      <th>Security: personal</th>\n",
              "      <th>...</th>\n",
              "      <th>Tradition</th>\n",
              "      <th>Conformity: rules</th>\n",
              "      <th>Conformity: interpersonal</th>\n",
              "      <th>Humility</th>\n",
              "      <th>Benevolence: caring</th>\n",
              "      <th>Benevolence: dependability</th>\n",
              "      <th>Universalism: concern</th>\n",
              "      <th>Universalism: nature</th>\n",
              "      <th>Universalism: tolerance</th>\n",
              "      <th>Universalism: objectivity</th>\n",
              "    </tr>\n",
              "  </thead>\n",
              "  <tbody>\n",
              "    <tr>\n",
              "      <th>0</th>\n",
              "      <td>A01002</td>\n",
              "      <td>0</td>\n",
              "      <td>0</td>\n",
              "      <td>0</td>\n",
              "      <td>0</td>\n",
              "      <td>0</td>\n",
              "      <td>0</td>\n",
              "      <td>0</td>\n",
              "      <td>0</td>\n",
              "      <td>0</td>\n",
              "      <td>...</td>\n",
              "      <td>0</td>\n",
              "      <td>0</td>\n",
              "      <td>0</td>\n",
              "      <td>0</td>\n",
              "      <td>0</td>\n",
              "      <td>0</td>\n",
              "      <td>0</td>\n",
              "      <td>0</td>\n",
              "      <td>0</td>\n",
              "      <td>0</td>\n",
              "    </tr>\n",
              "    <tr>\n",
              "      <th>1</th>\n",
              "      <td>A01005</td>\n",
              "      <td>0</td>\n",
              "      <td>0</td>\n",
              "      <td>0</td>\n",
              "      <td>0</td>\n",
              "      <td>0</td>\n",
              "      <td>0</td>\n",
              "      <td>0</td>\n",
              "      <td>0</td>\n",
              "      <td>1</td>\n",
              "      <td>...</td>\n",
              "      <td>0</td>\n",
              "      <td>0</td>\n",
              "      <td>0</td>\n",
              "      <td>0</td>\n",
              "      <td>0</td>\n",
              "      <td>0</td>\n",
              "      <td>0</td>\n",
              "      <td>0</td>\n",
              "      <td>0</td>\n",
              "      <td>0</td>\n",
              "    </tr>\n",
              "    <tr>\n",
              "      <th>2</th>\n",
              "      <td>A01006</td>\n",
              "      <td>0</td>\n",
              "      <td>0</td>\n",
              "      <td>0</td>\n",
              "      <td>0</td>\n",
              "      <td>0</td>\n",
              "      <td>1</td>\n",
              "      <td>0</td>\n",
              "      <td>0</td>\n",
              "      <td>0</td>\n",
              "      <td>...</td>\n",
              "      <td>0</td>\n",
              "      <td>0</td>\n",
              "      <td>0</td>\n",
              "      <td>0</td>\n",
              "      <td>0</td>\n",
              "      <td>0</td>\n",
              "      <td>0</td>\n",
              "      <td>0</td>\n",
              "      <td>0</td>\n",
              "      <td>0</td>\n",
              "    </tr>\n",
              "    <tr>\n",
              "      <th>3</th>\n",
              "      <td>A01007</td>\n",
              "      <td>0</td>\n",
              "      <td>0</td>\n",
              "      <td>0</td>\n",
              "      <td>0</td>\n",
              "      <td>0</td>\n",
              "      <td>0</td>\n",
              "      <td>0</td>\n",
              "      <td>0</td>\n",
              "      <td>0</td>\n",
              "      <td>...</td>\n",
              "      <td>0</td>\n",
              "      <td>1</td>\n",
              "      <td>0</td>\n",
              "      <td>0</td>\n",
              "      <td>0</td>\n",
              "      <td>0</td>\n",
              "      <td>1</td>\n",
              "      <td>0</td>\n",
              "      <td>0</td>\n",
              "      <td>0</td>\n",
              "    </tr>\n",
              "    <tr>\n",
              "      <th>4</th>\n",
              "      <td>A01008</td>\n",
              "      <td>0</td>\n",
              "      <td>0</td>\n",
              "      <td>0</td>\n",
              "      <td>0</td>\n",
              "      <td>0</td>\n",
              "      <td>0</td>\n",
              "      <td>0</td>\n",
              "      <td>0</td>\n",
              "      <td>1</td>\n",
              "      <td>...</td>\n",
              "      <td>0</td>\n",
              "      <td>0</td>\n",
              "      <td>0</td>\n",
              "      <td>0</td>\n",
              "      <td>1</td>\n",
              "      <td>0</td>\n",
              "      <td>1</td>\n",
              "      <td>0</td>\n",
              "      <td>0</td>\n",
              "      <td>0</td>\n",
              "    </tr>\n",
              "  </tbody>\n",
              "</table>\n",
              "<p>5 rows × 21 columns</p>\n",
              "</div>\n",
              "    <div class=\"colab-df-buttons\">\n",
              "\n",
              "  <div class=\"colab-df-container\">\n",
              "    <button class=\"colab-df-convert\" onclick=\"convertToInteractive('df-87a907cd-6b5e-4c53-8e77-6a9b603940af')\"\n",
              "            title=\"Convert this dataframe to an interactive table.\"\n",
              "            style=\"display:none;\">\n",
              "\n",
              "  <svg xmlns=\"http://www.w3.org/2000/svg\" height=\"24px\" viewBox=\"0 -960 960 960\">\n",
              "    <path d=\"M120-120v-720h720v720H120Zm60-500h600v-160H180v160Zm220 220h160v-160H400v160Zm0 220h160v-160H400v160ZM180-400h160v-160H180v160Zm440 0h160v-160H620v160ZM180-180h160v-160H180v160Zm440 0h160v-160H620v160Z\"/>\n",
              "  </svg>\n",
              "    </button>\n",
              "\n",
              "  <style>\n",
              "    .colab-df-container {\n",
              "      display:flex;\n",
              "      gap: 12px;\n",
              "    }\n",
              "\n",
              "    .colab-df-convert {\n",
              "      background-color: #E8F0FE;\n",
              "      border: none;\n",
              "      border-radius: 50%;\n",
              "      cursor: pointer;\n",
              "      display: none;\n",
              "      fill: #1967D2;\n",
              "      height: 32px;\n",
              "      padding: 0 0 0 0;\n",
              "      width: 32px;\n",
              "    }\n",
              "\n",
              "    .colab-df-convert:hover {\n",
              "      background-color: #E2EBFA;\n",
              "      box-shadow: 0px 1px 2px rgba(60, 64, 67, 0.3), 0px 1px 3px 1px rgba(60, 64, 67, 0.15);\n",
              "      fill: #174EA6;\n",
              "    }\n",
              "\n",
              "    .colab-df-buttons div {\n",
              "      margin-bottom: 4px;\n",
              "    }\n",
              "\n",
              "    [theme=dark] .colab-df-convert {\n",
              "      background-color: #3B4455;\n",
              "      fill: #D2E3FC;\n",
              "    }\n",
              "\n",
              "    [theme=dark] .colab-df-convert:hover {\n",
              "      background-color: #434B5C;\n",
              "      box-shadow: 0px 1px 3px 1px rgba(0, 0, 0, 0.15);\n",
              "      filter: drop-shadow(0px 1px 2px rgba(0, 0, 0, 0.3));\n",
              "      fill: #FFFFFF;\n",
              "    }\n",
              "  </style>\n",
              "\n",
              "    <script>\n",
              "      const buttonEl =\n",
              "        document.querySelector('#df-87a907cd-6b5e-4c53-8e77-6a9b603940af button.colab-df-convert');\n",
              "      buttonEl.style.display =\n",
              "        google.colab.kernel.accessAllowed ? 'block' : 'none';\n",
              "\n",
              "      async function convertToInteractive(key) {\n",
              "        const element = document.querySelector('#df-87a907cd-6b5e-4c53-8e77-6a9b603940af');\n",
              "        const dataTable =\n",
              "          await google.colab.kernel.invokeFunction('convertToInteractive',\n",
              "                                                    [key], {});\n",
              "        if (!dataTable) return;\n",
              "\n",
              "        const docLinkHtml = 'Like what you see? Visit the ' +\n",
              "          '<a target=\"_blank\" href=https://colab.research.google.com/notebooks/data_table.ipynb>data table notebook</a>'\n",
              "          + ' to learn more about interactive tables.';\n",
              "        element.innerHTML = '';\n",
              "        dataTable['output_type'] = 'display_data';\n",
              "        await google.colab.output.renderOutput(dataTable, element);\n",
              "        const docLink = document.createElement('div');\n",
              "        docLink.innerHTML = docLinkHtml;\n",
              "        element.appendChild(docLink);\n",
              "      }\n",
              "    </script>\n",
              "  </div>\n",
              "\n",
              "\n",
              "<div id=\"df-4f762e52-e3a9-42e3-bd7f-fe2e9b688a82\">\n",
              "  <button class=\"colab-df-quickchart\" onclick=\"quickchart('df-4f762e52-e3a9-42e3-bd7f-fe2e9b688a82')\"\n",
              "            title=\"Suggest charts\"\n",
              "            style=\"display:none;\">\n",
              "\n",
              "<svg xmlns=\"http://www.w3.org/2000/svg\" height=\"24px\"viewBox=\"0 0 24 24\"\n",
              "     width=\"24px\">\n",
              "    <g>\n",
              "        <path d=\"M19 3H5c-1.1 0-2 .9-2 2v14c0 1.1.9 2 2 2h14c1.1 0 2-.9 2-2V5c0-1.1-.9-2-2-2zM9 17H7v-7h2v7zm4 0h-2V7h2v10zm4 0h-2v-4h2v4z\"/>\n",
              "    </g>\n",
              "</svg>\n",
              "  </button>\n",
              "\n",
              "<style>\n",
              "  .colab-df-quickchart {\n",
              "      --bg-color: #E8F0FE;\n",
              "      --fill-color: #1967D2;\n",
              "      --hover-bg-color: #E2EBFA;\n",
              "      --hover-fill-color: #174EA6;\n",
              "      --disabled-fill-color: #AAA;\n",
              "      --disabled-bg-color: #DDD;\n",
              "  }\n",
              "\n",
              "  [theme=dark] .colab-df-quickchart {\n",
              "      --bg-color: #3B4455;\n",
              "      --fill-color: #D2E3FC;\n",
              "      --hover-bg-color: #434B5C;\n",
              "      --hover-fill-color: #FFFFFF;\n",
              "      --disabled-bg-color: #3B4455;\n",
              "      --disabled-fill-color: #666;\n",
              "  }\n",
              "\n",
              "  .colab-df-quickchart {\n",
              "    background-color: var(--bg-color);\n",
              "    border: none;\n",
              "    border-radius: 50%;\n",
              "    cursor: pointer;\n",
              "    display: none;\n",
              "    fill: var(--fill-color);\n",
              "    height: 32px;\n",
              "    padding: 0;\n",
              "    width: 32px;\n",
              "  }\n",
              "\n",
              "  .colab-df-quickchart:hover {\n",
              "    background-color: var(--hover-bg-color);\n",
              "    box-shadow: 0 1px 2px rgba(60, 64, 67, 0.3), 0 1px 3px 1px rgba(60, 64, 67, 0.15);\n",
              "    fill: var(--button-hover-fill-color);\n",
              "  }\n",
              "\n",
              "  .colab-df-quickchart-complete:disabled,\n",
              "  .colab-df-quickchart-complete:disabled:hover {\n",
              "    background-color: var(--disabled-bg-color);\n",
              "    fill: var(--disabled-fill-color);\n",
              "    box-shadow: none;\n",
              "  }\n",
              "\n",
              "  .colab-df-spinner {\n",
              "    border: 2px solid var(--fill-color);\n",
              "    border-color: transparent;\n",
              "    border-bottom-color: var(--fill-color);\n",
              "    animation:\n",
              "      spin 1s steps(1) infinite;\n",
              "  }\n",
              "\n",
              "  @keyframes spin {\n",
              "    0% {\n",
              "      border-color: transparent;\n",
              "      border-bottom-color: var(--fill-color);\n",
              "      border-left-color: var(--fill-color);\n",
              "    }\n",
              "    20% {\n",
              "      border-color: transparent;\n",
              "      border-left-color: var(--fill-color);\n",
              "      border-top-color: var(--fill-color);\n",
              "    }\n",
              "    30% {\n",
              "      border-color: transparent;\n",
              "      border-left-color: var(--fill-color);\n",
              "      border-top-color: var(--fill-color);\n",
              "      border-right-color: var(--fill-color);\n",
              "    }\n",
              "    40% {\n",
              "      border-color: transparent;\n",
              "      border-right-color: var(--fill-color);\n",
              "      border-top-color: var(--fill-color);\n",
              "    }\n",
              "    60% {\n",
              "      border-color: transparent;\n",
              "      border-right-color: var(--fill-color);\n",
              "    }\n",
              "    80% {\n",
              "      border-color: transparent;\n",
              "      border-right-color: var(--fill-color);\n",
              "      border-bottom-color: var(--fill-color);\n",
              "    }\n",
              "    90% {\n",
              "      border-color: transparent;\n",
              "      border-bottom-color: var(--fill-color);\n",
              "    }\n",
              "  }\n",
              "</style>\n",
              "\n",
              "  <script>\n",
              "    async function quickchart(key) {\n",
              "      const quickchartButtonEl =\n",
              "        document.querySelector('#' + key + ' button');\n",
              "      quickchartButtonEl.disabled = true;  // To prevent multiple clicks.\n",
              "      quickchartButtonEl.classList.add('colab-df-spinner');\n",
              "      try {\n",
              "        const charts = await google.colab.kernel.invokeFunction(\n",
              "            'suggestCharts', [key], {});\n",
              "      } catch (error) {\n",
              "        console.error('Error during call to suggestCharts:', error);\n",
              "      }\n",
              "      quickchartButtonEl.classList.remove('colab-df-spinner');\n",
              "      quickchartButtonEl.classList.add('colab-df-quickchart-complete');\n",
              "    }\n",
              "    (() => {\n",
              "      let quickchartButtonEl =\n",
              "        document.querySelector('#df-4f762e52-e3a9-42e3-bd7f-fe2e9b688a82 button');\n",
              "      quickchartButtonEl.style.display =\n",
              "        google.colab.kernel.accessAllowed ? 'block' : 'none';\n",
              "    })();\n",
              "  </script>\n",
              "</div>\n",
              "    </div>\n",
              "  </div>\n"
            ]
          },
          "metadata": {},
          "execution_count": 4
        }
      ]
    },
    {
      "cell_type": "code",
      "source": [
        "print(labels_train.columns)"
      ],
      "metadata": {
        "colab": {
          "base_uri": "https://localhost:8080/"
        },
        "id": "0bg0YWRlJ-sR",
        "outputId": "eb1d2378-94a3-4a2b-f4fd-bd334ba57541"
      },
      "execution_count": null,
      "outputs": [
        {
          "output_type": "stream",
          "name": "stdout",
          "text": [
            "Index(['Argument ID', 'Self-direction: thought', 'Self-direction: action',\n",
            "       'Stimulation', 'Hedonism', 'Achievement', 'Power: dominance',\n",
            "       'Power: resources', 'Face', 'Security: personal', 'Security: societal',\n",
            "       'Tradition', 'Conformity: rules', 'Conformity: interpersonal',\n",
            "       'Humility', 'Benevolence: caring', 'Benevolence: dependability',\n",
            "       'Universalism: concern', 'Universalism: nature',\n",
            "       'Universalism: tolerance', 'Universalism: objectivity'],\n",
            "      dtype='object')\n"
          ]
        }
      ]
    },
    {
      "cell_type": "code",
      "source": [
        "OPEN = 'Openness to change'\n",
        "ENHANCE = 'Self-enhancement'\n",
        "CONSERVE = 'Conservation'\n",
        "TRANSCEND = 'Self-transcendence'\n",
        "\n",
        "TOUCHE_VALUES = [OPEN, ENHANCE, CONSERVE, TRANSCEND]\n",
        "\n",
        "value_mapping = {\n",
        "    'Self-direction: thought' : [OPEN],\n",
        "    'Self-direction: action' : [OPEN],\n",
        "    'Stimulation' : [OPEN],\n",
        "    'Hedonism' : [OPEN, ENHANCE],\n",
        "    'Achievement' : [ENHANCE],\n",
        "    'Power: dominance' : [ENHANCE],\n",
        "    'Power: resources' : [ENHANCE],\n",
        "    'Face' : [CONSERVE, ENHANCE],\n",
        "    'Security: personal' : [CONSERVE],\n",
        "    'Security: societal' : [CONSERVE],\n",
        "    'Tradition' : [CONSERVE],\n",
        "    'Conformity: rules' : [CONSERVE],\n",
        "    'Conformity: interpersonal' : [CONSERVE],\n",
        "    'Humility' : [TRANSCEND, CONSERVE],\n",
        "    'Benevolence: caring' : [TRANSCEND],\n",
        "    'Benevolence: dependability' : [TRANSCEND],\n",
        "    'Universalism: concern' : [TRANSCEND],\n",
        "    'Universalism: nature' : [TRANSCEND],\n",
        "    'Universalism: tolerance' : [TRANSCEND],\n",
        "    'Universalism: objectivity' : [TRANSCEND]\n",
        "}"
      ],
      "metadata": {
        "id": "pVHLsP3BJAD-"
      },
      "execution_count": null,
      "outputs": []
    },
    {
      "cell_type": "code",
      "source": [
        "def merge_values(element):\n",
        "    new_element = { k : 0 for k in TOUCHE_VALUES }\n",
        "    for key, value in element.items():\n",
        "        raise RuntimeError\n",
        "        if value == 1:\n",
        "            for level_3_value in value_mapping[key]:\n",
        "                new_element[level_3_value] = 1\n",
        "\n",
        "    return new_element\n",
        "\n",
        "def build_dataset(arguments, labels):\n",
        "    new_dataset = []\n",
        "    for argument_element, label_element in zip(arguments.iloc, labels.iloc):\n",
        "        assert argument_element['Argument ID'] == label_element['Argument ID']\n",
        "        new_element = { k : 0 for k in TOUCHE_VALUES }\n",
        "        for level_2_value, level_3_values in value_mapping.items():\n",
        "            if label_element[level_2_value] == 1:\n",
        "                for level_3_value in level_3_values:\n",
        "                    new_element[level_3_value] = 1\n",
        "\n",
        "        for k in ['Premise', 'Stance', 'Conclusion']:\n",
        "            new_element[k] = argument_element[k]\n",
        "        new_dataset.append(new_element)\n",
        "\n",
        "    return pd.DataFrame(new_dataset)\n",
        "\n",
        "train_df = build_dataset(arguments_train, labels_train)\n",
        "val_df = build_dataset(arguments_val, labels_val)\n",
        "test_df = build_dataset(arguments_test, labels_test)"
      ],
      "metadata": {
        "id": "ssipInjULKCZ"
      },
      "execution_count": null,
      "outputs": []
    },
    {
      "cell_type": "code",
      "source": [
        "train_df.head()"
      ],
      "metadata": {
        "colab": {
          "base_uri": "https://localhost:8080/",
          "height": 206
        },
        "id": "Bpw1gM1lS3xW",
        "outputId": "83df3719-8e9c-4592-e621-e4ef496768a9"
      },
      "execution_count": null,
      "outputs": [
        {
          "output_type": "execute_result",
          "data": {
            "text/plain": [
              "   Openness to change  Self-enhancement  Conservation  Self-transcendence  \\\n",
              "0                   0                 0             1                   0   \n",
              "1                   0                 0             1                   0   \n",
              "2                   0                 1             1                   0   \n",
              "3                   0                 0             1                   1   \n",
              "4                   0                 0             1                   1   \n",
              "\n",
              "                                             Premise       Stance  \\\n",
              "0  we should ban human cloning as it will only ca...  in favor of   \n",
              "1  fast food should be banned because it is reall...  in favor of   \n",
              "2  sometimes economic sanctions are the only thin...      against   \n",
              "3  capital punishment is sometimes the only optio...      against   \n",
              "4  factory farming allows for the production of c...      against   \n",
              "\n",
              "                                    Conclusion  \n",
              "0                  We should ban human cloning  \n",
              "1                      We should ban fast food  \n",
              "2  We should end the use of economic sanctions  \n",
              "3         We should abolish capital punishment  \n",
              "4                We should ban factory farming  "
            ],
            "text/html": [
              "\n",
              "  <div id=\"df-b0902c8e-70bc-4890-9f9e-e802aaa05644\" class=\"colab-df-container\">\n",
              "    <div>\n",
              "<style scoped>\n",
              "    .dataframe tbody tr th:only-of-type {\n",
              "        vertical-align: middle;\n",
              "    }\n",
              "\n",
              "    .dataframe tbody tr th {\n",
              "        vertical-align: top;\n",
              "    }\n",
              "\n",
              "    .dataframe thead th {\n",
              "        text-align: right;\n",
              "    }\n",
              "</style>\n",
              "<table border=\"1\" class=\"dataframe\">\n",
              "  <thead>\n",
              "    <tr style=\"text-align: right;\">\n",
              "      <th></th>\n",
              "      <th>Openness to change</th>\n",
              "      <th>Self-enhancement</th>\n",
              "      <th>Conservation</th>\n",
              "      <th>Self-transcendence</th>\n",
              "      <th>Premise</th>\n",
              "      <th>Stance</th>\n",
              "      <th>Conclusion</th>\n",
              "    </tr>\n",
              "  </thead>\n",
              "  <tbody>\n",
              "    <tr>\n",
              "      <th>0</th>\n",
              "      <td>0</td>\n",
              "      <td>0</td>\n",
              "      <td>1</td>\n",
              "      <td>0</td>\n",
              "      <td>we should ban human cloning as it will only ca...</td>\n",
              "      <td>in favor of</td>\n",
              "      <td>We should ban human cloning</td>\n",
              "    </tr>\n",
              "    <tr>\n",
              "      <th>1</th>\n",
              "      <td>0</td>\n",
              "      <td>0</td>\n",
              "      <td>1</td>\n",
              "      <td>0</td>\n",
              "      <td>fast food should be banned because it is reall...</td>\n",
              "      <td>in favor of</td>\n",
              "      <td>We should ban fast food</td>\n",
              "    </tr>\n",
              "    <tr>\n",
              "      <th>2</th>\n",
              "      <td>0</td>\n",
              "      <td>1</td>\n",
              "      <td>1</td>\n",
              "      <td>0</td>\n",
              "      <td>sometimes economic sanctions are the only thin...</td>\n",
              "      <td>against</td>\n",
              "      <td>We should end the use of economic sanctions</td>\n",
              "    </tr>\n",
              "    <tr>\n",
              "      <th>3</th>\n",
              "      <td>0</td>\n",
              "      <td>0</td>\n",
              "      <td>1</td>\n",
              "      <td>1</td>\n",
              "      <td>capital punishment is sometimes the only optio...</td>\n",
              "      <td>against</td>\n",
              "      <td>We should abolish capital punishment</td>\n",
              "    </tr>\n",
              "    <tr>\n",
              "      <th>4</th>\n",
              "      <td>0</td>\n",
              "      <td>0</td>\n",
              "      <td>1</td>\n",
              "      <td>1</td>\n",
              "      <td>factory farming allows for the production of c...</td>\n",
              "      <td>against</td>\n",
              "      <td>We should ban factory farming</td>\n",
              "    </tr>\n",
              "  </tbody>\n",
              "</table>\n",
              "</div>\n",
              "    <div class=\"colab-df-buttons\">\n",
              "\n",
              "  <div class=\"colab-df-container\">\n",
              "    <button class=\"colab-df-convert\" onclick=\"convertToInteractive('df-b0902c8e-70bc-4890-9f9e-e802aaa05644')\"\n",
              "            title=\"Convert this dataframe to an interactive table.\"\n",
              "            style=\"display:none;\">\n",
              "\n",
              "  <svg xmlns=\"http://www.w3.org/2000/svg\" height=\"24px\" viewBox=\"0 -960 960 960\">\n",
              "    <path d=\"M120-120v-720h720v720H120Zm60-500h600v-160H180v160Zm220 220h160v-160H400v160Zm0 220h160v-160H400v160ZM180-400h160v-160H180v160Zm440 0h160v-160H620v160ZM180-180h160v-160H180v160Zm440 0h160v-160H620v160Z\"/>\n",
              "  </svg>\n",
              "    </button>\n",
              "\n",
              "  <style>\n",
              "    .colab-df-container {\n",
              "      display:flex;\n",
              "      gap: 12px;\n",
              "    }\n",
              "\n",
              "    .colab-df-convert {\n",
              "      background-color: #E8F0FE;\n",
              "      border: none;\n",
              "      border-radius: 50%;\n",
              "      cursor: pointer;\n",
              "      display: none;\n",
              "      fill: #1967D2;\n",
              "      height: 32px;\n",
              "      padding: 0 0 0 0;\n",
              "      width: 32px;\n",
              "    }\n",
              "\n",
              "    .colab-df-convert:hover {\n",
              "      background-color: #E2EBFA;\n",
              "      box-shadow: 0px 1px 2px rgba(60, 64, 67, 0.3), 0px 1px 3px 1px rgba(60, 64, 67, 0.15);\n",
              "      fill: #174EA6;\n",
              "    }\n",
              "\n",
              "    .colab-df-buttons div {\n",
              "      margin-bottom: 4px;\n",
              "    }\n",
              "\n",
              "    [theme=dark] .colab-df-convert {\n",
              "      background-color: #3B4455;\n",
              "      fill: #D2E3FC;\n",
              "    }\n",
              "\n",
              "    [theme=dark] .colab-df-convert:hover {\n",
              "      background-color: #434B5C;\n",
              "      box-shadow: 0px 1px 3px 1px rgba(0, 0, 0, 0.15);\n",
              "      filter: drop-shadow(0px 1px 2px rgba(0, 0, 0, 0.3));\n",
              "      fill: #FFFFFF;\n",
              "    }\n",
              "  </style>\n",
              "\n",
              "    <script>\n",
              "      const buttonEl =\n",
              "        document.querySelector('#df-b0902c8e-70bc-4890-9f9e-e802aaa05644 button.colab-df-convert');\n",
              "      buttonEl.style.display =\n",
              "        google.colab.kernel.accessAllowed ? 'block' : 'none';\n",
              "\n",
              "      async function convertToInteractive(key) {\n",
              "        const element = document.querySelector('#df-b0902c8e-70bc-4890-9f9e-e802aaa05644');\n",
              "        const dataTable =\n",
              "          await google.colab.kernel.invokeFunction('convertToInteractive',\n",
              "                                                    [key], {});\n",
              "        if (!dataTable) return;\n",
              "\n",
              "        const docLinkHtml = 'Like what you see? Visit the ' +\n",
              "          '<a target=\"_blank\" href=https://colab.research.google.com/notebooks/data_table.ipynb>data table notebook</a>'\n",
              "          + ' to learn more about interactive tables.';\n",
              "        element.innerHTML = '';\n",
              "        dataTable['output_type'] = 'display_data';\n",
              "        await google.colab.output.renderOutput(dataTable, element);\n",
              "        const docLink = document.createElement('div');\n",
              "        docLink.innerHTML = docLinkHtml;\n",
              "        element.appendChild(docLink);\n",
              "      }\n",
              "    </script>\n",
              "  </div>\n",
              "\n",
              "\n",
              "<div id=\"df-0f2a3a2c-4041-40bf-8958-4ade7575058b\">\n",
              "  <button class=\"colab-df-quickchart\" onclick=\"quickchart('df-0f2a3a2c-4041-40bf-8958-4ade7575058b')\"\n",
              "            title=\"Suggest charts\"\n",
              "            style=\"display:none;\">\n",
              "\n",
              "<svg xmlns=\"http://www.w3.org/2000/svg\" height=\"24px\"viewBox=\"0 0 24 24\"\n",
              "     width=\"24px\">\n",
              "    <g>\n",
              "        <path d=\"M19 3H5c-1.1 0-2 .9-2 2v14c0 1.1.9 2 2 2h14c1.1 0 2-.9 2-2V5c0-1.1-.9-2-2-2zM9 17H7v-7h2v7zm4 0h-2V7h2v10zm4 0h-2v-4h2v4z\"/>\n",
              "    </g>\n",
              "</svg>\n",
              "  </button>\n",
              "\n",
              "<style>\n",
              "  .colab-df-quickchart {\n",
              "      --bg-color: #E8F0FE;\n",
              "      --fill-color: #1967D2;\n",
              "      --hover-bg-color: #E2EBFA;\n",
              "      --hover-fill-color: #174EA6;\n",
              "      --disabled-fill-color: #AAA;\n",
              "      --disabled-bg-color: #DDD;\n",
              "  }\n",
              "\n",
              "  [theme=dark] .colab-df-quickchart {\n",
              "      --bg-color: #3B4455;\n",
              "      --fill-color: #D2E3FC;\n",
              "      --hover-bg-color: #434B5C;\n",
              "      --hover-fill-color: #FFFFFF;\n",
              "      --disabled-bg-color: #3B4455;\n",
              "      --disabled-fill-color: #666;\n",
              "  }\n",
              "\n",
              "  .colab-df-quickchart {\n",
              "    background-color: var(--bg-color);\n",
              "    border: none;\n",
              "    border-radius: 50%;\n",
              "    cursor: pointer;\n",
              "    display: none;\n",
              "    fill: var(--fill-color);\n",
              "    height: 32px;\n",
              "    padding: 0;\n",
              "    width: 32px;\n",
              "  }\n",
              "\n",
              "  .colab-df-quickchart:hover {\n",
              "    background-color: var(--hover-bg-color);\n",
              "    box-shadow: 0 1px 2px rgba(60, 64, 67, 0.3), 0 1px 3px 1px rgba(60, 64, 67, 0.15);\n",
              "    fill: var(--button-hover-fill-color);\n",
              "  }\n",
              "\n",
              "  .colab-df-quickchart-complete:disabled,\n",
              "  .colab-df-quickchart-complete:disabled:hover {\n",
              "    background-color: var(--disabled-bg-color);\n",
              "    fill: var(--disabled-fill-color);\n",
              "    box-shadow: none;\n",
              "  }\n",
              "\n",
              "  .colab-df-spinner {\n",
              "    border: 2px solid var(--fill-color);\n",
              "    border-color: transparent;\n",
              "    border-bottom-color: var(--fill-color);\n",
              "    animation:\n",
              "      spin 1s steps(1) infinite;\n",
              "  }\n",
              "\n",
              "  @keyframes spin {\n",
              "    0% {\n",
              "      border-color: transparent;\n",
              "      border-bottom-color: var(--fill-color);\n",
              "      border-left-color: var(--fill-color);\n",
              "    }\n",
              "    20% {\n",
              "      border-color: transparent;\n",
              "      border-left-color: var(--fill-color);\n",
              "      border-top-color: var(--fill-color);\n",
              "    }\n",
              "    30% {\n",
              "      border-color: transparent;\n",
              "      border-left-color: var(--fill-color);\n",
              "      border-top-color: var(--fill-color);\n",
              "      border-right-color: var(--fill-color);\n",
              "    }\n",
              "    40% {\n",
              "      border-color: transparent;\n",
              "      border-right-color: var(--fill-color);\n",
              "      border-top-color: var(--fill-color);\n",
              "    }\n",
              "    60% {\n",
              "      border-color: transparent;\n",
              "      border-right-color: var(--fill-color);\n",
              "    }\n",
              "    80% {\n",
              "      border-color: transparent;\n",
              "      border-right-color: var(--fill-color);\n",
              "      border-bottom-color: var(--fill-color);\n",
              "    }\n",
              "    90% {\n",
              "      border-color: transparent;\n",
              "      border-bottom-color: var(--fill-color);\n",
              "    }\n",
              "  }\n",
              "</style>\n",
              "\n",
              "  <script>\n",
              "    async function quickchart(key) {\n",
              "      const quickchartButtonEl =\n",
              "        document.querySelector('#' + key + ' button');\n",
              "      quickchartButtonEl.disabled = true;  // To prevent multiple clicks.\n",
              "      quickchartButtonEl.classList.add('colab-df-spinner');\n",
              "      try {\n",
              "        const charts = await google.colab.kernel.invokeFunction(\n",
              "            'suggestCharts', [key], {});\n",
              "      } catch (error) {\n",
              "        console.error('Error during call to suggestCharts:', error);\n",
              "      }\n",
              "      quickchartButtonEl.classList.remove('colab-df-spinner');\n",
              "      quickchartButtonEl.classList.add('colab-df-quickchart-complete');\n",
              "    }\n",
              "    (() => {\n",
              "      let quickchartButtonEl =\n",
              "        document.querySelector('#df-0f2a3a2c-4041-40bf-8958-4ade7575058b button');\n",
              "      quickchartButtonEl.style.display =\n",
              "        google.colab.kernel.accessAllowed ? 'block' : 'none';\n",
              "    })();\n",
              "  </script>\n",
              "</div>\n",
              "    </div>\n",
              "  </div>\n"
            ]
          },
          "metadata": {},
          "execution_count": 8
        }
      ]
    },
    {
      "cell_type": "markdown",
      "metadata": {
        "id": "12YFjq_S-TID"
      },
      "source": [
        "# [Task 2 - 2.0 points] Model definition\n",
        "\n",
        "You are tasked to define several neural models for multi-label classification."
      ]
    },
    {
      "cell_type": "markdown",
      "metadata": {
        "id": "GiB58Na_-TID"
      },
      "source": [
        "<center>\n",
        "    <img src=\"images/model_schema.png\" alt=\"model_schema\" />\n",
        "</center>"
      ]
    },
    {
      "cell_type": "markdown",
      "metadata": {
        "id": "ygV4o8CF-TIE"
      },
      "source": [
        "### Instructions\n",
        "\n",
        "* **Baseline**: implement a random uniform classifier (an individual classifier per category).\n",
        "* **Baseline**: implement a majority classifier (an individual classifier per category).\n",
        "\n",
        "<br/>\n",
        "\n",
        "* **BERT w/ C**: define a BERT-based classifier that receives an argument **conclusion** as input.\n",
        "* **BERT w/ CP**: add argument **premise** as an additional input.\n",
        "* **BERT w/ CPS**: add argument premise-to-conclusion **stance** as an additional input."
      ]
    },
    {
      "cell_type": "markdown",
      "metadata": {
        "id": "8ig-aAyY-TIE"
      },
      "source": [
        "### Notes\n",
        "\n",
        "**Do not mix models**. Each model has its own instructions.\n",
        "\n",
        "You are **free** to select the BERT-based model card from huggingface."
      ]
    },
    {
      "cell_type": "markdown",
      "metadata": {
        "id": "laKVUJDE-TIE"
      },
      "source": [
        "#### Examples\n",
        "\n",
        "```\n",
        "bert-base-uncased\n",
        "prajjwal1/bert-tiny\n",
        "distilbert-base-uncased\n",
        "roberta-base\n",
        "```"
      ]
    },
    {
      "cell_type": "markdown",
      "metadata": {
        "id": "JnwfPiUS-TIE"
      },
      "source": [
        "### BERT w/ C\n",
        "\n",
        "<center>\n",
        "    <img src=\"images/bert_c.png\" alt=\"BERT w/ C\" />\n",
        "</center>"
      ]
    },
    {
      "cell_type": "markdown",
      "metadata": {
        "id": "nk6neWuW-TIE"
      },
      "source": [
        "### BERT w/ CP\n",
        "\n",
        "<center>\n",
        "    <img src=\"images/bert_cp.png\" alt=\"BERT w/ CP\" />\n",
        "</center>"
      ]
    },
    {
      "cell_type": "markdown",
      "metadata": {
        "id": "RnVnNyiW-TIE"
      },
      "source": [
        "### BERT w/ CPS\n",
        "\n",
        "<center>\n",
        "    <img src=\"images/bert_cps.png\" alt=\"BERT w/ CPS\" />\n",
        "</center>"
      ]
    },
    {
      "cell_type": "markdown",
      "metadata": {
        "id": "-j3_2CUv-TIE"
      },
      "source": [
        "### Input concatenation\n",
        "\n",
        "<center>\n",
        "    <img src=\"images/input_merging.png\" alt=\"Input merging\" />\n",
        "</center>"
      ]
    },
    {
      "cell_type": "markdown",
      "metadata": {
        "id": "0rRovjwU-TIF"
      },
      "source": [
        "### Notes\n",
        "\n",
        "The **stance** input has to be encoded into a numerical format.\n",
        "\n",
        "You **should** use the same model instance to encode **premise** and **conclusion** inputs."
      ]
    },
    {
      "cell_type": "code",
      "source": [
        "device = 'cuda'"
      ],
      "metadata": {
        "id": "Tf_S0A0g3pdT"
      },
      "execution_count": null,
      "outputs": []
    },
    {
      "cell_type": "code",
      "source": [
        "import torch\n",
        "import torch.nn as nn\n",
        "import torch.nn.functional as F"
      ],
      "metadata": {
        "id": "1yccmahOVVlT"
      },
      "execution_count": null,
      "outputs": []
    },
    {
      "cell_type": "code",
      "source": [
        "class RandomUniformClassifier(nn.Module):\n",
        "    def __init__(self, output_shape, device='cuda'):\n",
        "        super().__init__()\n",
        "        self.output_shape = output_shape\n",
        "        self.device = device\n",
        "\n",
        "    def forward(self, x, *args, **kwargs):\n",
        "        return torch.rand((len(x),) + self.output_shape, device=self.device)"
      ],
      "metadata": {
        "id": "8JHy3HJvUdK8"
      },
      "execution_count": null,
      "outputs": []
    },
    {
      "cell_type": "code",
      "source": [
        "class FixedOutputClassifier(nn.Module):\n",
        "    def __init__(self, output, device):\n",
        "        super().__init__()\n",
        "        self.output = output.to(device)\n",
        "\n",
        "    def forward(self, x, *args, **kwargs):\n",
        "        return self.output.unsqueeze(dim=0).repeat(len(x), 1)\n",
        "\n",
        "def build_majority_classifier(dataloader, device):\n",
        "    count = 0\n",
        "    total_length = 0\n",
        "\n",
        "    for _, _, _, labels in dataloader:\n",
        "        # labels is [B, 4]\n",
        "        count += labels.sum(axis=0)\n",
        "        total_length += len(labels)\n",
        "\n",
        "    most_common_output = (count >= total_length / 2).long()\n",
        "\n",
        "    return FixedOutputClassifier(most_common_output, device)"
      ],
      "metadata": {
        "id": "QOqy9vscUpGp"
      },
      "execution_count": null,
      "outputs": []
    },
    {
      "cell_type": "code",
      "source": [
        "class ClassificationHead(nn.Module):\n",
        "    def __init__(self, input_size, hidden_size, dropout_rate=0.2):\n",
        "        super().__init__()\n",
        "        self.fc1 = nn.Linear(input_size, hidden_size)\n",
        "        self.fc2 = nn.Linear(hidden_size, 1)\n",
        "        self.dropout = nn.Dropout(p=dropout_rate)\n",
        "\n",
        "    def forward(self, x):\n",
        "        x = self.fc1(x)\n",
        "        x = self.dropout(x)\n",
        "        x = F.relu(x)\n",
        "        x = self.fc2(x)\n",
        "        x = (F.tanh(x) + 1) / 2\n",
        "\n",
        "        return x"
      ],
      "metadata": {
        "id": "IJFtj0SUVgFA"
      },
      "execution_count": null,
      "outputs": []
    },
    {
      "cell_type": "code",
      "source": [
        "\"\"\"Allows a model to use a submodule without training it or using it in the state_dict\"\"\"\n",
        "class ModuleWrapper:\n",
        "    def __init__(self, module):\n",
        "        self.module = module\n",
        "\n",
        "    def __call__(self, *args, **kwargs):\n",
        "        return self.module(*args, **kwargs)"
      ],
      "metadata": {
        "id": "yrJWJ3KiKaDE"
      },
      "execution_count": null,
      "outputs": []
    },
    {
      "cell_type": "code",
      "source": [
        "class BERTC(nn.Module):\n",
        "    def __init__(self, tokenizer, base_model, base_model_size, hidden_size, num_classes=4, dropout_rate=0.2, device='cuda'):\n",
        "        super().__init__()\n",
        "        self.tokenizer = tokenizer\n",
        "        self.base_model = ModuleWrapper(base_model)\n",
        "        heads = []\n",
        "        for _ in range(num_classes):\n",
        "            heads.append(ClassificationHead(base_model_size, hidden_size, dropout_rate=dropout_rate).to(device))\n",
        "\n",
        "        self.heads = nn.ModuleList(heads)\n",
        "        self.device = device\n",
        "\n",
        "\n",
        "    def encode(self, text):\n",
        "        encoded_inputs = self.tokenizer(text, return_tensors='pt', padding=True).to(self.device)\n",
        "        # print(encoded_inputs['attention_mask'])\n",
        "        attention_mask = encoded_inputs['attention_mask'].unsqueeze(-1)\n",
        "        # attention_mask now is [B, L, 1]\n",
        "\n",
        "        # model_output is [B, L, D]\n",
        "        model_output = self.base_model(**encoded_inputs)['last_hidden_state']\n",
        "\n",
        "        pooled_output = (attention_mask * model_output).sum(axis=1) / attention_mask.sum(axis=1)\n",
        "\n",
        "        return pooled_output\n",
        "\n",
        "    def forward(self, premise, conclusion, stance):\n",
        "        with torch.no_grad():\n",
        "            encoded_conclusion = self.encode(conclusion)\n",
        "\n",
        "        outputs = []\n",
        "        for head in self.heads:\n",
        "            outputs.append(head(encoded_conclusion).squeeze(dim=-1))\n",
        "\n",
        "        return torch.stack(outputs, dim=1)\n",
        "\n",
        "    # def train(self):\n",
        "    #     self.heads.train()\n",
        "    #\n",
        "    # def eval(self):\n",
        "    #     self.heads.eval()"
      ],
      "metadata": {
        "id": "bT9LiFH8Uu18"
      },
      "execution_count": null,
      "outputs": []
    },
    {
      "cell_type": "code",
      "source": [
        "class BERTCP(BERTC):\n",
        "    def __init__(self, tokenizer, base_model, base_model_size, hidden_size, num_classes=4, dropout_rate=0.2, device='cuda'):\n",
        "        super().__init__(tokenizer, base_model, base_model_size, hidden_size, num_classes=num_classes, dropout_rate=dropout_rate, device=device)\n",
        "\n",
        "    def forward(self, premise, conclusion, stance):\n",
        "        with torch.no_grad():\n",
        "            encoded_premise = self.encode(premise)\n",
        "            encoded_conclusion = self.encode(conclusion)\n",
        "\n",
        "            concatenated_output = torch.cat([encoded_premise, encoded_conclusion], dim=-1)\n",
        "\n",
        "        outputs = []\n",
        "        for head in self.heads:\n",
        "            outputs.append(head(concatenated_output).squeeze(dim=-1))\n",
        "\n",
        "        return torch.stack(outputs, dim=1)"
      ],
      "metadata": {
        "id": "1dnauP6Syv3E"
      },
      "execution_count": null,
      "outputs": []
    },
    {
      "cell_type": "code",
      "source": [
        "class BERTCPS(BERTC):\n",
        "    def __init__(self, tokenizer, base_model, base_model_size, hidden_size, num_classes=4, dropout_rate=0.2, device='cuda'):\n",
        "        super().__init__(tokenizer, base_model, base_model_size, hidden_size, num_classes=num_classes, dropout_rate=dropout_rate, device=device)\n",
        "\n",
        "    def forward(self, premise, conclusion, stance):\n",
        "        with torch.no_grad():\n",
        "            stance = stance.to(self.device)\n",
        "            encoded_premise = self.encode(premise)\n",
        "            encoded_conclusion = self.encode(conclusion)\n",
        "\n",
        "            # stance has size [B, 2]\n",
        "            concatenated_output = torch.cat([encoded_premise, encoded_conclusion, stance], dim=-1)\n",
        "\n",
        "        outputs = []\n",
        "        for head in self.heads:\n",
        "            outputs.append(head(concatenated_output).squeeze(dim=-1))\n",
        "\n",
        "        return torch.stack(outputs, dim=1)"
      ],
      "metadata": {
        "id": "mFyt_FtUz54O"
      },
      "execution_count": null,
      "outputs": []
    },
    {
      "cell_type": "code",
      "source": [
        "!pip install transformers"
      ],
      "metadata": {
        "colab": {
          "base_uri": "https://localhost:8080/"
        },
        "id": "PlPXZN25XY3_",
        "outputId": "a02414d2-7710-4dd3-b4f7-0241d3bc894a"
      },
      "execution_count": null,
      "outputs": [
        {
          "output_type": "stream",
          "name": "stdout",
          "text": [
            "Requirement already satisfied: transformers in /usr/local/lib/python3.10/dist-packages (4.35.2)\n",
            "Requirement already satisfied: filelock in /usr/local/lib/python3.10/dist-packages (from transformers) (3.13.1)\n",
            "Requirement already satisfied: huggingface-hub<1.0,>=0.16.4 in /usr/local/lib/python3.10/dist-packages (from transformers) (0.19.4)\n",
            "Requirement already satisfied: numpy>=1.17 in /usr/local/lib/python3.10/dist-packages (from transformers) (1.23.5)\n",
            "Requirement already satisfied: packaging>=20.0 in /usr/local/lib/python3.10/dist-packages (from transformers) (23.2)\n",
            "Requirement already satisfied: pyyaml>=5.1 in /usr/local/lib/python3.10/dist-packages (from transformers) (6.0.1)\n",
            "Requirement already satisfied: regex!=2019.12.17 in /usr/local/lib/python3.10/dist-packages (from transformers) (2023.6.3)\n",
            "Requirement already satisfied: requests in /usr/local/lib/python3.10/dist-packages (from transformers) (2.31.0)\n",
            "Requirement already satisfied: tokenizers<0.19,>=0.14 in /usr/local/lib/python3.10/dist-packages (from transformers) (0.15.0)\n",
            "Requirement already satisfied: safetensors>=0.3.1 in /usr/local/lib/python3.10/dist-packages (from transformers) (0.4.0)\n",
            "Requirement already satisfied: tqdm>=4.27 in /usr/local/lib/python3.10/dist-packages (from transformers) (4.66.1)\n",
            "Requirement already satisfied: fsspec>=2023.5.0 in /usr/local/lib/python3.10/dist-packages (from huggingface-hub<1.0,>=0.16.4->transformers) (2023.6.0)\n",
            "Requirement already satisfied: typing-extensions>=3.7.4.3 in /usr/local/lib/python3.10/dist-packages (from huggingface-hub<1.0,>=0.16.4->transformers) (4.5.0)\n",
            "Requirement already satisfied: charset-normalizer<4,>=2 in /usr/local/lib/python3.10/dist-packages (from requests->transformers) (3.3.2)\n",
            "Requirement already satisfied: idna<4,>=2.5 in /usr/local/lib/python3.10/dist-packages (from requests->transformers) (3.4)\n",
            "Requirement already satisfied: urllib3<3,>=1.21.1 in /usr/local/lib/python3.10/dist-packages (from requests->transformers) (2.0.7)\n",
            "Requirement already satisfied: certifi>=2017.4.17 in /usr/local/lib/python3.10/dist-packages (from requests->transformers) (2023.7.22)\n"
          ]
        }
      ]
    },
    {
      "cell_type": "code",
      "source": [
        "# from transformers import BertTokenizer, BertModel\n",
        "# tokenizer = BertTokenizer.from_pretrained('bert-base-uncased')\n",
        "# base_model = BertModel.from_pretrained(\"bert-base-uncased\").to(device)\n",
        "\n",
        "from transformers import RobertaTokenizer, RobertaModel\n",
        "tokenizer = RobertaTokenizer.from_pretrained('roberta-base')\n",
        "base_model = RobertaModel.from_pretrained(\"roberta-base\").to(device)\n",
        "\n",
        "for param in base_model.parameters():\n",
        "    param.requires_grad = False\n",
        "base_model.eval()"
      ],
      "metadata": {
        "id": "8ujVEnIRWqi7",
        "colab": {
          "base_uri": "https://localhost:8080/"
        },
        "outputId": "c7834e2a-0837-462d-ea05-8ad68ba3228e"
      },
      "execution_count": null,
      "outputs": [
        {
          "output_type": "stream",
          "name": "stderr",
          "text": [
            "Some weights of RobertaModel were not initialized from the model checkpoint at roberta-base and are newly initialized: ['roberta.pooler.dense.weight', 'roberta.pooler.dense.bias']\n",
            "You should probably TRAIN this model on a down-stream task to be able to use it for predictions and inference.\n"
          ]
        },
        {
          "output_type": "execute_result",
          "data": {
            "text/plain": [
              "RobertaModel(\n",
              "  (embeddings): RobertaEmbeddings(\n",
              "    (word_embeddings): Embedding(50265, 768, padding_idx=1)\n",
              "    (position_embeddings): Embedding(514, 768, padding_idx=1)\n",
              "    (token_type_embeddings): Embedding(1, 768)\n",
              "    (LayerNorm): LayerNorm((768,), eps=1e-05, elementwise_affine=True)\n",
              "    (dropout): Dropout(p=0.1, inplace=False)\n",
              "  )\n",
              "  (encoder): RobertaEncoder(\n",
              "    (layer): ModuleList(\n",
              "      (0-11): 12 x RobertaLayer(\n",
              "        (attention): RobertaAttention(\n",
              "          (self): RobertaSelfAttention(\n",
              "            (query): Linear(in_features=768, out_features=768, bias=True)\n",
              "            (key): Linear(in_features=768, out_features=768, bias=True)\n",
              "            (value): Linear(in_features=768, out_features=768, bias=True)\n",
              "            (dropout): Dropout(p=0.1, inplace=False)\n",
              "          )\n",
              "          (output): RobertaSelfOutput(\n",
              "            (dense): Linear(in_features=768, out_features=768, bias=True)\n",
              "            (LayerNorm): LayerNorm((768,), eps=1e-05, elementwise_affine=True)\n",
              "            (dropout): Dropout(p=0.1, inplace=False)\n",
              "          )\n",
              "        )\n",
              "        (intermediate): RobertaIntermediate(\n",
              "          (dense): Linear(in_features=768, out_features=3072, bias=True)\n",
              "          (intermediate_act_fn): GELUActivation()\n",
              "        )\n",
              "        (output): RobertaOutput(\n",
              "          (dense): Linear(in_features=3072, out_features=768, bias=True)\n",
              "          (LayerNorm): LayerNorm((768,), eps=1e-05, elementwise_affine=True)\n",
              "          (dropout): Dropout(p=0.1, inplace=False)\n",
              "        )\n",
              "      )\n",
              "    )\n",
              "  )\n",
              "  (pooler): RobertaPooler(\n",
              "    (dense): Linear(in_features=768, out_features=768, bias=True)\n",
              "    (activation): Tanh()\n",
              "  )\n",
              ")"
            ]
          },
          "metadata": {},
          "execution_count": 78
        }
      ]
    },
    {
      "cell_type": "code",
      "source": [
        "class ValueDataset(torch.utils.data.Dataset):\n",
        "    def __init__(self, df):\n",
        "        self.premises = list(df['Premise'].values)\n",
        "        self.stances = torch.Tensor([\n",
        "            [1, 0] if x['Stance'].lower() == 'in favor of' else [0, 1]\n",
        "            for x in df.iloc\n",
        "        ])\n",
        "        self.conclusions = list(df['Conclusion'].values)\n",
        "        self.labels = torch.stack([\n",
        "            torch.Tensor(df[k].values)\n",
        "            for k in TOUCHE_VALUES\n",
        "        ], axis=-1)\n",
        "\n",
        "    def __len__(self):\n",
        "        return len(self.stances)\n",
        "\n",
        "    def __getitem__(self, idx):\n",
        "        return (self.premises[idx], self.conclusions[idx], self.stances[idx], self.labels[idx])"
      ],
      "metadata": {
        "id": "3PjDR3YRiP0t"
      },
      "execution_count": null,
      "outputs": []
    },
    {
      "cell_type": "code",
      "source": [
        "train_dataset = ValueDataset(train_df)\n",
        "val_dataset = ValueDataset(val_df)\n",
        "test_dataset = ValueDataset(test_df)"
      ],
      "metadata": {
        "id": "ry0m4TCqhyjD"
      },
      "execution_count": null,
      "outputs": []
    },
    {
      "cell_type": "code",
      "source": [
        "train_dataset[0]"
      ],
      "metadata": {
        "colab": {
          "base_uri": "https://localhost:8080/"
        },
        "id": "Vy7IODlbj1OK",
        "outputId": "79dbcb96-37c4-4041-8172-78890175d275"
      },
      "execution_count": null,
      "outputs": [
        {
          "output_type": "execute_result",
          "data": {
            "text/plain": [
              "('we should ban human cloning as it will only cause huge issues when you have a bunch of the same humans running around all acting the same.',\n",
              " 'We should ban human cloning',\n",
              " tensor([1., 0.]),\n",
              " tensor([0., 0., 1., 0.]))"
            ]
          },
          "metadata": {},
          "execution_count": 53
        }
      ]
    },
    {
      "cell_type": "code",
      "source": [
        "train_dataloader = torch.utils.data.DataLoader(train_dataset, batch_size=32, shuffle=True)\n",
        "val_dataloader = torch.utils.data.DataLoader(val_dataset, batch_size=32, shuffle=False)\n",
        "test_dataloader = torch.utils.data.DataLoader(test_dataset, batch_size=32, shuffle=False)"
      ],
      "metadata": {
        "id": "8ZzBmBlkkINs"
      },
      "execution_count": null,
      "outputs": []
    },
    {
      "cell_type": "code",
      "source": [
        "random_model = RandomUniformClassifier((4,), device=device)\n",
        "majority_model = build_majority_classifier(train_dataloader, device=device)\n",
        "\n",
        "bertc_model = BERTC(tokenizer, base_model, 768, 100, device=device)\n",
        "bertcp_model = BERTCP(tokenizer, base_model, 768 * 2, 100, device=device)\n",
        "bertcps_model = BERTCPS(tokenizer, base_model, 768 * 2 + 2, 100, device=device)"
      ],
      "metadata": {
        "id": "Ein4iXgahArf",
        "colab": {
          "base_uri": "https://localhost:8080/"
        },
        "outputId": "f4de0f39-6799-466d-d79f-b64546549a07"
      },
      "execution_count": null,
      "outputs": [
        {
          "output_type": "stream",
          "name": "stdout",
          "text": [
            "tensor([0, 0, 1, 1])\n"
          ]
        }
      ]
    },
    {
      "cell_type": "code",
      "source": [
        "class BestModel:\n",
        "    def __init__(self):\n",
        "        self.best_validation_loss = float('Infinity')\n",
        "        self.best_state_dict = None\n",
        "    def __call__(self, model, loss):\n",
        "        if loss < self.best_validation_loss:\n",
        "            self.best_validation_loss = loss\n",
        "            self.best_state_dict = model.state_dict()\n"
      ],
      "metadata": {
        "id": "H6ZaftSeJRLW"
      },
      "execution_count": null,
      "outputs": []
    },
    {
      "cell_type": "code",
      "source": [
        "from tqdm import tqdm\n",
        "\n",
        "from torch.optim import AdamW\n",
        "\n",
        "bce_loss = nn.BCELoss(reduction='sum')\n",
        "\n",
        "class MulticlassBCE:\n",
        "    def __init__(self, num_labels):\n",
        "        self.num_labels = num_labels\n",
        "\n",
        "    def __call__(self, outputs, labels):\n",
        "        loss = 0\n",
        "\n",
        "        for i in range(self.num_labels):\n",
        "            loss += bce_loss(outputs[:, i], labels[:, i])\n",
        "\n",
        "        return loss / self.num_labels\n",
        "\n",
        "loss_function = MulticlassBCE(num_labels=4)\n",
        "\n",
        "def train(model, train_loader, val_loader, loss_function, epochs, lr, weight_decay, lr_decay_factor, lr_decay_patience):\n",
        "    optimizer = AdamW(model.parameters(), lr=lr, weight_decay=weight_decay)\n",
        "    scheduler = torch.optim.lr_scheduler.ReduceLROnPlateau(optimizer, mode='min', factor=lr_decay_factor, patience=lr_decay_patience, verbose=True)\n",
        "    best_model_tracker = BestModel()\n",
        "\n",
        "    try:\n",
        "        for i in range(epochs):\n",
        "            model.train()\n",
        "            for premises, conclusions, stances, labels in tqdm(train_loader, desc=f'Epoch {i + 1}/{epochs}'):\n",
        "                labels = labels.to(device)\n",
        "                optimizer.zero_grad()\n",
        "                outputs = model(premises, conclusions, stances)\n",
        "                loss = loss_function(outputs, labels)\n",
        "                loss.backward()\n",
        "                optimizer.step()\n",
        "\n",
        "            model.eval()\n",
        "\n",
        "            with torch.no_grad():\n",
        "                total_val_loss = 0\n",
        "                for premises, conclusions, stances, labels in val_loader:\n",
        "                    labels = labels.to(device)\n",
        "                    outputs = model(premises, conclusions, stances)\n",
        "                    loss = loss_function(outputs, labels)\n",
        "                    total_val_loss += loss.cpu().item()\n",
        "            best_model_tracker(model, total_val_loss)\n",
        "            print(total_val_loss / len(val_loader))\n",
        "            scheduler.step(total_val_loss)\n",
        "    except KeyboardInterrupt:\n",
        "        pass\n",
        "\n",
        "    model.load_state_dict(best_model_tracker.best_state_dict)\n",
        "\n",
        "    return best_model_tracker"
      ],
      "metadata": {
        "id": "ZK7S0fKOxyvB"
      },
      "execution_count": null,
      "outputs": []
    },
    {
      "cell_type": "code",
      "source": [
        "train(bertcps_model, train_dataloader, val_dataloader, loss_function, 20, 0.001, 0.01, 0.1, 2)"
      ],
      "metadata": {
        "colab": {
          "base_uri": "https://localhost:8080/"
        },
        "id": "fp9TD6GQ2geL",
        "outputId": "5cd10375-b4a0-40c3-a446-ddc479a6875a"
      },
      "execution_count": null,
      "outputs": [
        {
          "output_type": "stream",
          "name": "stderr",
          "text": [
            "Epoch 1/20: 100%|██████████| 169/169 [00:30<00:00,  5.57it/s]\n"
          ]
        },
        {
          "output_type": "stream",
          "name": "stdout",
          "text": [
            "17.05956505537033\n"
          ]
        },
        {
          "output_type": "stream",
          "name": "stderr",
          "text": [
            "Epoch 2/20: 100%|██████████| 169/169 [00:30<00:00,  5.50it/s]\n"
          ]
        },
        {
          "output_type": "stream",
          "name": "stdout",
          "text": [
            "17.316368893782297\n"
          ]
        },
        {
          "output_type": "stream",
          "name": "stderr",
          "text": [
            "Epoch 3/20:   7%|▋         | 12/169 [00:02<00:29,  5.40it/s]\n"
          ]
        }
      ]
    },
    {
      "cell_type": "markdown",
      "metadata": {
        "id": "FOuEZ5cb-TIF"
      },
      "source": [
        "# [Task 3 - 0.5 points] Metrics\n",
        "\n",
        "Before training the models, you are tasked to define the evaluation metrics for comparison."
      ]
    },
    {
      "cell_type": "markdown",
      "metadata": {
        "id": "OUAsgzd--TIF"
      },
      "source": [
        "### Instructions\n",
        "\n",
        "* Evaluate your models using per-category binary F1-score.\n",
        "* Compute the average binary F1-score over all categories (macro F1-score)."
      ]
    },
    {
      "cell_type": "markdown",
      "metadata": {
        "id": "mcdD3CVg-TIF"
      },
      "source": [
        "### Example\n",
        "\n",
        "You start with individual predictions ($\\rightarrow$ samples).\n",
        "\n",
        "```\n",
        "Openess to change:    0 0 1 0 1 1 0 ...\n",
        "Self-enhancement:     1 0 0 0 1 0 1 ...\n",
        "Conversation:         0 0 0 1 1 0 1 ...\n",
        "Self-transcendence:   1 1 0 1 0 1 0 ...\n",
        "```"
      ]
    },
    {
      "cell_type": "markdown",
      "metadata": {
        "id": "FTHhaJZa-TIF"
      },
      "source": [
        "You compute per-category binary F1-score.\n",
        "\n",
        "```\n",
        "Openess to change F1:    0.35\n",
        "Self-enhancement F1:     0.55\n",
        "Conversation F1:         0.80\n",
        "Self-transcendence F1:   0.21\n",
        "```"
      ]
    },
    {
      "cell_type": "markdown",
      "metadata": {
        "id": "b8aAhh5F-TIF"
      },
      "source": [
        "You then average per-category scores.\n",
        "```\n",
        "Average F1: ~0.48\n",
        "```"
      ]
    },
    {
      "cell_type": "code",
      "source": [
        "from sklearn.metrics import f1_score, precision_score, recall_score, precision_recall_curve\n",
        "import numpy as np\n",
        "import matplotlib.pyplot as plt\n",
        "\n",
        "def evaluate(model, loader, verbose=True):\n",
        "    model.eval()\n",
        "    with torch.no_grad():\n",
        "        all_outputs = []\n",
        "        all_labels = []\n",
        "\n",
        "        for premises, conclusions, stances, labels in loader:\n",
        "            stances = stances.to(device)\n",
        "            outputs = model(premises, conclusions, stances)\n",
        "\n",
        "            all_outputs.append(outputs)\n",
        "            all_labels.append(labels)\n",
        "\n",
        "        all_outputs = torch.cat(all_outputs, axis=0).cpu().numpy()\n",
        "        all_labels = torch.cat(all_labels, axis=0).cpu().numpy()\n",
        "\n",
        "        standard_threshold = 0.5\n",
        "\n",
        "        f1s = []\n",
        "        for i, value_name in enumerate(TOUCHE_VALUES):\n",
        "            f1 = f1_score(all_labels[:, i], all_outputs[:, i] >= standard_threshold)\n",
        "            f1s.append(f1)\n",
        "\n",
        "            precision = precision_score(all_labels[:, i], all_outputs[:, i] >= standard_threshold)\n",
        "\n",
        "            recall = recall_score(all_labels[:, i], all_outputs[:, i] >= standard_threshold)\n",
        "\n",
        "            if verbose:\n",
        "                print(f'{value_name}: Precision = {precision:.3f}, Recall = {recall:.3f}, F1 = {f1:.3f}')\n",
        "\n",
        "                precision, recall, _ = precision_recall_curve(all_labels[:, i], all_outputs[:, i])\n",
        "                plt.plot(recall, precision)\n",
        "\n",
        "        macro_f1 = np.mean(f1s)\n",
        "\n",
        "        if verbose:\n",
        "            print(f'Macro F1: {macro_f1:.3f}')\n",
        "            plt.legend(TOUCHE_VALUES)\n",
        "            plt.xlabel('Recall')\n",
        "            plt.ylabel('Precision')\n",
        "            plt.show()\n",
        "\n",
        "        return f1s, macro_f1"
      ],
      "metadata": {
        "id": "DQvBdbQlzwaH"
      },
      "execution_count": null,
      "outputs": []
    },
    {
      "cell_type": "code",
      "source": [
        "evaluate(majority_model, test_dataloader)"
      ],
      "metadata": {
        "colab": {
          "base_uri": "https://localhost:8080/",
          "height": 764
        },
        "id": "ZTBxyOc4S0vK",
        "outputId": "f92e2f50-6ac4-46c1-e72d-a46ab4879c8e"
      },
      "execution_count": null,
      "outputs": [
        {
          "output_type": "stream",
          "name": "stdout",
          "text": [
            "F1 for Openness to change: 0.0\n",
            "Precision for Openness to change: 0.0\n",
            "Recall for Openness to change: 0.0\n",
            "F1 for Self-enhancement: 0.0\n",
            "Precision for Self-enhancement: 0.0\n",
            "Recall for Self-enhancement: 0.0\n",
            "F1 for Conservation: 0.8304267161410019\n",
            "Precision for Conservation: 0.7100253807106599\n",
            "Recall for Conservation: 1.0\n",
            "F1 for Self-transcendence: 0.8917018284106892\n",
            "Precision for Self-transcendence: 0.8045685279187818\n",
            "Recall for Self-transcendence: 1.0\n",
            "Macro F1: 0.4305321361379228\n"
          ]
        },
        {
          "output_type": "stream",
          "name": "stderr",
          "text": [
            "/usr/local/lib/python3.10/dist-packages/sklearn/metrics/_classification.py:1344: UndefinedMetricWarning: Precision is ill-defined and being set to 0.0 due to no predicted samples. Use `zero_division` parameter to control this behavior.\n",
            "  _warn_prf(average, modifier, msg_start, len(result))\n",
            "/usr/local/lib/python3.10/dist-packages/sklearn/metrics/_classification.py:1344: UndefinedMetricWarning: Precision is ill-defined and being set to 0.0 due to no predicted samples. Use `zero_division` parameter to control this behavior.\n",
            "  _warn_prf(average, modifier, msg_start, len(result))\n"
          ]
        },
        {
          "output_type": "display_data",
          "data": {
            "text/plain": [
              "<Figure size 640x480 with 1 Axes>"
            ],
            "image/png": "[encoded data removed]"
          },
          "metadata": {}
        }
      ]
    },
    {
      "cell_type": "markdown",
      "metadata": {
        "id": "EwLSJRzg-TIF"
      },
      "source": [
        "# [Task 4 - 1.0 points] Training and Evaluation\n",
        "\n",
        "You are now tasked to train and evaluate **all** defined models."
      ]
    },
    {
      "cell_type": "markdown",
      "metadata": {
        "id": "QZPXEN97-TIF"
      },
      "source": [
        "### Instructions\n",
        "\n",
        "* Train **all** models on the train set.\n",
        "* Evaluate **all** models on the validation set.\n",
        "* Pick **at least** three seeds for robust estimation.\n",
        "* Compute metrics on the validation set.\n",
        "* Report **per-category** and **macro** F1-score for comparison."
      ]
    },
    {
      "cell_type": "code",
      "source": [
        "import warnings\n",
        "warnings.filterwarnings('ignore')"
      ],
      "metadata": {
        "id": "uvI2QYHjXmWF"
      },
      "execution_count": null,
      "outputs": []
    },
    {
      "cell_type": "code",
      "source": [
        "seeds = [42, 69,  420]\n",
        "\n",
        "results = {\n",
        "    'random' : [],\n",
        "    'majority' : [],\n",
        "    'bertc' : [],\n",
        "    'bertcp' : [],\n",
        "    'bertcps' : []\n",
        "}\n",
        "\n",
        "EPOCHS = 10\n",
        "INITIAL_LR = 0.01\n",
        "WEIGHT_DECAY = 0.01\n",
        "LR_DECAY_FACTOR = 0.1\n",
        "LR_DECAY_PATIENCE = 2\n",
        "HIDDEN_SIZE = 100\n",
        "DROPOUT = 0.2\n",
        "\n",
        "for seed in seeds:\n",
        "    torch.manual_seed(seed)\n",
        "    np.random.seed(seed)\n",
        "\n",
        "    models = {\n",
        "        'random' : RandomUniformClassifier((4,), device=device),\n",
        "        'majority' : build_majority_classifier(train_dataloader, device=device),\n",
        "        'bertc' : BERTC(tokenizer, base_model, 768, HIDDEN_SIZE, dropout_rate=DROPOUT, device=device),\n",
        "        'bertcp' : BERTCP(tokenizer, base_model, 768 * 2, HIDDEN_SIZE, dropout_rate=DROPOUT, device=device),\n",
        "        'bertcps' : BERTCPS(tokenizer, base_model, 768 * 2 + 2, HIDDEN_SIZE, dropout_rate=DROPOUT, device=device)\n",
        "    }\n",
        "\n",
        "    for model_name, model in models.items():\n",
        "        torch.manual_seed(seed)\n",
        "        np.random.seed(seed)\n",
        "\n",
        "        if model_name.startswith('bert'):\n",
        "            train(model, train_dataloader, val_dataloader, loss_function, EPOCHS, INITIAL_LR, WEIGHT_DECAY, LR_DECAY_FACTOR, LR_DECAY_PATIENCE)\n",
        "\n",
        "        f1s, macro_f1 = evaluate(model, test_dataloader, verbose=False)\n",
        "        results[model_name].append({\n",
        "            'f1s' : np.array(f1s),\n",
        "            'macro_f1' : macro_f1\n",
        "        })\n",
        "\n",
        "for model_name, model_results in results.items():\n",
        "    all_f1s = []\n",
        "    macro_f1s = []\n",
        "    for model_result in model_results:\n",
        "        all_f1s.append(model_result['f1s'])\n",
        "        macro_f1s.append(model_result['macro_f1'])\n",
        "\n",
        "    print(f'{model_name}:')\n",
        "    all_f1s = np.array(all_f1s)\n",
        "    for i, value_name in enumerate(TOUCHE_VALUES):\n",
        "        print(f'{value_name} F1: {all_f1s[:, i].mean():.3f}')\n",
        "    print(f'Macro F1: {np.mean(macro_f1s):.3f}')\n",
        "    print()"
      ],
      "metadata": {
        "colab": {
          "base_uri": "https://localhost:8080/"
        },
        "id": "rguP_SMjPcj-",
        "outputId": "621cbf1f-a409-44c6-ac51-9cefcfa585d2"
      },
      "execution_count": null,
      "outputs": [
        {
          "output_type": "stream",
          "name": "stdout",
          "text": [
            "random:\n",
            "Openness to change F1: 0.366\n",
            "Self-enhancement F1: 0.434\n",
            "Conservation F1: 0.571\n",
            "Self-transcendence F1: 0.619\n",
            "Macro F1: 0.497\n",
            "\n",
            "majority:\n",
            "Openness to change F1: 0.000\n",
            "Self-enhancement F1: 0.000\n",
            "Conservation F1: 0.830\n",
            "Self-transcendence F1: 0.892\n",
            "Macro F1: 0.431\n",
            "\n"
          ]
        }
      ]
    },
    {
      "cell_type": "markdown",
      "metadata": {
        "id": "12Wfaf-6-TIG"
      },
      "source": [
        "# [Task 5 - 1.0 points] Error Analysis\n",
        "\n",
        "You are tasked to discuss your results."
      ]
    },
    {
      "cell_type": "markdown",
      "metadata": {
        "id": "nAvb0pn4-TIG"
      },
      "source": [
        "### Instructions\n",
        "\n",
        "* **Compare** classification performance of BERT-based models with respect to baselines.\n",
        "* Discuss **difference in prediction** between the best performing BERT-based model and its variants."
      ]
    },
    {
      "cell_type": "markdown",
      "metadata": {
        "id": "ZOgTKO_D-TIG"
      },
      "source": [
        "### Notes\n",
        "\n",
        "You can check the [original paper](https://aclanthology.org/2022.acl-long.306/) for suggestions on how to perform comparisons (e.g., plots, tables, etc...)."
      ]
    },
    {
      "cell_type": "markdown",
      "metadata": {
        "id": "2SCYV1Rm-TIG"
      },
      "source": [
        "# [Task 6 - 1.0 points] Report\n",
        "\n",
        "Wrap up your experiment in a short report (up to 2 pages)."
      ]
    },
    {
      "cell_type": "markdown",
      "metadata": {
        "id": "KRe1tmJM-TIG"
      },
      "source": [
        "### Instructions\n",
        "\n",
        "* Use the NLP course report template.\n",
        "* Summarize each task in the report following the provided template."
      ]
    },
    {
      "cell_type": "markdown",
      "metadata": {
        "id": "oFLxAe69-TIG"
      },
      "source": [
        "### Recommendations\n",
        "\n",
        "The report is not a copy-paste of graphs, tables, and command outputs.\n",
        "\n",
        "* Summarize classification performance in Table format.\n",
        "* **Do not** report command outputs or screenshots.\n",
        "* Report learning curves in Figure format.\n",
        "* The error analysis section should summarize your findings."
      ]
    },
    {
      "cell_type": "markdown",
      "metadata": {
        "id": "jc9oVF8a-TIG"
      },
      "source": [
        "# Submission\n",
        "\n",
        "* **Submit** your report in PDF format.\n",
        "* **Submit** your python notebook.\n",
        "* Make sure your notebook is **well organized**, with no temporary code, commented sections, tests, etc...\n",
        "* You can upload **model weights** in a cloud repository and report the link in the report."
      ]
    },
    {
      "cell_type": "markdown",
      "metadata": {
        "id": "LWzguxfm-TIH"
      },
      "source": [
        "# FAQ\n",
        "\n",
        "Please check this frequently asked questions before contacting us"
      ]
    },
    {
      "cell_type": "markdown",
      "metadata": {
        "id": "yuawSHTB-TIH"
      },
      "source": [
        "### Model card\n",
        "\n",
        "You are **free** to choose the BERT-base model card you like from huggingface."
      ]
    },
    {
      "cell_type": "markdown",
      "metadata": {
        "id": "Ky0EIEz0-TIH"
      },
      "source": [
        "### Model architecture\n",
        "\n",
        "You **should not** change the architecture of a model (i.e., its layers).\n",
        "\n",
        "However, you are **free** to play with their hyper-parameters."
      ]
    },
    {
      "cell_type": "markdown",
      "metadata": {
        "id": "Vb8tiVVt-TIH"
      },
      "source": [
        "### Model Training\n",
        "\n",
        "You are **free** to choose training hyper-parameters for BERT-based models (e.g., number of epochs, etc...)."
      ]
    },
    {
      "cell_type": "markdown",
      "metadata": {
        "id": "Oq6fKcBu-TIP"
      },
      "source": [
        "### Neural Libraries\n",
        "\n",
        "You are **free** to use any library of your choice to address the assignment (e.g., Keras, Tensorflow, PyTorch, JAX, etc...)"
      ]
    },
    {
      "cell_type": "markdown",
      "metadata": {
        "id": "qN9I3wDl-TIP"
      },
      "source": [
        "### Error Analysis\n",
        "\n",
        "Some topics for discussion include:\n",
        "   * Model performance on most/less frequent classes.\n",
        "   * Precision/Recall curves.\n",
        "   * Confusion matrices.\n",
        "   * Specific misclassified samples."
      ]
    },
    {
      "cell_type": "markdown",
      "metadata": {
        "id": "eWygKV0y-TIP"
      },
      "source": [
        "# The End"
      ]
    }
  ],
  "metadata": {
    "celltoolbar": "Slideshow",
    "colab": {
      "provenance": [],
      "gpuType": "T4"
    },
    "kernelspec": {
      "display_name": "Python 3",
      "name": "python3"
    },
    "language_info": {
      "codemirror_mode": {
        "name": "ipython",
        "version": 3
      },
      "file_extension": ".py",
      "mimetype": "text/x-python",
      "name": "python",
      "nbconvert_exporter": "python",
      "pygments_lexer": "ipython3",
      "version": "3.7.16"
    },
    "accelerator": "GPU"
  },
  "nbformat": 4,
  "nbformat_minor": 0
}