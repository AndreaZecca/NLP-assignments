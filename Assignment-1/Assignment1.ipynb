{
  "cells": [
    {
      "cell_type": "markdown",
      "metadata": {
        "id": "-WeCeITXoxLf"
      },
      "source": [
        "# Assignment 1\n",
        "\n",
        "**Credits**: Federico Ruggeri, Eleonora Mancini, Paolo Torroni\n",
        "\n",
        "**Keywords**: POS tagging, Sequence labelling, RNNs"
      ]
    },
    {
      "cell_type": "markdown",
      "metadata": {
        "id": "mEMlC0FYO0l2"
      },
      "source": [
        "\n",
        "# Contact\n",
        "\n",
        "For any doubt, question, issue or help, you can always contact us at the following email addresses:\n",
        "\n",
        "Teaching Assistants:\n",
        "\n",
        "* Federico Ruggeri -> federico.ruggeri6@unibo.it\n",
        "* Eleonora Mancini -> e.mancini@unibo.it\n",
        "\n",
        "Professor:\n",
        "\n",
        "* Paolo Torroni -> p.torroni@unibo.it"
      ]
    },
    {
      "cell_type": "markdown",
      "metadata": {
        "id": "tDP-HaMpO0l3"
      },
      "source": [
        "# Introduction\n",
        "\n",
        "You are tasked to address the task of POS tagging.\n",
        "\n",
        "<center>\n",
        "    <img src=\"./images/pos_tagging.png\" alt=\"POS tagging\" />\n",
        "</center>"
      ]
    },
    {
      "cell_type": "code",
      "execution_count": 77,
      "metadata": {
        "id": "Kd1J3ALIqdcH"
      },
      "outputs": [],
      "source": [
        "# best models is a dictionary to store the best models for each seed\n",
        "# best losses keep track of the best loss for each seed after a training loop, so that we can re-train the model without\n",
        "#   loosing the best model after the first iteration\n",
        "# total epochs is a dictionary to keep track of the total epochs for each seed, just for information purposes\n",
        "# run this cell only once\n",
        "\n",
        "rerun = False\n",
        "\n",
        "if rerun:\n",
        "    best_models = {}\n",
        "    best_losses = {}\n",
        "    total_epochs = {}"
      ]
    },
    {
      "cell_type": "code",
      "execution_count": 78,
      "metadata": {
        "id": "c7ApYRXjqdcI"
      },
      "outputs": [],
      "source": [
        "import os\n",
        "import pandas as pd\n",
        "import numpy as np\n",
        "import random\n",
        "import warnings\n",
        "from collections import OrderedDict\n",
        "import pickle\n",
        "import re\n",
        "import torch\n",
        "from torchtext.vocab import GloVe\n",
        "import torch.nn as nn\n",
        "import torch.nn.functional as F\n",
        "from sklearn.metrics import f1_score\n",
        "from torch.utils.data import Dataset, DataLoader\n",
        "import torch.nn.utils.rnn as rnn\n",
        "import time\n",
        "from torch.nn import CrossEntropyLoss\n",
        "from torch.optim import Adam\n",
        "from sklearn.metrics import classification_report\n",
        "import matplotlib.pyplot as plt\n",
        "import seaborn as sn\n",
        "from sklearn.metrics import confusion_matrix\n",
        "from operator import itemgetter\n",
        "import spacy\n",
        "\n",
        "SEED = 2\n",
        "DATA_FOLDER = './data'\n",
        "WEIGHTS_FOLDER = './weights'\n",
        "\n",
        "LOWER = True\n",
        "\n",
        "NUMBER = False\n",
        "NUM_RE = r\"(\\d*\\,)?\\d+.\\d*\"\n",
        "NUM_TOKEN = '<num>'\n",
        "\n",
        "NER = False\n",
        "NER_TOKEN = {\n",
        "    'CARDINAL' : '<num>',\n",
        "    'ORG' : '<org>',\n",
        "    'PERSON' : '<per>',\n",
        "}\n",
        "\n",
        "\n",
        "PAD_INDEX = 0\n",
        "PAD_TOKEN = '<pad>'\n",
        "\n",
        "EMBEDDING_DIMENSION = 300\n",
        "OOV_EMBEDDING_TYPE = 'random' # either \"mean\" or \"random\"\n",
        "MEAN_EMBEDDING_WINDOW = 1\n",
        "FIXED_OOV = False\n",
        "FIXED_OOV_VECTOR = np.random.uniform(low=-0.05, high=0.05, size=EMBEDDING_DIMENSION)\n",
        "\n",
        "BATCH_SIZE = 16\n",
        "\n",
        "random.seed(SEED)\n",
        "np.random.seed(SEED)\n",
        "warnings.filterwarnings('ignore')\n",
        "torch.manual_seed(SEED)\n",
        "torch.backends.cudnn.benchmark = False\n",
        "torch.backends.cudnn.deterministic = True\n",
        "nlp = spacy.load('en_core_web_sm')"
      ]
    },
    {
      "cell_type": "markdown",
      "metadata": {
        "id": "sr8QdeOXO0l4"
      },
      "source": [
        "# [Task 1 - 0.5 points] Corpus\n",
        "\n",
        "You are going to work with the [Penn TreeBank corpus](https://raw.githubusercontent.com/nltk/nltk_data/gh-pages/packages/corpora/dependency_treebank.zip).\n",
        "\n",
        "**Ignore** the numeric value in the third column, use **only** the words/symbols and their POS label.\n",
        "\n",
        "### Example\n",
        "\n",
        "```Pierre\tNNP\t2\n",
        "Vinken\tNNP\t8\n",
        ",\t,\t2\n",
        "61\tCD\t5\n",
        "years\tNNS\t6\n",
        "old\tJJ\t2\n",
        ",\t,\t2\n",
        "will\tMD\t0\n",
        "join\tVB\t8\n",
        "the\tDT\t11\n",
        "board\tNN\t9\n",
        "as\tIN\t9\n",
        "a\tDT\t15\n",
        "nonexecutive\tJJ\t15\n",
        "director\tNN\t12\n",
        "Nov.\tNNP\t9\n",
        "29\tCD\t16\n",
        ".\t.\t8\n",
        "```"
      ]
    },
    {
      "cell_type": "markdown",
      "metadata": {
        "id": "Dd_jkm9hO0l5"
      },
      "source": [
        "### Splits\n",
        "\n",
        "The corpus contains 200 documents.\n",
        "\n",
        "   * **Train**: Documents 1-100\n",
        "   * **Validation**: Documents 101-150\n",
        "   * **Test**: Documents 151-199"
      ]
    },
    {
      "cell_type": "markdown",
      "metadata": {
        "id": "4Hx0FbERO0l6"
      },
      "source": [
        "### Instructions\n",
        "\n",
        "* **Download** the corpus.\n",
        "* **Encode** the corpus into a pandas.DataFrame object.\n",
        "* **Split** it in training, validation, and test sets."
      ]
    },
    {
      "cell_type": "code",
      "execution_count": 79,
      "metadata": {
        "id": "YpKS7sJpqdcJ"
      },
      "outputs": [],
      "source": [
        "def mask_number(text):\n",
        "    try:\n",
        "        if re.match(NUM_RE, text):\n",
        "            return NUM_TOKEN\n",
        "        else:\n",
        "            return text\n",
        "    except:\n",
        "        return text\n",
        "\n",
        "def mask_ner(text_tokens):\n",
        "    text_tokens_str = [str(token) for token in text_tokens]\n",
        "    text = ' '.join(text_tokens_str)\n",
        "    doc = nlp(text)\n",
        "    for ent in doc.ents:\n",
        "      if ent.label_ in NER_TOKEN:\n",
        "          for sub_token in ent.text.split():\n",
        "            text_tokens[text_tokens == sub_token] = NER_TOKEN[ent.label_]\n",
        "    return text_tokens"
      ]
    },
    {
      "cell_type": "code",
      "execution_count": 80,
      "metadata": {
        "id": "CCvjLqXxqdcJ"
      },
      "outputs": [],
      "source": [
        "def preprcess_dataset(df) -> pd.DataFrame:\n",
        "  \"\"\"\n",
        "    Preprocess the dataset, lowercase the words and/or mask the numbers\n",
        "  \"\"\"\n",
        "  if NER:\n",
        "    df['word'] = mask_ner(df['word'])\n",
        "  if LOWER:\n",
        "    df['word'] = df[\"word\"].str.lower()\n",
        "  if NUMBER:\n",
        "    df['word'] = df['word'].apply(mask_number)\n",
        "  return df\n",
        "\n",
        "def encode_dataset(dataset_name: str) -> pd.DataFrame:\n",
        "  \"\"\"\n",
        "    Encode the dataset as a pandas dataframe, each row is a sentence, each sentence is a list of words and a list of corresponding tags\n",
        "  \"\"\"\n",
        "  dataset_folder = os.path.join(DATA_FOLDER+ \"/dataset\")\n",
        "\n",
        "  dataframe_rows = []\n",
        "  unique_tags = set()\n",
        "  unique_words = set()\n",
        "\n",
        "  for doc in sorted(os.listdir(dataset_folder)):\n",
        "    if doc.endswith(\".csv\") or doc.endswith(\".pkl\"): continue\n",
        "    doc_num = int(doc[5:8])\n",
        "    doc_path = os.path.join(dataset_folder,doc)\n",
        "\n",
        "    with open(doc_path, mode='r', encoding='utf-8') as file:\n",
        "      df = pd.read_csv(file,sep='\\t', header=None, skip_blank_lines=False)\n",
        "      df.rename(columns={0:'word', 1:\"TAG\", 2:\"remove\"}, inplace=True)\n",
        "      df.drop(\"remove\", axis=1, inplace=True)\n",
        "\n",
        "      df = preprcess_dataset(df)\n",
        "\n",
        "      df[\"group_num\"] = df.isnull().all(axis=1).cumsum()\n",
        "      df.dropna(inplace=True)\n",
        "      df.reset_index(drop=True, inplace=True)\n",
        "\n",
        "      unique_tags.update(df['TAG'].unique())\n",
        "      unique_words.update(df['word'].unique())\n",
        "\n",
        "      df_list = [df.iloc[rows] for _, rows in df.groupby('group_num').groups.items()]\n",
        "      for n,d in enumerate(df_list):\n",
        "          dataframe_row = {\n",
        "              \"split\" : 'train' if doc_num<=100 else ('val' if doc_num<=150  else 'test'),\n",
        "              \"doc_id\" : doc_num,\n",
        "              \"sentence_num\" : n,\n",
        "              \"words\": d['word'].tolist(),\n",
        "              \"tags\":  d['TAG'].tolist(),\n",
        "              \"num_tokens\": len(d['word'])\n",
        "          }\n",
        "          dataframe_rows.append(dataframe_row)\n",
        "\n",
        "  dataframe_path = os.path.join(DATA_FOLDER, dataset_name)\n",
        "  df_final = pd.DataFrame(dataframe_rows)\n",
        "  df_final.to_csv(dataframe_path + \".csv\")\n",
        "\n",
        "  unique_tags_words_path = os.path.join(DATA_FOLDER, \"unique_tags_words.pkl\")\n",
        "  unique_tags_words = [unique_tags, unique_words]\n",
        "  with open(unique_tags_words_path, 'wb') as f:\n",
        "    pickle.dump(unique_tags_words, f)\n",
        "\n",
        "  return  df_final, unique_tags, unique_words\n",
        "\n",
        "df, unique_tags, unique_words = encode_dataset(\"encoded_dataset\")"
      ]
    },
    {
      "cell_type": "code",
      "execution_count": 81,
      "metadata": {
        "colab": {
          "base_uri": "https://localhost:8080/",
          "height": 143
        },
        "id": "135YHdmjPj60",
        "outputId": "bdd95ffe-b0dc-477f-ea7d-bf7da312c06b"
      },
      "outputs": [
        {
          "output_type": "execute_result",
          "data": {
            "text/plain": [
              "      split  doc_id  sentence_num  \\\n",
              "0     train       1             0   \n",
              "1975    val     101            12   \n",
              "3262   test     151             0   \n",
              "\n",
              "                                                  words  \\\n",
              "0     [pierre, vinken, ,, 61, years, old, ,, will, j...   \n",
              "1975  [about, a, quarter, of, this, share, has, alre...   \n",
              "3262  [intelogic, trace, inc., ,, san, antonio, ,, t...   \n",
              "\n",
              "                                                   tags  num_tokens  \n",
              "0     [NNP, NNP, ,, CD, NNS, JJ, ,, MD, VB, DT, NN, ...          18  \n",
              "1975  [IN, DT, NN, IN, DT, NN, VBZ, RB, VBN, VBN, ,,...          51  \n",
              "3262  [NNP, NNP, NNP, ,, NNP, NNP, ,, NNP, ,, VBD, P...          40  "
            ],
            "text/html": [
              "\n",
              "  <div id=\"df-5c6a3663-4758-41e0-9c73-93439c6a768d\" class=\"colab-df-container\">\n",
              "    <div>\n",
              "<style scoped>\n",
              "    .dataframe tbody tr th:only-of-type {\n",
              "        vertical-align: middle;\n",
              "    }\n",
              "\n",
              "    .dataframe tbody tr th {\n",
              "        vertical-align: top;\n",
              "    }\n",
              "\n",
              "    .dataframe thead th {\n",
              "        text-align: right;\n",
              "    }\n",
              "</style>\n",
              "<table border=\"1\" class=\"dataframe\">\n",
              "  <thead>\n",
              "    <tr style=\"text-align: right;\">\n",
              "      <th></th>\n",
              "      <th>split</th>\n",
              "      <th>doc_id</th>\n",
              "      <th>sentence_num</th>\n",
              "      <th>words</th>\n",
              "      <th>tags</th>\n",
              "      <th>num_tokens</th>\n",
              "    </tr>\n",
              "  </thead>\n",
              "  <tbody>\n",
              "    <tr>\n",
              "      <th>0</th>\n",
              "      <td>train</td>\n",
              "      <td>1</td>\n",
              "      <td>0</td>\n",
              "      <td>[pierre, vinken, ,, 61, years, old, ,, will, j...</td>\n",
              "      <td>[NNP, NNP, ,, CD, NNS, JJ, ,, MD, VB, DT, NN, ...</td>\n",
              "      <td>18</td>\n",
              "    </tr>\n",
              "    <tr>\n",
              "      <th>1975</th>\n",
              "      <td>val</td>\n",
              "      <td>101</td>\n",
              "      <td>12</td>\n",
              "      <td>[about, a, quarter, of, this, share, has, alre...</td>\n",
              "      <td>[IN, DT, NN, IN, DT, NN, VBZ, RB, VBN, VBN, ,,...</td>\n",
              "      <td>51</td>\n",
              "    </tr>\n",
              "    <tr>\n",
              "      <th>3262</th>\n",
              "      <td>test</td>\n",
              "      <td>151</td>\n",
              "      <td>0</td>\n",
              "      <td>[intelogic, trace, inc., ,, san, antonio, ,, t...</td>\n",
              "      <td>[NNP, NNP, NNP, ,, NNP, NNP, ,, NNP, ,, VBD, P...</td>\n",
              "      <td>40</td>\n",
              "    </tr>\n",
              "  </tbody>\n",
              "</table>\n",
              "</div>\n",
              "    <div class=\"colab-df-buttons\">\n",
              "\n",
              "  <div class=\"colab-df-container\">\n",
              "    <button class=\"colab-df-convert\" onclick=\"convertToInteractive('df-5c6a3663-4758-41e0-9c73-93439c6a768d')\"\n",
              "            title=\"Convert this dataframe to an interactive table.\"\n",
              "            style=\"display:none;\">\n",
              "\n",
              "  <svg xmlns=\"http://www.w3.org/2000/svg\" height=\"24px\" viewBox=\"0 -960 960 960\">\n",
              "    <path d=\"M120-120v-720h720v720H120Zm60-500h600v-160H180v160Zm220 220h160v-160H400v160Zm0 220h160v-160H400v160ZM180-400h160v-160H180v160Zm440 0h160v-160H620v160ZM180-180h160v-160H180v160Zm440 0h160v-160H620v160Z\"/>\n",
              "  </svg>\n",
              "    </button>\n",
              "\n",
              "  <style>\n",
              "    .colab-df-container {\n",
              "      display:flex;\n",
              "      gap: 12px;\n",
              "    }\n",
              "\n",
              "    .colab-df-convert {\n",
              "      background-color: #E8F0FE;\n",
              "      border: none;\n",
              "      border-radius: 50%;\n",
              "      cursor: pointer;\n",
              "      display: none;\n",
              "      fill: #1967D2;\n",
              "      height: 32px;\n",
              "      padding: 0 0 0 0;\n",
              "      width: 32px;\n",
              "    }\n",
              "\n",
              "    .colab-df-convert:hover {\n",
              "      background-color: #E2EBFA;\n",
              "      box-shadow: 0px 1px 2px rgba(60, 64, 67, 0.3), 0px 1px 3px 1px rgba(60, 64, 67, 0.15);\n",
              "      fill: #174EA6;\n",
              "    }\n",
              "\n",
              "    .colab-df-buttons div {\n",
              "      margin-bottom: 4px;\n",
              "    }\n",
              "\n",
              "    [theme=dark] .colab-df-convert {\n",
              "      background-color: #3B4455;\n",
              "      fill: #D2E3FC;\n",
              "    }\n",
              "\n",
              "    [theme=dark] .colab-df-convert:hover {\n",
              "      background-color: #434B5C;\n",
              "      box-shadow: 0px 1px 3px 1px rgba(0, 0, 0, 0.15);\n",
              "      filter: drop-shadow(0px 1px 2px rgba(0, 0, 0, 0.3));\n",
              "      fill: #FFFFFF;\n",
              "    }\n",
              "  </style>\n",
              "\n",
              "    <script>\n",
              "      const buttonEl =\n",
              "        document.querySelector('#df-5c6a3663-4758-41e0-9c73-93439c6a768d button.colab-df-convert');\n",
              "      buttonEl.style.display =\n",
              "        google.colab.kernel.accessAllowed ? 'block' : 'none';\n",
              "\n",
              "      async function convertToInteractive(key) {\n",
              "        const element = document.querySelector('#df-5c6a3663-4758-41e0-9c73-93439c6a768d');\n",
              "        const dataTable =\n",
              "          await google.colab.kernel.invokeFunction('convertToInteractive',\n",
              "                                                    [key], {});\n",
              "        if (!dataTable) return;\n",
              "\n",
              "        const docLinkHtml = 'Like what you see? Visit the ' +\n",
              "          '<a target=\"_blank\" href=https://colab.research.google.com/notebooks/data_table.ipynb>data table notebook</a>'\n",
              "          + ' to learn more about interactive tables.';\n",
              "        element.innerHTML = '';\n",
              "        dataTable['output_type'] = 'display_data';\n",
              "        await google.colab.output.renderOutput(dataTable, element);\n",
              "        const docLink = document.createElement('div');\n",
              "        docLink.innerHTML = docLinkHtml;\n",
              "        element.appendChild(docLink);\n",
              "      }\n",
              "    </script>\n",
              "  </div>\n",
              "\n",
              "\n",
              "<div id=\"df-50bda360-a71e-4fe6-99a1-3e48815ebd1a\">\n",
              "  <button class=\"colab-df-quickchart\" onclick=\"quickchart('df-50bda360-a71e-4fe6-99a1-3e48815ebd1a')\"\n",
              "            title=\"Suggest charts\"\n",
              "            style=\"display:none;\">\n",
              "\n",
              "<svg xmlns=\"http://www.w3.org/2000/svg\" height=\"24px\"viewBox=\"0 0 24 24\"\n",
              "     width=\"24px\">\n",
              "    <g>\n",
              "        <path d=\"M19 3H5c-1.1 0-2 .9-2 2v14c0 1.1.9 2 2 2h14c1.1 0 2-.9 2-2V5c0-1.1-.9-2-2-2zM9 17H7v-7h2v7zm4 0h-2V7h2v10zm4 0h-2v-4h2v4z\"/>\n",
              "    </g>\n",
              "</svg>\n",
              "  </button>\n",
              "\n",
              "<style>\n",
              "  .colab-df-quickchart {\n",
              "      --bg-color: #E8F0FE;\n",
              "      --fill-color: #1967D2;\n",
              "      --hover-bg-color: #E2EBFA;\n",
              "      --hover-fill-color: #174EA6;\n",
              "      --disabled-fill-color: #AAA;\n",
              "      --disabled-bg-color: #DDD;\n",
              "  }\n",
              "\n",
              "  [theme=dark] .colab-df-quickchart {\n",
              "      --bg-color: #3B4455;\n",
              "      --fill-color: #D2E3FC;\n",
              "      --hover-bg-color: #434B5C;\n",
              "      --hover-fill-color: #FFFFFF;\n",
              "      --disabled-bg-color: #3B4455;\n",
              "      --disabled-fill-color: #666;\n",
              "  }\n",
              "\n",
              "  .colab-df-quickchart {\n",
              "    background-color: var(--bg-color);\n",
              "    border: none;\n",
              "    border-radius: 50%;\n",
              "    cursor: pointer;\n",
              "    display: none;\n",
              "    fill: var(--fill-color);\n",
              "    height: 32px;\n",
              "    padding: 0;\n",
              "    width: 32px;\n",
              "  }\n",
              "\n",
              "  .colab-df-quickchart:hover {\n",
              "    background-color: var(--hover-bg-color);\n",
              "    box-shadow: 0 1px 2px rgba(60, 64, 67, 0.3), 0 1px 3px 1px rgba(60, 64, 67, 0.15);\n",
              "    fill: var(--button-hover-fill-color);\n",
              "  }\n",
              "\n",
              "  .colab-df-quickchart-complete:disabled,\n",
              "  .colab-df-quickchart-complete:disabled:hover {\n",
              "    background-color: var(--disabled-bg-color);\n",
              "    fill: var(--disabled-fill-color);\n",
              "    box-shadow: none;\n",
              "  }\n",
              "\n",
              "  .colab-df-spinner {\n",
              "    border: 2px solid var(--fill-color);\n",
              "    border-color: transparent;\n",
              "    border-bottom-color: var(--fill-color);\n",
              "    animation:\n",
              "      spin 1s steps(1) infinite;\n",
              "  }\n",
              "\n",
              "  @keyframes spin {\n",
              "    0% {\n",
              "      border-color: transparent;\n",
              "      border-bottom-color: var(--fill-color);\n",
              "      border-left-color: var(--fill-color);\n",
              "    }\n",
              "    20% {\n",
              "      border-color: transparent;\n",
              "      border-left-color: var(--fill-color);\n",
              "      border-top-color: var(--fill-color);\n",
              "    }\n",
              "    30% {\n",
              "      border-color: transparent;\n",
              "      border-left-color: var(--fill-color);\n",
              "      border-top-color: var(--fill-color);\n",
              "      border-right-color: var(--fill-color);\n",
              "    }\n",
              "    40% {\n",
              "      border-color: transparent;\n",
              "      border-right-color: var(--fill-color);\n",
              "      border-top-color: var(--fill-color);\n",
              "    }\n",
              "    60% {\n",
              "      border-color: transparent;\n",
              "      border-right-color: var(--fill-color);\n",
              "    }\n",
              "    80% {\n",
              "      border-color: transparent;\n",
              "      border-right-color: var(--fill-color);\n",
              "      border-bottom-color: var(--fill-color);\n",
              "    }\n",
              "    90% {\n",
              "      border-color: transparent;\n",
              "      border-bottom-color: var(--fill-color);\n",
              "    }\n",
              "  }\n",
              "</style>\n",
              "\n",
              "  <script>\n",
              "    async function quickchart(key) {\n",
              "      const quickchartButtonEl =\n",
              "        document.querySelector('#' + key + ' button');\n",
              "      quickchartButtonEl.disabled = true;  // To prevent multiple clicks.\n",
              "      quickchartButtonEl.classList.add('colab-df-spinner');\n",
              "      try {\n",
              "        const charts = await google.colab.kernel.invokeFunction(\n",
              "            'suggestCharts', [key], {});\n",
              "      } catch (error) {\n",
              "        console.error('Error during call to suggestCharts:', error);\n",
              "      }\n",
              "      quickchartButtonEl.classList.remove('colab-df-spinner');\n",
              "      quickchartButtonEl.classList.add('colab-df-quickchart-complete');\n",
              "    }\n",
              "    (() => {\n",
              "      let quickchartButtonEl =\n",
              "        document.querySelector('#df-50bda360-a71e-4fe6-99a1-3e48815ebd1a button');\n",
              "      quickchartButtonEl.style.display =\n",
              "        google.colab.kernel.accessAllowed ? 'block' : 'none';\n",
              "    })();\n",
              "  </script>\n",
              "</div>\n",
              "    </div>\n",
              "  </div>\n"
            ]
          },
          "metadata": {},
          "execution_count": 81
        }
      ],
      "source": [
        "df.sort_values(\"doc_id\").groupby('split').head(1)"
      ]
    },
    {
      "cell_type": "code",
      "execution_count": 82,
      "metadata": {
        "id": "7Ynce_z1qdcK"
      },
      "outputs": [],
      "source": [
        "class Vocabulary:\n",
        "    def __init__(self, unique_tags, unique_words):\n",
        "        self.unique_tags = unique_tags\n",
        "        self.unique_words = unique_words\n",
        "        self.tag2int = {}\n",
        "        self.int2tag = {}\n",
        "        self.tag2int[PAD_TOKEN] = PAD_INDEX\n",
        "        self.int2tag[PAD_INDEX] = PAD_TOKEN\n",
        "        self.word2int = {}\n",
        "        self.int2word = {}\n",
        "        self.word2int[PAD_TOKEN] = PAD_INDEX\n",
        "        self.int2word[PAD_INDEX] = PAD_TOKEN\n",
        "        self.build_vocab()\n",
        "\n",
        "    def build_vocab(self):\n",
        "        for i, word in enumerate(self.unique_words):\n",
        "            self.word2int[word] = i+1\n",
        "            self.int2word[i+1] = word\n",
        "        for i, tag in enumerate(self.unique_tags):\n",
        "            self.tag2int[tag] = i+1\n",
        "            self.int2tag[i+1] = tag\n",
        "\n",
        "    def __len__(self):\n",
        "        return len(self.unique_words) + 1\n",
        "\n",
        "    def w2i(self, word):\n",
        "        return self.word2int[word]\n",
        "\n",
        "    def i2w(self, index):\n",
        "        return self.int2word[index]\n",
        "\n",
        "    def t2i(self, tag):\n",
        "        return self.tag2int[tag]\n",
        "\n",
        "    def i2t(self, index):\n",
        "        return self.int2tag[index]"
      ]
    },
    {
      "cell_type": "code",
      "execution_count": 83,
      "metadata": {
        "id": "HnPvsbn8qdcK"
      },
      "outputs": [],
      "source": [
        "vocab = Vocabulary(unique_tags, unique_words)"
      ]
    },
    {
      "cell_type": "code",
      "execution_count": 84,
      "metadata": {
        "id": "r_nawsS0qdcK"
      },
      "outputs": [],
      "source": [
        "def build_indexed_dataframe(df):\n",
        "    \"\"\"\n",
        "        Builds a dataframe with the same structure as the original one, but with the words and tags replaced by their index\n",
        "    \"\"\"\n",
        "    indexed_rows = []\n",
        "    for words,tags in zip(df['words'], df['tags']):\n",
        "        indexed_row = {'indexed_words': [vocab.w2i(word) for word in words], 'indexed_tags': [vocab.t2i(tag) for tag in tags]}\n",
        "        indexed_rows.append(indexed_row)\n",
        "\n",
        "    indexed_df = pd.DataFrame(indexed_rows)\n",
        "\n",
        "    indexed_df.insert(0,'split',df['split'])\n",
        "    indexed_df.insert(1,'num_tokens',df['num_tokens'])\n",
        "\n",
        "    indexed_df_path = os.path.join(DATA_FOLDER, \"indexed_dataset.pkl\")\n",
        "    indexed_df.to_pickle(indexed_df_path)\n",
        "\n",
        "    return indexed_df\n",
        "\n",
        "indexed_dataset = build_indexed_dataframe(df)\n"
      ]
    },
    {
      "cell_type": "markdown",
      "metadata": {
        "id": "MQvHxKRcO0l8"
      },
      "source": [
        "# [Task 2 - 0.5 points] Text encoding\n",
        "\n",
        "To train a neural POS tagger, you first need to encode text into numerical format."
      ]
    },
    {
      "cell_type": "markdown",
      "metadata": {
        "id": "0EnUuOWTO0l9"
      },
      "source": [
        "### Instructions\n",
        "\n",
        "* Embed words using **GloVe embeddings**.\n",
        "* You are **free** to pick any embedding dimension.\n",
        "* [Optional] You are free to experiment with text pre-processing: **make sure you do not delete any token!**"
      ]
    },
    {
      "cell_type": "code",
      "execution_count": 85,
      "metadata": {
        "id": "eVsfe-QKO0l9"
      },
      "outputs": [],
      "source": [
        "glove_embeddings = GloVe(name='42B', dim=EMBEDDING_DIMENSION)"
      ]
    },
    {
      "cell_type": "code",
      "execution_count": 86,
      "metadata": {
        "id": "bbvoppGqqdcL"
      },
      "outputs": [],
      "source": [
        "def get_oov_by_splits(splits, emb_model):\n",
        "    \"\"\"\n",
        "        Returns a dictionary with the oov words for each split\n",
        "    \"\"\"\n",
        "    oov_by_split = {}\n",
        "    for split in splits:\n",
        "        oov_by_split[split] = set()\n",
        "        for words in df[df['split']==split]['words']:\n",
        "            for word in words:\n",
        "                if word not in emb_model.stoi:\n",
        "                    oov_by_split[split].add(word)\n",
        "    return oov_by_split\n",
        "\n",
        "def get_oov_neighbors(oovs, sentences):\n",
        "    \"\"\"\n",
        "        Returns a dictionary with the oov words and their neighbors\n",
        "    \"\"\"\n",
        "    oov_neighbors = {}\n",
        "    for oov in oovs:\n",
        "        oov_neighbors[oov] = set()\n",
        "        for sentence in sentences:\n",
        "            # Save all the words that are in a range of MEAN_EMBEDDING_WINDOW words before and after the oov word\n",
        "            if oov in sentence:\n",
        "                oov_idx = sentence.index(oov)\n",
        "                for i in range(max(0, oov_idx-MEAN_EMBEDDING_WINDOW), min(len(sentence), oov_idx+MEAN_EMBEDDING_WINDOW+1)):\n",
        "                    oov_neighbors[oov].add(sentence[i])\n",
        "    return oov_neighbors\n",
        "\n",
        "def build_split_matrix(oovs, oov_neighbors, emb_model):\n",
        "    embedding_matrix = np.zeros((len(vocab), EMBEDDING_DIMENSION), dtype=np.float32)\n",
        "    for word, idx in vocab.word2int.items():\n",
        "        if word in oovs:\n",
        "            neighboring_wvs = []\n",
        "            for neighbor in oov_neighbors[word]:\n",
        "                if neighbor not in oovs:\n",
        "                    neighboring_wvs.append(emb_model[neighbor])\n",
        "            # If there is at least one neighbor, compute the mean of their word vectors\n",
        "            if len(neighboring_wvs) > 1:\n",
        "                embedding_vector = torch.mean(torch.stack(neighboring_wvs), dim=0)\n",
        "            else:\n",
        "                embedding_vector = FIXED_OOV_VECTOR if FIXED_OOV else np.random.uniform(low=-0.05, high=0.05, size=EMBEDDING_DIMENSION)\n",
        "        else:\n",
        "            if word in emb_model.stoi:\n",
        "                embedding_vector = emb_model[word]\n",
        "            else: # Then it is an oov of val or test set\n",
        "                embedding_vector = FIXED_OOV_VECTOR if FIXED_OOV else np.random.uniform(low=-0.05, high=0.05, size=EMBEDDING_DIMENSION)\n",
        "        embedding_matrix[idx] = embedding_vector\n",
        "    return embedding_matrix"
      ]
    },
    {
      "cell_type": "code",
      "execution_count": 87,
      "metadata": {
        "id": "Hdd7Yzo7qdcM"
      },
      "outputs": [],
      "source": [
        "def build_embedding_matrix(emb_model):\n",
        "    \"\"\"\n",
        "        Creates the embedding matrix from the embedding model starting from the vocabulary and from pre-trained Glove embeddings\n",
        "    \"\"\"\n",
        "\n",
        "    embedding_matrix = np.zeros((len(vocab), EMBEDDING_DIMENSION), dtype=np.float32)    # len(vocab) already includes the padding token\n",
        "\n",
        "    if OOV_EMBEDDING_TYPE == 'random':\n",
        "\n",
        "        for word, idx in vocab.word2int.items():\n",
        "            if word in emb_model.stoi:\n",
        "                embedding_vector = emb_model[word]\n",
        "            else:\n",
        "                embedding_vector = FIXED_OOV_VECTOR if FIXED_OOV else np.random.uniform(low=-0.05, high=0.05, size=EMBEDDING_DIMENSION)\n",
        "            embedding_matrix[idx] = embedding_vector\n",
        "\n",
        "        path = os.path.join(DATA_FOLDER, \"emb_matrix\")\n",
        "        np.save(path, embedding_matrix, allow_pickle=True)\n",
        "\n",
        "        return embedding_matrix, None, None, None\n",
        "\n",
        "    if OOV_EMBEDDING_TYPE == 'mean':\n",
        "        oov_by_split = get_oov_by_splits(['train', 'val', 'test'], emb_model)\n",
        "\n",
        "        train_oov = oov_by_split['train']\n",
        "        train_oov.add(PAD_TOKEN)\n",
        "        print(\"OOVs in train set: \", len(train_oov))\n",
        "        print(\"example: \", list(train_oov)[:10])\n",
        "\n",
        "        val_oov = oov_by_split['val']\n",
        "        val_oov = val_oov - train_oov\n",
        "        print(\"OOVs in val set: \", len(val_oov))\n",
        "\n",
        "        test_oov = oov_by_split['test']\n",
        "        test_oov = test_oov - train_oov - val_oov\n",
        "        print(\"OOVs in test set: \", len(test_oov))\n",
        "\n",
        "        train_sentences = df[df['split']=='train']['words'].tolist()\n",
        "        train_oov_neighbors = get_oov_neighbors(train_oov, train_sentences)\n",
        "\n",
        "        embedding_matrix = build_split_matrix(train_oov, train_oov_neighbors, emb_model)\n",
        "\n",
        "        return embedding_matrix, train_oov, val_oov, test_oov\n",
        "\n",
        "\n",
        "embedding_matrix, train_oovs, val_oovs, test_oovs = build_embedding_matrix(glove_embeddings);"
      ]
    },
    {
      "cell_type": "code",
      "execution_count": 88,
      "metadata": {
        "id": "-L3ceydfqdcM"
      },
      "outputs": [],
      "source": [
        "def load_data():\n",
        "    \"\"\"\n",
        "        Loads the dataframe, the embedding matrix, the unique tags and unique words and the indexed dataframe\n",
        "    \"\"\"\n",
        "    df_path = os.path.join(DATA_FOLDER,'encoded_dataset.csv')\n",
        "    emb_matrix_path = os.path.join(DATA_FOLDER,'emb_matrix.npy')\n",
        "    unique_tags_words_path = os.path.join(DATA_FOLDER, \"unique_tags_words.pkl\")\n",
        "    indexed_dataset_path = os.path.join(DATA_FOLDER,'indexed_dataset.pkl')\n",
        "\n",
        "    if os.path.exists(emb_matrix_path) and os.path.exists(indexed_dataset_path) and os.path.exists(unique_tags_words_path) and os.path.exists(df_path):\n",
        "        emb_matrix = np.load(emb_matrix_path,allow_pickle=True)\n",
        "        indexed_dataset = pd.read_pickle(indexed_dataset_path)\n",
        "        unique_tags_words = pickle.load(open(unique_tags_words_path, 'rb'))\n",
        "        unique_tags, unique_words = unique_tags_words[0], unique_tags_words[1]\n",
        "        df = pd.read_csv(df_path, index_col=0)\n",
        "\n",
        "    else:\n",
        "        print('What you are looking for is not present in the folder')\n",
        "        return None, None, None, None, None, None\n",
        "\n",
        "    return df, emb_matrix, unique_tags, unique_words, indexed_dataset\n",
        "\n",
        "# Only if you want to load the data\n",
        "# df, embedding_matrix, unique_tags, unique_words, indexed_dataset = load_data()\n",
        "# vocab = Vocabulary(unique_tags, unique_words)"
      ]
    },
    {
      "cell_type": "markdown",
      "metadata": {
        "id": "N4AChgkfO0l_"
      },
      "source": [
        "# [Task 3 - 1.0 points] Model definition\n",
        "\n",
        "You are now tasked to define your neural POS tagger."
      ]
    },
    {
      "cell_type": "markdown",
      "metadata": {
        "id": "jkERwLU7O0l_"
      },
      "source": [
        "### Instructions\n",
        "\n",
        "* **Baseline**: implement a Bidirectional LSTM with a Dense layer on top.\n",
        "* You are **free** to experiment with hyper-parameters to define the baseline model.\n",
        "\n",
        "* **Model 1**: add an additional LSTM layer to the Baseline model.\n",
        "* **Model 2**: add an additional Dense layer to the Baseline model.\n",
        "\n",
        "* **Do not mix Model 1 and Model 2**. Each model has its own instructions.\n",
        "\n",
        "**Note**: if a document contains many tokens, you are **free** to split them into chunks or sentences to define your mini-batches."
      ]
    },
    {
      "cell_type": "markdown",
      "metadata": {
        "id": "babZmAQlWGIw"
      },
      "source": [
        "### Embedding layer"
      ]
    },
    {
      "cell_type": "code",
      "execution_count": 89,
      "metadata": {
        "id": "Issj3-NcqdcM"
      },
      "outputs": [],
      "source": [
        "def create_emb_layer(weights_matrix, pad_idx = PAD_INDEX):\n",
        "    \"\"\"\n",
        "        Creates the embedding layer from the embedding matrix\n",
        "    \"\"\"\n",
        "    matrix = torch.Tensor(weights_matrix)\n",
        "    emb_layer = nn.Embedding.from_pretrained(matrix, freeze=True, padding_idx = pad_idx)   #load pretrained weights in the layer and make it non-trainable\n",
        "    return emb_layer"
      ]
    },
    {
      "cell_type": "markdown",
      "metadata": {
        "id": "4AfDR1l1qdcN"
      },
      "source": [
        "### Baseline model"
      ]
    },
    {
      "cell_type": "code",
      "execution_count": 90,
      "metadata": {
        "id": "RSGVLm3iWF2a"
      },
      "outputs": [],
      "source": [
        "class Baseline(nn.Module):\n",
        "    def __init__(self, lstm_dimension, dense_dimension):\n",
        "        super().__init__()\n",
        "        self.embedding_layer = create_emb_layer(embedding_matrix)\n",
        "        self.bidirectional_layer = nn.LSTM(bidirectional=True, input_size=EMBEDDING_DIMENSION, hidden_size=lstm_dimension, batch_first=True)\n",
        "        self.dense_layer = nn.Linear(in_features=lstm_dimension*2, out_features=dense_dimension)\n",
        "\n",
        "    def forward(self, sentences, sentences_length):\n",
        "        embedded_sentences = self.embedding_layer(sentences)\n",
        "        packed_sentences = nn.utils.rnn.pack_padded_sequence(embedded_sentences, sentences_length, batch_first=True, enforce_sorted=False)\n",
        "        packed_output, _ = self.bidirectional_layer(packed_sentences)\n",
        "        output, _ = nn.utils.rnn.pad_packed_sequence(packed_output, batch_first=True)\n",
        "        output = self.dense_layer(output)\n",
        "        output = F.log_softmax(output, dim=2)\n",
        "        return output"
      ]
    },
    {
      "cell_type": "markdown",
      "metadata": {
        "id": "Zd-pJQyu6h-V"
      },
      "source": [
        "### Model 1"
      ]
    },
    {
      "cell_type": "code",
      "execution_count": 91,
      "metadata": {
        "id": "4pOy7gXR62UC"
      },
      "outputs": [],
      "source": [
        "class Model1(nn.Module):\n",
        "    def __init__(self, lstm_dimension, dense_dimension):\n",
        "        super().__init__()\n",
        "        self.embedding_layer = create_emb_layer(embedding_matrix)\n",
        "        self.bidirectional_layer_1 = nn.LSTM(bidirectional=True, input_size=EMBEDDING_DIMENSION, hidden_size=lstm_dimension, batch_first=True)\n",
        "        self.bidirectional_layer_2 = nn.LSTM(bidirectional=True, input_size=lstm_dimension*2, hidden_size=lstm_dimension, batch_first=True)\n",
        "        self.dense_layer = nn.Linear(in_features=lstm_dimension*2, out_features=dense_dimension)\n",
        "\n",
        "    def forward(self, sentences, sentences_length):\n",
        "        embedded_sentences = self.embedding_layer(sentences)\n",
        "        packed_sentences = nn.utils.rnn.pack_padded_sequence(embedded_sentences, sentences_length, batch_first=True, enforce_sorted=False)\n",
        "        packed_output, _ = self.bidirectional_layer_1(packed_sentences)\n",
        "        packed_output, _ = self.bidirectional_layer_2(packed_output)\n",
        "        output, _ = nn.utils.rnn.pad_packed_sequence(packed_output, batch_first=True)\n",
        "        output = self.dense_layer(output)\n",
        "        output = F.log_softmax(output, dim=2)\n",
        "        return output"
      ]
    },
    {
      "cell_type": "markdown",
      "metadata": {
        "id": "BY9Vy9997y5Q"
      },
      "source": [
        "### Model 2"
      ]
    },
    {
      "cell_type": "code",
      "execution_count": 92,
      "metadata": {
        "id": "_RM739C970T5"
      },
      "outputs": [],
      "source": [
        "class Model2(nn.Module):\n",
        "    def __init__(self, lstm_dimension, dense_dimension):\n",
        "        super().__init__()\n",
        "        self.embedding_layer = create_emb_layer(embedding_matrix)\n",
        "        self.bidirectional_layer = nn.LSTM(bidirectional=True, input_size=EMBEDDING_DIMENSION, hidden_size=lstm_dimension, batch_first=True)\n",
        "        self.dense_layer_1 = nn.Linear(in_features=lstm_dimension*2, out_features=dense_dimension)\n",
        "        self.dense_layer_2 = nn.Linear(in_features=dense_dimension, out_features=dense_dimension)\n",
        "\n",
        "    def forward(self, sentences, sentences_length):\n",
        "        embedded_sentences = self.embedding_layer(sentences)\n",
        "        packed_sentences = nn.utils.rnn.pack_padded_sequence(embedded_sentences, sentences_length, batch_first=True, enforce_sorted=False)\n",
        "        packed_output, _ = self.bidirectional_layer(packed_sentences)\n",
        "        output, _ = nn.utils.rnn.pad_packed_sequence(packed_output, batch_first=True)\n",
        "        output = self.dense_layer_1(output)\n",
        "        output = self.dense_layer_2(output)\n",
        "        output = F.log_softmax(output, dim=2)\n",
        "        return output"
      ]
    },
    {
      "cell_type": "markdown",
      "metadata": {
        "id": "p9vgsKiaO0mA"
      },
      "source": [
        "# [Task 4 - 1.0 points] Metrics\n",
        "\n",
        "Before training the models, you are tasked to define the evaluation metrics for comparison."
      ]
    },
    {
      "cell_type": "markdown",
      "metadata": {
        "id": "q_T6Bm1fO0mA"
      },
      "source": [
        "### Instructions\n",
        "\n",
        "* Evaluate your models using macro F1-score, compute over **all** tokens.\n",
        "* **Concatenate** all tokens in a data split to compute the F1-score. (**Hint**: accumulate FP, TP, FN, TN iteratively)\n",
        "* **Do not consider punctuation and symbol classes** $\\rightarrow$ [What is punctuation?](https://en.wikipedia.org/wiki/English_punctuation)"
      ]
    },
    {
      "cell_type": "markdown",
      "metadata": {
        "id": "NpoB8xTRO0mA"
      },
      "source": [
        "**Note**: What about OOV tokens?\n",
        "   * All the tokens in the **training** set that are not in GloVe are **not** considered as OOV\n",
        "   * For the remaining tokens (i.e., OOV in the validation and test sets), you have to assign them a **static** embedding.\n",
        "   * You are **free** to define the static embedding using any strategy (e.g., random, neighbourhood, etc...)"
      ]
    },
    {
      "cell_type": "code",
      "execution_count": 93,
      "metadata": {
        "id": "Xx7AKsk69Zcw"
      },
      "outputs": [],
      "source": [
        "def accuracy_and_f1(y_pred, y_true):\n",
        "    \"\"\"\n",
        "        Computes the accuracy and the f1 score\n",
        "    \"\"\"\n",
        "    correct = y_pred.eq(y_true)\n",
        "    acc = correct.sum()/y_true.shape[0]\n",
        "    f1 = f1_score(y_true, y_pred, average='macro')\n",
        "    return acc,f1"
      ]
    },
    {
      "cell_type": "markdown",
      "metadata": {
        "id": "RHsdrfEaqdcO"
      },
      "source": [
        "### Let's check our OOV tokens"
      ]
    },
    {
      "cell_type": "code",
      "execution_count": 94,
      "metadata": {
        "colab": {
          "base_uri": "https://localhost:8080/"
        },
        "id": "hFrYzM4dqdcO",
        "outputId": "6f75c8d6-d808-4779-bcb3-b8423734b5cf"
      },
      "outputs": [
        {
          "output_type": "stream",
          "name": "stdout",
          "text": [
            "Total number of unique words in dataset: 10947\n",
            "Total OOV terms: 356 (3.25%)\n"
          ]
        }
      ],
      "source": [
        "def check_OOV_terms(embedding_model, words):\n",
        "    \"\"\"\n",
        "        Checks the OOV terms in the dataset and returns the list of OOV terms and their indexes\n",
        "    \"\"\"\n",
        "    if train_oovs is not None:\n",
        "        oov_words = train_oovs.union(val_oovs).union(test_oovs)\n",
        "        int_oov_words = [vocab.w2i(word) for word in oov_words]\n",
        "    else:\n",
        "        oov_words = []\n",
        "        int_oov_words = []\n",
        "\n",
        "        for word in words:\n",
        "            if word not in embedding_model.itos:\n",
        "                oov_words.append(word)\n",
        "                int_oov_words.append(vocab.w2i(word))\n",
        "\n",
        "    print(\"Total number of unique words in dataset:\",len(words))\n",
        "    print(\"Total OOV terms: {0} ({1:.2f}%)\".format(len(oov_words), (float(len(oov_words)) / len(words))*100))\n",
        "    return oov_words, int_oov_words\n",
        "\n",
        "oov_words, int_oov_words = check_OOV_terms(glove_embeddings, unique_words)"
      ]
    },
    {
      "cell_type": "markdown",
      "metadata": {
        "id": "hy2OFkD_O0mA"
      },
      "source": [
        "# [Task 5 - 1.0 points] Training and Evaluation\n",
        "\n",
        "You are now tasked to train and evaluate the Baseline, Model 1, and Model 2."
      ]
    },
    {
      "cell_type": "markdown",
      "metadata": {
        "id": "_G20Sgu1O0mB"
      },
      "source": [
        "### Instructions\n",
        "\n",
        "* Train **all** models on the train set.\n",
        "* Evaluate **all** models on the validation set.\n",
        "* Compute metrics on the validation set.\n",
        "* Pick **at least** three seeds for robust estimation.\n",
        "* Pick the **best** performing model according to the observed validation set performance."
      ]
    },
    {
      "cell_type": "code",
      "execution_count": 95,
      "metadata": {
        "id": "Q_nD09EnqdcT"
      },
      "outputs": [],
      "source": [
        "def initialize_weights(model):\n",
        "    \"\"\"\n",
        "        Initializes the weights of the model\n",
        "    \"\"\"\n",
        "    for _, param in model.named_parameters():\n",
        "        if isinstance(model, nn.LSTM) or isinstance(model, nn.Linear):\n",
        "            nn.init.normal_(param.data, mean = 0, std = 0.1)"
      ]
    },
    {
      "cell_type": "code",
      "execution_count": 96,
      "metadata": {
        "id": "G3hhIQxZqdcU"
      },
      "outputs": [],
      "source": [
        "def number_parameters(model):\n",
        "    \"\"\"\n",
        "        Computes the number of trainable parameters in the model\n",
        "    \"\"\"\n",
        "    return sum(p.numel() for p in model.parameters() if p.requires_grad)"
      ]
    },
    {
      "cell_type": "code",
      "execution_count": 97,
      "metadata": {
        "id": "tPYvnHO8qdcU"
      },
      "outputs": [],
      "source": [
        "def get_to_be_masked_tags():\n",
        "    \"\"\"\n",
        "        Returns the tags that have to be masked\n",
        "    \"\"\"\n",
        "    punctuation_tags = ['$', '``', '.', ',', '#', 'SYM', ':', \"''\",'-RRB-','-LRB-']\n",
        "    token_punctuation = [vocab.t2i(tag) for tag in punctuation_tags]\n",
        "    return torch.LongTensor(token_punctuation+[PAD_INDEX])\n",
        "\n",
        "to_mask = get_to_be_masked_tags()\n",
        "\n",
        "def reshape_and_mask(predictions,targets):\n",
        "    \"\"\"\n",
        "        Reshapes the predictions and the targets and masks the elements that have to be masked\n",
        "    \"\"\"\n",
        "    non_masked_elements = torch.isin(targets, to_mask, invert=True)\n",
        "    return predictions[non_masked_elements],targets[non_masked_elements]\n"
      ]
    },
    {
      "cell_type": "code",
      "execution_count": 98,
      "metadata": {
        "id": "BdvD5aq-EiHV"
      },
      "outputs": [],
      "source": [
        "class PosDataset(Dataset):\n",
        "    \"\"\"\n",
        "        Dataset class for the POS tagging task\n",
        "    \"\"\"\n",
        "    def __init__(self, text, labels):\n",
        "        self.labels = labels\n",
        "        self.text = text\n",
        "        self.sentence_lengths = [len(sentence) for sentence in self.text]\n",
        "    def __len__(self):\n",
        "            return len(self.labels)\n",
        "    def __getitem__(self, idx):\n",
        "            label = self.labels[idx]\n",
        "            text = self.text[idx]\n",
        "            sample = (text, label, self.sentence_lengths[idx])\n",
        "            return sample\n",
        "\n",
        "\n",
        "def collate_fn(data):\n",
        "    \"\"\"\n",
        "        Collate function for the dataloader\n",
        "    \"\"\"\n",
        "    return ([x[0] for x in data], [x[1] for x in data], [x[2] for x in data])\n",
        "\n",
        "\n",
        "def create_dataloaders(b_s):\n",
        "    \"\"\"\n",
        "        Creates the dataloaders for the train, validation and test sets\n",
        "    \"\"\"\n",
        "    train_df = indexed_dataset[indexed_dataset['split'] == 'train'].reset_index(drop=True)\n",
        "    val_df = indexed_dataset[indexed_dataset['split'] == 'val'].reset_index(drop=True)\n",
        "    test_df = indexed_dataset[indexed_dataset['split'] == 'test'].reset_index(drop=True)\n",
        "\n",
        "    #create DataframeDataset objects for each split\n",
        "    train_dataset = PosDataset(train_df.iloc[:,2],train_df.iloc[:,3])\n",
        "    val_dataset = PosDataset(val_df.iloc[:,2],val_df.iloc[:,3])\n",
        "    test_dataset = PosDataset(test_df.iloc[:,2],test_df.iloc[:,3])\n",
        "\n",
        "    train_dataloader = DataLoader(train_dataset, batch_size=b_s, shuffle=True, collate_fn= collate_fn)\n",
        "    val_dataloader = DataLoader(val_dataset, batch_size=b_s, shuffle=True, collate_fn= collate_fn)\n",
        "    test_dataloader = DataLoader(test_dataset, batch_size=b_s, shuffle=True, collate_fn= collate_fn)\n",
        "\n",
        "    return train_dataloader,val_dataloader,test_dataloader"
      ]
    },
    {
      "cell_type": "code",
      "execution_count": 99,
      "metadata": {
        "id": "wuKaQtDuGAia"
      },
      "outputs": [],
      "source": [
        "tr_dl, val_dl, test_dl = create_dataloaders(BATCH_SIZE)"
      ]
    },
    {
      "cell_type": "code",
      "execution_count": 100,
      "metadata": {
        "id": "xzlrW52UIRet"
      },
      "outputs": [],
      "source": [
        "def train(model, epochs, loss_function, dataloader, val_dataloader, optimizer, scheduler, name, padding_value = PAD_INDEX):\n",
        "    \"\"\"\n",
        "        Training loop for the model with the given parameters\n",
        "    \"\"\"\n",
        "\n",
        "    best_epoch_loss = np.inf\n",
        "    epochs_previously_trained = 0\n",
        "\n",
        "    if SEED in best_losses.keys():\n",
        "        if name in best_losses[SEED].keys():\n",
        "            best_epoch_loss = best_losses[SEED][name]\n",
        "\n",
        "    if SEED in total_epochs.keys():\n",
        "        if name in total_epochs[SEED].keys():\n",
        "            epochs_previously_trained = total_epochs[SEED][name]\n",
        "\n",
        "    for epoch in range(epochs):\n",
        "        model.train()\n",
        "        start_time = time.time()\n",
        "\n",
        "        for sentences, pos, s_len in dataloader:\n",
        "            optimizer.zero_grad()\n",
        "\n",
        "            tensor_sentences = [torch.LongTensor(s) for s in sentences]\n",
        "            tensor_pos = [torch.LongTensor(p) for p in pos]\n",
        "\n",
        "            padded_sentences = rnn.pad_sequence(tensor_sentences, batch_first = True, padding_value = padding_value)\n",
        "            padded_pos = rnn.pad_sequence(tensor_pos, batch_first = True, padding_value=padding_value)\n",
        "\n",
        "            predicted = model(padded_sentences, s_len)\n",
        "\n",
        "            predicted = predicted.view(-1,predicted.shape[-1])\n",
        "            targets = padded_pos.view(-1)\n",
        "\n",
        "            predicted, targets = reshape_and_mask(predicted, targets)\n",
        "\n",
        "            loss = loss_function(predicted, targets)\n",
        "            loss.backward()\n",
        "            optimizer.step()\n",
        "\n",
        "        total_epoch_val_loss = evaluate(model, loss_function, val_dataloader, return_loss=True)\n",
        "\n",
        "        if total_epoch_val_loss < best_epoch_loss:\n",
        "            best_epoch_loss = total_epoch_val_loss\n",
        "            if SEED not in best_models.keys():\n",
        "                best_models[SEED] = {}\n",
        "            if name not in best_models[SEED].keys():\n",
        "                best_models[SEED][name] = model.state_dict()\n",
        "\n",
        "            if SEED not in best_losses.keys():\n",
        "                best_losses[SEED] = {}\n",
        "            best_losses[SEED][name] = best_epoch_loss\n",
        "\n",
        "        scheduler.step(total_epoch_val_loss)\n",
        "        elapsed = time.time() - start_time\n",
        "\n",
        "        print(f'Train epoch [{epoch+1 + epochs_previously_trained}/{epochs + epochs_previously_trained}] val loss: {total_epoch_val_loss:.2f} time: {elapsed:.2f}s')\n",
        "    if SEED not in total_epochs.keys():\n",
        "        total_epochs[SEED] = {}\n",
        "    total_epochs[SEED][name] = epochs + epochs_previously_trained"
      ]
    },
    {
      "cell_type": "code",
      "execution_count": 101,
      "metadata": {
        "id": "hhON5TP-qdcV"
      },
      "outputs": [],
      "source": [
        "def evaluate(model, loss_function, dataloader, padding_value=PAD_INDEX,  verbose=True, return_loss=False):\n",
        "    \"\"\"\n",
        "        Evaluation function for the model\n",
        "    \"\"\"\n",
        "    model.eval()\n",
        "\n",
        "    tot_pred , tot_targ = torch.LongTensor(), torch.LongTensor()\n",
        "    epoch_loss = 0\n",
        "\n",
        "    for sentences, pos, s_len in dataloader:\n",
        "        tensor_sentences = [torch.LongTensor(s) for s in sentences]\n",
        "        tensor_pos = [torch.LongTensor(p) for p in pos]\n",
        "\n",
        "        padded_sentences = rnn.pad_sequence(tensor_sentences, batch_first = True, padding_value = padding_value)\n",
        "        padded_pos = rnn.pad_sequence(tensor_pos, batch_first = True, padding_value=padding_value)\n",
        "\n",
        "        predicted = model(padded_sentences, s_len)\n",
        "        predicted = predicted.view(-1,predicted.shape[-1])\n",
        "        targets = padded_pos.view(-1)\n",
        "\n",
        "        predicted, targets = reshape_and_mask(predicted, targets)\n",
        "\n",
        "        loss = loss_function(predicted, targets)\n",
        "\n",
        "        predicted = predicted.argmax(dim=1)\n",
        "\n",
        "        tot_pred = torch.cat((tot_pred,predicted))\n",
        "        tot_targ = torch.cat((tot_targ,targets))\n",
        "\n",
        "        epoch_loss += loss.item()\n",
        "\n",
        "    if return_loss:\n",
        "        return epoch_loss\n",
        "\n",
        "    full_accuracy, full_f1 = accuracy_and_f1(tot_pred,tot_targ)\n",
        "\n",
        "    if verbose: print(f'Eval: loss: {epoch_loss:.2f} accuracy: {full_accuracy:.2f} f1: {full_f1:.2f}')\n",
        "\n",
        "    return full_accuracy, full_f1, tot_pred, tot_targ"
      ]
    },
    {
      "cell_type": "code",
      "execution_count": 102,
      "metadata": {
        "id": "4AxSUD_LqdcV"
      },
      "outputs": [],
      "source": [
        "def load_best_model(model, name):\n",
        "    \"\"\"\n",
        "        Loads the best model for the given seed and the given model name\n",
        "    \"\"\"\n",
        "    model.load_state_dict(best_models[SEED][name])\n",
        "    return model"
      ]
    },
    {
      "cell_type": "code",
      "execution_count": 103,
      "metadata": {
        "id": "gx4R4GqLqdcV"
      },
      "outputs": [],
      "source": [
        "def save_model(model, base_name):\n",
        "    \"\"\"\n",
        "        Saves the model in a file\n",
        "    \"\"\"\n",
        "    name = base_name + \"_\" + str(SEED)\n",
        "    name += \"_lower\" * LOWER\n",
        "    name += \"_number\" * NUMBER\n",
        "    name += \"_ner\" * NER\n",
        "    name += f'{OOV_EMBEDDING_TYPE}_{MEAN_EMBEDDING_WINDOW}' * (OOV_EMBEDDING_TYPE == 'mean')\n",
        "    name += \"_fixed_oov\" * FIXED_OOV\n",
        "    name += \".pt\"\n",
        "    path = os.path.join(WEIGHTS_FOLDER, name)\n",
        "    torch.save(model.state_dict(), path)\n",
        "\n",
        "def load_model(model, name):\n",
        "    \"\"\"\n",
        "        Loads the model from a file\n",
        "    \"\"\"\n",
        "    path = os.path.join(WEIGHTS_FOLDER, name)\n",
        "    model.load_state_dict(torch.load(path))\n",
        "    return model"
      ]
    },
    {
      "cell_type": "code",
      "execution_count": 104,
      "metadata": {
        "id": "hbF51IMSqdcV"
      },
      "outputs": [],
      "source": [
        "LSTM_DIMENSION = 16\n",
        "DENSE_DIMENSION = len(unique_tags) + 1\n",
        "INITIAL_LEARNING_RATE = 0.01\n",
        "LR_DECAY_FACTOR = 0.1\n",
        "LR_DECAY_PATIENCE = 2"
      ]
    },
    {
      "cell_type": "markdown",
      "metadata": {
        "id": "b5VTbyfJqdcV"
      },
      "source": [
        "Baseline model definition"
      ]
    },
    {
      "cell_type": "code",
      "execution_count": 105,
      "metadata": {
        "id": "oqz5g46RqdcV"
      },
      "outputs": [],
      "source": [
        "loss_function_baseline = CrossEntropyLoss()\n",
        "baseline_model = Baseline(LSTM_DIMENSION, DENSE_DIMENSION)\n",
        "optimizer_baseline = Adam(baseline_model.parameters(), lr=INITIAL_LEARNING_RATE)\n",
        "scheduler_baseline = torch.optim.lr_scheduler.ReduceLROnPlateau(optimizer_baseline, mode='min', factor=LR_DECAY_FACTOR, patience=LR_DECAY_PATIENCE, verbose=True)\n",
        "baseline_model.apply(initialize_weights);"
      ]
    },
    {
      "cell_type": "markdown",
      "metadata": {
        "id": "EmThhKzyqdcV"
      },
      "source": [
        "Double LSTM model definition"
      ]
    },
    {
      "cell_type": "code",
      "execution_count": 106,
      "metadata": {
        "id": "BSXzv3OnqdcW"
      },
      "outputs": [],
      "source": [
        "loss_double_lstm = CrossEntropyLoss()\n",
        "double_lstm_model = Model1(LSTM_DIMENSION, DENSE_DIMENSION)\n",
        "optimizer_double_lstm = Adam(double_lstm_model.parameters(), lr=INITIAL_LEARNING_RATE)\n",
        "scheduler_double_lstm = torch.optim.lr_scheduler.ReduceLROnPlateau(optimizer_double_lstm, mode='min', factor=LR_DECAY_FACTOR, patience=LR_DECAY_PATIENCE, verbose=True)\n",
        "double_lstm_model.apply(initialize_weights);"
      ]
    },
    {
      "cell_type": "markdown",
      "metadata": {
        "id": "zYiljd4pqdcW"
      },
      "source": [
        "Double Dense model definition"
      ]
    },
    {
      "cell_type": "code",
      "execution_count": 107,
      "metadata": {
        "id": "k737UyulqdcW"
      },
      "outputs": [],
      "source": [
        "loss_double_dense = CrossEntropyLoss()\n",
        "double_dense_model = Model2(LSTM_DIMENSION, DENSE_DIMENSION)\n",
        "optimizer_double_dense = Adam(double_dense_model.parameters(), lr=INITIAL_LEARNING_RATE)\n",
        "scheduler_double_dense = torch.optim.lr_scheduler.ReduceLROnPlateau(optimizer_double_dense, mode='min', factor=LR_DECAY_FACTOR, patience=LR_DECAY_PATIENCE, verbose=True)\n",
        "double_dense_model.apply(initialize_weights);"
      ]
    },
    {
      "cell_type": "code",
      "execution_count": 108,
      "metadata": {
        "colab": {
          "base_uri": "https://localhost:8080/"
        },
        "id": "fWKGS73yqdcW",
        "outputId": "a6aaf6c3-52e1-45d8-e177-007220ac6369"
      },
      "outputs": [
        {
          "output_type": "stream",
          "name": "stdout",
          "text": [
            "Number of parameters in baseline model: 42222\n",
            "Number of parameters in double lstm model: 48622\n",
            "Number of parameters in double dense model: 44384\n"
          ]
        }
      ],
      "source": [
        "print(f'Number of parameters in baseline model: {number_parameters(baseline_model)}')\n",
        "print(f'Number of parameters in double lstm model: {number_parameters(double_lstm_model)}')\n",
        "print(f'Number of parameters in double dense model: {number_parameters(double_dense_model)}')"
      ]
    },
    {
      "cell_type": "code",
      "execution_count": 109,
      "metadata": {
        "colab": {
          "base_uri": "https://localhost:8080/"
        },
        "id": "4e6QALPPqdcX",
        "outputId": "9bfe9c61-ff44-48f8-a596-e6400e1f349b"
      },
      "outputs": [
        {
          "output_type": "stream",
          "name": "stdout",
          "text": [
            "Train epoch [1/20] val loss: 39.19 time: 7.20s\n",
            "Train epoch [2/20] val loss: 28.49 time: 6.81s\n",
            "Train epoch [3/20] val loss: 24.48 time: 6.80s\n",
            "Train epoch [4/20] val loss: 24.00 time: 7.10s\n",
            "Train epoch [5/20] val loss: 23.42 time: 7.54s\n",
            "Train epoch [6/20] val loss: 23.55 time: 8.24s\n",
            "Train epoch [7/20] val loss: 24.16 time: 6.75s\n",
            "Epoch 00008: reducing learning rate of group 0 to 1.0000e-03.\n",
            "Train epoch [8/20] val loss: 24.54 time: 7.03s\n",
            "Train epoch [9/20] val loss: 23.63 time: 6.58s\n",
            "Train epoch [10/20] val loss: 23.68 time: 7.35s\n",
            "Epoch 00011: reducing learning rate of group 0 to 1.0000e-04.\n",
            "Train epoch [11/20] val loss: 23.85 time: 6.25s\n",
            "Train epoch [12/20] val loss: 23.86 time: 7.65s\n",
            "Train epoch [13/20] val loss: 23.75 time: 6.20s\n",
            "Epoch 00014: reducing learning rate of group 0 to 1.0000e-05.\n",
            "Train epoch [14/20] val loss: 23.88 time: 7.63s\n",
            "Train epoch [15/20] val loss: 23.89 time: 6.18s\n",
            "Train epoch [16/20] val loss: 23.78 time: 7.75s\n",
            "Epoch 00017: reducing learning rate of group 0 to 1.0000e-06.\n",
            "Train epoch [17/20] val loss: 23.72 time: 6.13s\n",
            "Train epoch [18/20] val loss: 23.86 time: 7.72s\n",
            "Train epoch [19/20] val loss: 23.89 time: 6.16s\n",
            "Epoch 00020: reducing learning rate of group 0 to 1.0000e-07.\n",
            "Train epoch [20/20] val loss: 23.65 time: 7.68s\n"
          ]
        }
      ],
      "source": [
        "EPOCHS_BASELINE = 20\n",
        "train(baseline_model, EPOCHS_BASELINE, loss_function_baseline, tr_dl, val_dl, optimizer_baseline, scheduler_baseline, 'baseline')\n",
        "best_baseline_model = load_best_model(baseline_model, 'baseline')"
      ]
    },
    {
      "cell_type": "code",
      "execution_count": 110,
      "metadata": {
        "colab": {
          "base_uri": "https://localhost:8080/"
        },
        "id": "JQ73tOYoqdcX",
        "outputId": "8dbfe329-ab3e-445c-e03f-68796db3c183"
      },
      "outputs": [
        {
          "output_type": "stream",
          "name": "stdout",
          "text": [
            "Train epoch [1/20] val loss: 59.73 time: 11.95s\n",
            "Train epoch [2/20] val loss: 34.15 time: 11.90s\n",
            "Train epoch [3/20] val loss: 27.57 time: 12.94s\n",
            "Train epoch [4/20] val loss: 25.68 time: 12.74s\n",
            "Train epoch [5/20] val loss: 24.88 time: 12.77s\n",
            "Train epoch [6/20] val loss: 24.53 time: 12.65s\n",
            "Train epoch [7/20] val loss: 24.47 time: 12.64s\n",
            "Train epoch [8/20] val loss: 25.96 time: 11.83s\n",
            "Train epoch [9/20] val loss: 26.41 time: 11.95s\n",
            "Epoch 00010: reducing learning rate of group 0 to 1.0000e-03.\n",
            "Train epoch [10/20] val loss: 26.89 time: 14.66s\n",
            "Train epoch [11/20] val loss: 25.37 time: 12.53s\n",
            "Train epoch [12/20] val loss: 25.83 time: 12.76s\n",
            "Epoch 00013: reducing learning rate of group 0 to 1.0000e-04.\n",
            "Train epoch [13/20] val loss: 25.99 time: 12.60s\n",
            "Train epoch [14/20] val loss: 25.72 time: 12.52s\n",
            "Train epoch [15/20] val loss: 25.96 time: 12.51s\n",
            "Epoch 00016: reducing learning rate of group 0 to 1.0000e-05.\n",
            "Train epoch [16/20] val loss: 26.04 time: 11.89s\n",
            "Train epoch [17/20] val loss: 25.82 time: 12.00s\n",
            "Train epoch [18/20] val loss: 25.87 time: 13.02s\n",
            "Epoch 00019: reducing learning rate of group 0 to 1.0000e-06.\n",
            "Train epoch [19/20] val loss: 25.62 time: 13.64s\n",
            "Train epoch [20/20] val loss: 25.56 time: 12.69s\n"
          ]
        }
      ],
      "source": [
        "EPOCHS_DOUBLE_LSTM = 20\n",
        "train(double_lstm_model, EPOCHS_DOUBLE_LSTM, loss_double_lstm, tr_dl, val_dl, optimizer_double_lstm, scheduler_double_lstm, 'double_lstm')\n",
        "best_double_lstm_model = load_best_model(double_lstm_model, 'double_lstm')"
      ]
    },
    {
      "cell_type": "code",
      "execution_count": 111,
      "metadata": {
        "colab": {
          "base_uri": "https://localhost:8080/"
        },
        "id": "tM06lQoQqdcX",
        "outputId": "8d82025b-75ab-44d1-dd2d-416b9ee600be"
      },
      "outputs": [
        {
          "output_type": "stream",
          "name": "stdout",
          "text": [
            "Train epoch [1/20] val loss: 31.75 time: 6.59s\n",
            "Train epoch [2/20] val loss: 25.97 time: 7.25s\n",
            "Train epoch [3/20] val loss: 25.23 time: 6.00s\n",
            "Train epoch [4/20] val loss: 26.44 time: 7.67s\n",
            "Train epoch [5/20] val loss: 26.80 time: 6.05s\n",
            "Epoch 00006: reducing learning rate of group 0 to 1.0000e-03.\n",
            "Train epoch [6/20] val loss: 28.29 time: 7.63s\n",
            "Train epoch [7/20] val loss: 26.74 time: 6.07s\n",
            "Train epoch [8/20] val loss: 26.73 time: 7.65s\n",
            "Epoch 00009: reducing learning rate of group 0 to 1.0000e-04.\n",
            "Train epoch [9/20] val loss: 27.51 time: 6.03s\n",
            "Train epoch [10/20] val loss: 27.23 time: 7.53s\n",
            "Train epoch [11/20] val loss: 27.07 time: 6.03s\n",
            "Epoch 00012: reducing learning rate of group 0 to 1.0000e-05.\n",
            "Train epoch [12/20] val loss: 27.30 time: 7.33s\n",
            "Train epoch [13/20] val loss: 27.51 time: 7.10s\n",
            "Train epoch [14/20] val loss: 27.15 time: 7.32s\n",
            "Epoch 00015: reducing learning rate of group 0 to 1.0000e-06.\n",
            "Train epoch [15/20] val loss: 27.12 time: 6.26s\n",
            "Train epoch [16/20] val loss: 27.37 time: 6.88s\n",
            "Train epoch [17/20] val loss: 27.18 time: 6.79s\n",
            "Epoch 00018: reducing learning rate of group 0 to 1.0000e-07.\n",
            "Train epoch [18/20] val loss: 27.31 time: 6.27s\n",
            "Train epoch [19/20] val loss: 27.20 time: 14.53s\n",
            "Train epoch [20/20] val loss: 27.17 time: 9.91s\n"
          ]
        }
      ],
      "source": [
        "EPOCHS_DOUBLE_DENSE = 20\n",
        "train(double_dense_model, EPOCHS_DOUBLE_DENSE, loss_double_dense, tr_dl, val_dl, optimizer_double_dense, scheduler_double_dense, 'double_dense')\n",
        "best_double_dense_model = load_best_model(double_dense_model, 'double_dense')"
      ]
    },
    {
      "cell_type": "code",
      "execution_count": 112,
      "metadata": {
        "colab": {
          "base_uri": "https://localhost:8080/",
          "height": 143
        },
        "id": "Q53i6uJmqdcX",
        "outputId": "1546b1c0-10ce-46b8-896d-a979e8c23a19"
      },
      "outputs": [
        {
          "output_type": "execute_result",
          "data": {
            "text/plain": [
              "          model  accuracy        f1\n",
              "0      baseline  0.918739  0.787259\n",
              "1   double_lstm  0.920308  0.799394\n",
              "2  double_dense  0.920344  0.800567"
            ],
            "text/html": [
              "\n",
              "  <div id=\"df-614e45e0-0877-4674-ade5-ab9767a7a331\" class=\"colab-df-container\">\n",
              "    <div>\n",
              "<style scoped>\n",
              "    .dataframe tbody tr th:only-of-type {\n",
              "        vertical-align: middle;\n",
              "    }\n",
              "\n",
              "    .dataframe tbody tr th {\n",
              "        vertical-align: top;\n",
              "    }\n",
              "\n",
              "    .dataframe thead th {\n",
              "        text-align: right;\n",
              "    }\n",
              "</style>\n",
              "<table border=\"1\" class=\"dataframe\">\n",
              "  <thead>\n",
              "    <tr style=\"text-align: right;\">\n",
              "      <th></th>\n",
              "      <th>model</th>\n",
              "      <th>accuracy</th>\n",
              "      <th>f1</th>\n",
              "    </tr>\n",
              "  </thead>\n",
              "  <tbody>\n",
              "    <tr>\n",
              "      <th>0</th>\n",
              "      <td>baseline</td>\n",
              "      <td>0.918739</td>\n",
              "      <td>0.787259</td>\n",
              "    </tr>\n",
              "    <tr>\n",
              "      <th>1</th>\n",
              "      <td>double_lstm</td>\n",
              "      <td>0.920308</td>\n",
              "      <td>0.799394</td>\n",
              "    </tr>\n",
              "    <tr>\n",
              "      <th>2</th>\n",
              "      <td>double_dense</td>\n",
              "      <td>0.920344</td>\n",
              "      <td>0.800567</td>\n",
              "    </tr>\n",
              "  </tbody>\n",
              "</table>\n",
              "</div>\n",
              "    <div class=\"colab-df-buttons\">\n",
              "\n",
              "  <div class=\"colab-df-container\">\n",
              "    <button class=\"colab-df-convert\" onclick=\"convertToInteractive('df-614e45e0-0877-4674-ade5-ab9767a7a331')\"\n",
              "            title=\"Convert this dataframe to an interactive table.\"\n",
              "            style=\"display:none;\">\n",
              "\n",
              "  <svg xmlns=\"http://www.w3.org/2000/svg\" height=\"24px\" viewBox=\"0 -960 960 960\">\n",
              "    <path d=\"M120-120v-720h720v720H120Zm60-500h600v-160H180v160Zm220 220h160v-160H400v160Zm0 220h160v-160H400v160ZM180-400h160v-160H180v160Zm440 0h160v-160H620v160ZM180-180h160v-160H180v160Zm440 0h160v-160H620v160Z\"/>\n",
              "  </svg>\n",
              "    </button>\n",
              "\n",
              "  <style>\n",
              "    .colab-df-container {\n",
              "      display:flex;\n",
              "      gap: 12px;\n",
              "    }\n",
              "\n",
              "    .colab-df-convert {\n",
              "      background-color: #E8F0FE;\n",
              "      border: none;\n",
              "      border-radius: 50%;\n",
              "      cursor: pointer;\n",
              "      display: none;\n",
              "      fill: #1967D2;\n",
              "      height: 32px;\n",
              "      padding: 0 0 0 0;\n",
              "      width: 32px;\n",
              "    }\n",
              "\n",
              "    .colab-df-convert:hover {\n",
              "      background-color: #E2EBFA;\n",
              "      box-shadow: 0px 1px 2px rgba(60, 64, 67, 0.3), 0px 1px 3px 1px rgba(60, 64, 67, 0.15);\n",
              "      fill: #174EA6;\n",
              "    }\n",
              "\n",
              "    .colab-df-buttons div {\n",
              "      margin-bottom: 4px;\n",
              "    }\n",
              "\n",
              "    [theme=dark] .colab-df-convert {\n",
              "      background-color: #3B4455;\n",
              "      fill: #D2E3FC;\n",
              "    }\n",
              "\n",
              "    [theme=dark] .colab-df-convert:hover {\n",
              "      background-color: #434B5C;\n",
              "      box-shadow: 0px 1px 3px 1px rgba(0, 0, 0, 0.15);\n",
              "      filter: drop-shadow(0px 1px 2px rgba(0, 0, 0, 0.3));\n",
              "      fill: #FFFFFF;\n",
              "    }\n",
              "  </style>\n",
              "\n",
              "    <script>\n",
              "      const buttonEl =\n",
              "        document.querySelector('#df-614e45e0-0877-4674-ade5-ab9767a7a331 button.colab-df-convert');\n",
              "      buttonEl.style.display =\n",
              "        google.colab.kernel.accessAllowed ? 'block' : 'none';\n",
              "\n",
              "      async function convertToInteractive(key) {\n",
              "        const element = document.querySelector('#df-614e45e0-0877-4674-ade5-ab9767a7a331');\n",
              "        const dataTable =\n",
              "          await google.colab.kernel.invokeFunction('convertToInteractive',\n",
              "                                                    [key], {});\n",
              "        if (!dataTable) return;\n",
              "\n",
              "        const docLinkHtml = 'Like what you see? Visit the ' +\n",
              "          '<a target=\"_blank\" href=https://colab.research.google.com/notebooks/data_table.ipynb>data table notebook</a>'\n",
              "          + ' to learn more about interactive tables.';\n",
              "        element.innerHTML = '';\n",
              "        dataTable['output_type'] = 'display_data';\n",
              "        await google.colab.output.renderOutput(dataTable, element);\n",
              "        const docLink = document.createElement('div');\n",
              "        docLink.innerHTML = docLinkHtml;\n",
              "        element.appendChild(docLink);\n",
              "      }\n",
              "    </script>\n",
              "  </div>\n",
              "\n",
              "\n",
              "<div id=\"df-b0902cc8-dc17-44a2-859c-b5ec94694def\">\n",
              "  <button class=\"colab-df-quickchart\" onclick=\"quickchart('df-b0902cc8-dc17-44a2-859c-b5ec94694def')\"\n",
              "            title=\"Suggest charts\"\n",
              "            style=\"display:none;\">\n",
              "\n",
              "<svg xmlns=\"http://www.w3.org/2000/svg\" height=\"24px\"viewBox=\"0 0 24 24\"\n",
              "     width=\"24px\">\n",
              "    <g>\n",
              "        <path d=\"M19 3H5c-1.1 0-2 .9-2 2v14c0 1.1.9 2 2 2h14c1.1 0 2-.9 2-2V5c0-1.1-.9-2-2-2zM9 17H7v-7h2v7zm4 0h-2V7h2v10zm4 0h-2v-4h2v4z\"/>\n",
              "    </g>\n",
              "</svg>\n",
              "  </button>\n",
              "\n",
              "<style>\n",
              "  .colab-df-quickchart {\n",
              "      --bg-color: #E8F0FE;\n",
              "      --fill-color: #1967D2;\n",
              "      --hover-bg-color: #E2EBFA;\n",
              "      --hover-fill-color: #174EA6;\n",
              "      --disabled-fill-color: #AAA;\n",
              "      --disabled-bg-color: #DDD;\n",
              "  }\n",
              "\n",
              "  [theme=dark] .colab-df-quickchart {\n",
              "      --bg-color: #3B4455;\n",
              "      --fill-color: #D2E3FC;\n",
              "      --hover-bg-color: #434B5C;\n",
              "      --hover-fill-color: #FFFFFF;\n",
              "      --disabled-bg-color: #3B4455;\n",
              "      --disabled-fill-color: #666;\n",
              "  }\n",
              "\n",
              "  .colab-df-quickchart {\n",
              "    background-color: var(--bg-color);\n",
              "    border: none;\n",
              "    border-radius: 50%;\n",
              "    cursor: pointer;\n",
              "    display: none;\n",
              "    fill: var(--fill-color);\n",
              "    height: 32px;\n",
              "    padding: 0;\n",
              "    width: 32px;\n",
              "  }\n",
              "\n",
              "  .colab-df-quickchart:hover {\n",
              "    background-color: var(--hover-bg-color);\n",
              "    box-shadow: 0 1px 2px rgba(60, 64, 67, 0.3), 0 1px 3px 1px rgba(60, 64, 67, 0.15);\n",
              "    fill: var(--button-hover-fill-color);\n",
              "  }\n",
              "\n",
              "  .colab-df-quickchart-complete:disabled,\n",
              "  .colab-df-quickchart-complete:disabled:hover {\n",
              "    background-color: var(--disabled-bg-color);\n",
              "    fill: var(--disabled-fill-color);\n",
              "    box-shadow: none;\n",
              "  }\n",
              "\n",
              "  .colab-df-spinner {\n",
              "    border: 2px solid var(--fill-color);\n",
              "    border-color: transparent;\n",
              "    border-bottom-color: var(--fill-color);\n",
              "    animation:\n",
              "      spin 1s steps(1) infinite;\n",
              "  }\n",
              "\n",
              "  @keyframes spin {\n",
              "    0% {\n",
              "      border-color: transparent;\n",
              "      border-bottom-color: var(--fill-color);\n",
              "      border-left-color: var(--fill-color);\n",
              "    }\n",
              "    20% {\n",
              "      border-color: transparent;\n",
              "      border-left-color: var(--fill-color);\n",
              "      border-top-color: var(--fill-color);\n",
              "    }\n",
              "    30% {\n",
              "      border-color: transparent;\n",
              "      border-left-color: var(--fill-color);\n",
              "      border-top-color: var(--fill-color);\n",
              "      border-right-color: var(--fill-color);\n",
              "    }\n",
              "    40% {\n",
              "      border-color: transparent;\n",
              "      border-right-color: var(--fill-color);\n",
              "      border-top-color: var(--fill-color);\n",
              "    }\n",
              "    60% {\n",
              "      border-color: transparent;\n",
              "      border-right-color: var(--fill-color);\n",
              "    }\n",
              "    80% {\n",
              "      border-color: transparent;\n",
              "      border-right-color: var(--fill-color);\n",
              "      border-bottom-color: var(--fill-color);\n",
              "    }\n",
              "    90% {\n",
              "      border-color: transparent;\n",
              "      border-bottom-color: var(--fill-color);\n",
              "    }\n",
              "  }\n",
              "</style>\n",
              "\n",
              "  <script>\n",
              "    async function quickchart(key) {\n",
              "      const quickchartButtonEl =\n",
              "        document.querySelector('#' + key + ' button');\n",
              "      quickchartButtonEl.disabled = true;  // To prevent multiple clicks.\n",
              "      quickchartButtonEl.classList.add('colab-df-spinner');\n",
              "      try {\n",
              "        const charts = await google.colab.kernel.invokeFunction(\n",
              "            'suggestCharts', [key], {});\n",
              "      } catch (error) {\n",
              "        console.error('Error during call to suggestCharts:', error);\n",
              "      }\n",
              "      quickchartButtonEl.classList.remove('colab-df-spinner');\n",
              "      quickchartButtonEl.classList.add('colab-df-quickchart-complete');\n",
              "    }\n",
              "    (() => {\n",
              "      let quickchartButtonEl =\n",
              "        document.querySelector('#df-b0902cc8-dc17-44a2-859c-b5ec94694def button');\n",
              "      quickchartButtonEl.style.display =\n",
              "        google.colab.kernel.accessAllowed ? 'block' : 'none';\n",
              "    })();\n",
              "  </script>\n",
              "</div>\n",
              "    </div>\n",
              "  </div>\n"
            ]
          },
          "metadata": {},
          "execution_count": 112
        }
      ],
      "source": [
        "baseline_accuracy_val, baseline_f1_val, baseline_pred_val, baseline_targ_val = evaluate(best_baseline_model, loss_function_baseline, val_dl, verbose=False)\n",
        "double_lstm_accuracy_val, double_lstm_f1_val, double_lstm_pred_val, double_lstm_targ_val = evaluate(best_double_lstm_model, loss_double_lstm, val_dl, verbose=False)\n",
        "double_dense_accuracy_val, double_dense_f1_val, double_dense_pred_val, double_dense_targ_val = evaluate(best_double_dense_model, loss_double_dense, val_dl, verbose=False)\n",
        "\n",
        "\n",
        "results = pd.DataFrame(columns=['model','accuracy','f1'])\n",
        "results.loc[0] = ['baseline', baseline_accuracy_val.item(), baseline_f1_val]\n",
        "results.loc[1] = ['double_lstm', double_lstm_accuracy_val.item(), double_lstm_f1_val]\n",
        "results.loc[2] = ['double_dense', double_dense_accuracy_val.item(), double_dense_f1_val]\n",
        "\n",
        "results"
      ]
    },
    {
      "cell_type": "code",
      "execution_count": 113,
      "metadata": {
        "colab": {
          "base_uri": "https://localhost:8080/",
          "height": 143
        },
        "id": "eBiqtx9KqdcX",
        "outputId": "6bb78294-258a-40d1-8b81-ac5bd66c1c0c"
      },
      "outputs": [
        {
          "output_type": "execute_result",
          "data": {
            "text/plain": [
              "          model  accuracy        f1\n",
              "0      baseline  0.921907  0.853970\n",
              "1   double_lstm  0.926587  0.854160\n",
              "2  double_dense  0.921541  0.813286"
            ],
            "text/html": [
              "\n",
              "  <div id=\"df-e186118f-355c-4640-a9eb-478b7f1edc7c\" class=\"colab-df-container\">\n",
              "    <div>\n",
              "<style scoped>\n",
              "    .dataframe tbody tr th:only-of-type {\n",
              "        vertical-align: middle;\n",
              "    }\n",
              "\n",
              "    .dataframe tbody tr th {\n",
              "        vertical-align: top;\n",
              "    }\n",
              "\n",
              "    .dataframe thead th {\n",
              "        text-align: right;\n",
              "    }\n",
              "</style>\n",
              "<table border=\"1\" class=\"dataframe\">\n",
              "  <thead>\n",
              "    <tr style=\"text-align: right;\">\n",
              "      <th></th>\n",
              "      <th>model</th>\n",
              "      <th>accuracy</th>\n",
              "      <th>f1</th>\n",
              "    </tr>\n",
              "  </thead>\n",
              "  <tbody>\n",
              "    <tr>\n",
              "      <th>0</th>\n",
              "      <td>baseline</td>\n",
              "      <td>0.921907</td>\n",
              "      <td>0.853970</td>\n",
              "    </tr>\n",
              "    <tr>\n",
              "      <th>1</th>\n",
              "      <td>double_lstm</td>\n",
              "      <td>0.926587</td>\n",
              "      <td>0.854160</td>\n",
              "    </tr>\n",
              "    <tr>\n",
              "      <th>2</th>\n",
              "      <td>double_dense</td>\n",
              "      <td>0.921541</td>\n",
              "      <td>0.813286</td>\n",
              "    </tr>\n",
              "  </tbody>\n",
              "</table>\n",
              "</div>\n",
              "    <div class=\"colab-df-buttons\">\n",
              "\n",
              "  <div class=\"colab-df-container\">\n",
              "    <button class=\"colab-df-convert\" onclick=\"convertToInteractive('df-e186118f-355c-4640-a9eb-478b7f1edc7c')\"\n",
              "            title=\"Convert this dataframe to an interactive table.\"\n",
              "            style=\"display:none;\">\n",
              "\n",
              "  <svg xmlns=\"http://www.w3.org/2000/svg\" height=\"24px\" viewBox=\"0 -960 960 960\">\n",
              "    <path d=\"M120-120v-720h720v720H120Zm60-500h600v-160H180v160Zm220 220h160v-160H400v160Zm0 220h160v-160H400v160ZM180-400h160v-160H180v160Zm440 0h160v-160H620v160ZM180-180h160v-160H180v160Zm440 0h160v-160H620v160Z\"/>\n",
              "  </svg>\n",
              "    </button>\n",
              "\n",
              "  <style>\n",
              "    .colab-df-container {\n",
              "      display:flex;\n",
              "      gap: 12px;\n",
              "    }\n",
              "\n",
              "    .colab-df-convert {\n",
              "      background-color: #E8F0FE;\n",
              "      border: none;\n",
              "      border-radius: 50%;\n",
              "      cursor: pointer;\n",
              "      display: none;\n",
              "      fill: #1967D2;\n",
              "      height: 32px;\n",
              "      padding: 0 0 0 0;\n",
              "      width: 32px;\n",
              "    }\n",
              "\n",
              "    .colab-df-convert:hover {\n",
              "      background-color: #E2EBFA;\n",
              "      box-shadow: 0px 1px 2px rgba(60, 64, 67, 0.3), 0px 1px 3px 1px rgba(60, 64, 67, 0.15);\n",
              "      fill: #174EA6;\n",
              "    }\n",
              "\n",
              "    .colab-df-buttons div {\n",
              "      margin-bottom: 4px;\n",
              "    }\n",
              "\n",
              "    [theme=dark] .colab-df-convert {\n",
              "      background-color: #3B4455;\n",
              "      fill: #D2E3FC;\n",
              "    }\n",
              "\n",
              "    [theme=dark] .colab-df-convert:hover {\n",
              "      background-color: #434B5C;\n",
              "      box-shadow: 0px 1px 3px 1px rgba(0, 0, 0, 0.15);\n",
              "      filter: drop-shadow(0px 1px 2px rgba(0, 0, 0, 0.3));\n",
              "      fill: #FFFFFF;\n",
              "    }\n",
              "  </style>\n",
              "\n",
              "    <script>\n",
              "      const buttonEl =\n",
              "        document.querySelector('#df-e186118f-355c-4640-a9eb-478b7f1edc7c button.colab-df-convert');\n",
              "      buttonEl.style.display =\n",
              "        google.colab.kernel.accessAllowed ? 'block' : 'none';\n",
              "\n",
              "      async function convertToInteractive(key) {\n",
              "        const element = document.querySelector('#df-e186118f-355c-4640-a9eb-478b7f1edc7c');\n",
              "        const dataTable =\n",
              "          await google.colab.kernel.invokeFunction('convertToInteractive',\n",
              "                                                    [key], {});\n",
              "        if (!dataTable) return;\n",
              "\n",
              "        const docLinkHtml = 'Like what you see? Visit the ' +\n",
              "          '<a target=\"_blank\" href=https://colab.research.google.com/notebooks/data_table.ipynb>data table notebook</a>'\n",
              "          + ' to learn more about interactive tables.';\n",
              "        element.innerHTML = '';\n",
              "        dataTable['output_type'] = 'display_data';\n",
              "        await google.colab.output.renderOutput(dataTable, element);\n",
              "        const docLink = document.createElement('div');\n",
              "        docLink.innerHTML = docLinkHtml;\n",
              "        element.appendChild(docLink);\n",
              "      }\n",
              "    </script>\n",
              "  </div>\n",
              "\n",
              "\n",
              "<div id=\"df-6a587091-2026-41db-b258-eb3c979d585d\">\n",
              "  <button class=\"colab-df-quickchart\" onclick=\"quickchart('df-6a587091-2026-41db-b258-eb3c979d585d')\"\n",
              "            title=\"Suggest charts\"\n",
              "            style=\"display:none;\">\n",
              "\n",
              "<svg xmlns=\"http://www.w3.org/2000/svg\" height=\"24px\"viewBox=\"0 0 24 24\"\n",
              "     width=\"24px\">\n",
              "    <g>\n",
              "        <path d=\"M19 3H5c-1.1 0-2 .9-2 2v14c0 1.1.9 2 2 2h14c1.1 0 2-.9 2-2V5c0-1.1-.9-2-2-2zM9 17H7v-7h2v7zm4 0h-2V7h2v10zm4 0h-2v-4h2v4z\"/>\n",
              "    </g>\n",
              "</svg>\n",
              "  </button>\n",
              "\n",
              "<style>\n",
              "  .colab-df-quickchart {\n",
              "      --bg-color: #E8F0FE;\n",
              "      --fill-color: #1967D2;\n",
              "      --hover-bg-color: #E2EBFA;\n",
              "      --hover-fill-color: #174EA6;\n",
              "      --disabled-fill-color: #AAA;\n",
              "      --disabled-bg-color: #DDD;\n",
              "  }\n",
              "\n",
              "  [theme=dark] .colab-df-quickchart {\n",
              "      --bg-color: #3B4455;\n",
              "      --fill-color: #D2E3FC;\n",
              "      --hover-bg-color: #434B5C;\n",
              "      --hover-fill-color: #FFFFFF;\n",
              "      --disabled-bg-color: #3B4455;\n",
              "      --disabled-fill-color: #666;\n",
              "  }\n",
              "\n",
              "  .colab-df-quickchart {\n",
              "    background-color: var(--bg-color);\n",
              "    border: none;\n",
              "    border-radius: 50%;\n",
              "    cursor: pointer;\n",
              "    display: none;\n",
              "    fill: var(--fill-color);\n",
              "    height: 32px;\n",
              "    padding: 0;\n",
              "    width: 32px;\n",
              "  }\n",
              "\n",
              "  .colab-df-quickchart:hover {\n",
              "    background-color: var(--hover-bg-color);\n",
              "    box-shadow: 0 1px 2px rgba(60, 64, 67, 0.3), 0 1px 3px 1px rgba(60, 64, 67, 0.15);\n",
              "    fill: var(--button-hover-fill-color);\n",
              "  }\n",
              "\n",
              "  .colab-df-quickchart-complete:disabled,\n",
              "  .colab-df-quickchart-complete:disabled:hover {\n",
              "    background-color: var(--disabled-bg-color);\n",
              "    fill: var(--disabled-fill-color);\n",
              "    box-shadow: none;\n",
              "  }\n",
              "\n",
              "  .colab-df-spinner {\n",
              "    border: 2px solid var(--fill-color);\n",
              "    border-color: transparent;\n",
              "    border-bottom-color: var(--fill-color);\n",
              "    animation:\n",
              "      spin 1s steps(1) infinite;\n",
              "  }\n",
              "\n",
              "  @keyframes spin {\n",
              "    0% {\n",
              "      border-color: transparent;\n",
              "      border-bottom-color: var(--fill-color);\n",
              "      border-left-color: var(--fill-color);\n",
              "    }\n",
              "    20% {\n",
              "      border-color: transparent;\n",
              "      border-left-color: var(--fill-color);\n",
              "      border-top-color: var(--fill-color);\n",
              "    }\n",
              "    30% {\n",
              "      border-color: transparent;\n",
              "      border-left-color: var(--fill-color);\n",
              "      border-top-color: var(--fill-color);\n",
              "      border-right-color: var(--fill-color);\n",
              "    }\n",
              "    40% {\n",
              "      border-color: transparent;\n",
              "      border-right-color: var(--fill-color);\n",
              "      border-top-color: var(--fill-color);\n",
              "    }\n",
              "    60% {\n",
              "      border-color: transparent;\n",
              "      border-right-color: var(--fill-color);\n",
              "    }\n",
              "    80% {\n",
              "      border-color: transparent;\n",
              "      border-right-color: var(--fill-color);\n",
              "      border-bottom-color: var(--fill-color);\n",
              "    }\n",
              "    90% {\n",
              "      border-color: transparent;\n",
              "      border-bottom-color: var(--fill-color);\n",
              "    }\n",
              "  }\n",
              "</style>\n",
              "\n",
              "  <script>\n",
              "    async function quickchart(key) {\n",
              "      const quickchartButtonEl =\n",
              "        document.querySelector('#' + key + ' button');\n",
              "      quickchartButtonEl.disabled = true;  // To prevent multiple clicks.\n",
              "      quickchartButtonEl.classList.add('colab-df-spinner');\n",
              "      try {\n",
              "        const charts = await google.colab.kernel.invokeFunction(\n",
              "            'suggestCharts', [key], {});\n",
              "      } catch (error) {\n",
              "        console.error('Error during call to suggestCharts:', error);\n",
              "      }\n",
              "      quickchartButtonEl.classList.remove('colab-df-spinner');\n",
              "      quickchartButtonEl.classList.add('colab-df-quickchart-complete');\n",
              "    }\n",
              "    (() => {\n",
              "      let quickchartButtonEl =\n",
              "        document.querySelector('#df-6a587091-2026-41db-b258-eb3c979d585d button');\n",
              "      quickchartButtonEl.style.display =\n",
              "        google.colab.kernel.accessAllowed ? 'block' : 'none';\n",
              "    })();\n",
              "  </script>\n",
              "</div>\n",
              "    </div>\n",
              "  </div>\n"
            ]
          },
          "metadata": {},
          "execution_count": 113
        }
      ],
      "source": [
        "baseline_accuracy_test, baseline_f1_test, baseline_pred_test, baseline_targ_test = evaluate(best_baseline_model, loss_function_baseline, test_dl, verbose=False)\n",
        "double_lstm_accuracy_test, double_lstm_f1_test, double_lstm_pred_test, double_lstm_targ_test = evaluate(best_double_lstm_model, loss_double_lstm, test_dl, verbose=False)\n",
        "double_dense_accuracy_test, double_dense_f1_test, double_dense_pred_test, double_dense_targ_test = evaluate(best_double_dense_model, loss_double_dense, test_dl, verbose=False)\n",
        "\n",
        "\n",
        "results = pd.DataFrame(columns=['model','accuracy','f1'])\n",
        "results.loc[0] = ['baseline', baseline_accuracy_test.item(), baseline_f1_test]\n",
        "results.loc[1] = ['double_lstm', double_lstm_accuracy_test.item(), double_lstm_f1_test]\n",
        "results.loc[2] = ['double_dense', double_dense_accuracy_test.item(), double_dense_f1_test]\n",
        "\n",
        "results"
      ]
    },
    {
      "cell_type": "code",
      "execution_count": 114,
      "metadata": {
        "id": "tc0TPf-OfEoG"
      },
      "outputs": [],
      "source": [
        "best_final_models = [best_baseline_model, best_double_lstm_model, best_double_dense_model]\n",
        "\n",
        "save_model(best_baseline_model, 'baseline')\n",
        "save_model(best_double_lstm_model, 'double_lstm')\n",
        "save_model(best_double_dense_model, 'double_dense')"
      ]
    },
    {
      "cell_type": "markdown",
      "metadata": {
        "id": "z2w5osQ3fEoG"
      },
      "source": [
        "### The following part of evaluation should be run only after training the models on at least 3 seeds"
      ]
    },
    {
      "cell_type": "code",
      "execution_count": 115,
      "metadata": {
        "id": "JP3DV9KrfEoH"
      },
      "outputs": [],
      "source": [
        "def evaluate_all_seeds(models, model_names, val_dataloader, padding_value=PAD_INDEX,  verbose=True):\n",
        "    \"\"\"\n",
        "        Evaluation function for the model\n",
        "    \"\"\"\n",
        "    models_results = {}\n",
        "    for i in range(len(models)):\n",
        "        tot_pred , tot_targ = torch.LongTensor(), torch.LongTensor()\n",
        "        single_model_results =[]\n",
        "        for seed in best_models.keys():\n",
        "\n",
        "            name = model_names[i] + \"_\" + str(seed)\n",
        "            name += \"_lower\" * LOWER\n",
        "            name += \"_number\" * NUMBER\n",
        "            name += \"_ner\" * NER\n",
        "            name += f'{OOV_EMBEDDING_TYPE}_{MEAN_EMBEDDING_WINDOW}' * (OOV_EMBEDDING_TYPE == 'mean')\n",
        "            name += \"_fixed_oov\" * FIXED_OOV\n",
        "            name += \".pt\"\n",
        "\n",
        "            model = load_model(models[i], name)\n",
        "\n",
        "            model.eval()\n",
        "            for sentences, pos, s_len in val_dataloader:\n",
        "                tensor_sentences = [torch.LongTensor(s) for s in sentences]\n",
        "                tensor_pos = [torch.LongTensor(p) for p in pos]\n",
        "\n",
        "                padded_sentences = rnn.pad_sequence(tensor_sentences, batch_first = True, padding_value = padding_value)\n",
        "                padded_pos = rnn.pad_sequence(tensor_pos, batch_first = True, padding_value=padding_value)\n",
        "\n",
        "                predicted = model(padded_sentences, s_len)\n",
        "                predicted = predicted.view(-1,predicted.shape[-1])\n",
        "                targets = padded_pos.view(-1)\n",
        "\n",
        "                predicted, targets = reshape_and_mask(predicted, targets)\n",
        "\n",
        "                predicted = predicted.argmax(dim=1)\n",
        "\n",
        "                tot_pred = torch.cat((tot_pred,predicted))\n",
        "                tot_targ = torch.cat((tot_targ,targets))\n",
        "            _, f1 = accuracy_and_f1(tot_pred,tot_targ)\n",
        "            single_model_results.append(f1)\n",
        "        models_results[model_names[i]] = single_model_results\n",
        "    return models_results\n",
        "\n",
        "models = [baseline_model, double_lstm_model, double_dense_model]\n",
        "models_names = ['baseline', 'double_lstm', 'double_dense']\n",
        "\n",
        "res = evaluate_all_seeds(models, models_names, val_dl)\n",
        "\n",
        "if(len(list(best_models.keys())) == 3):\n",
        "    model_results = pd.DataFrame(columns=['seed','model','f1'])\n",
        "    model_results.loc[0] = [list(best_models.keys())[0], list(res.keys())[0], res[models_names[0]][0]]\n",
        "    model_results.loc[1] = [list(best_models.keys())[0], list(res.keys())[1], res[models_names[1]][0]]\n",
        "    model_results.loc[2] = [list(best_models.keys())[0], list(res.keys())[2], res[models_names[2]][0]]\n",
        "    model_results.loc[3] = [list(best_models.keys())[1], list(res.keys())[0], res[models_names[0]][1]]\n",
        "    model_results.loc[4] = [list(best_models.keys())[1], list(res.keys())[1], res[models_names[1]][1]]\n",
        "    model_results.loc[5] = [list(best_models.keys())[1], list(res.keys())[2], res[models_names[2]][1]]\n",
        "    model_results.loc[6] = [list(best_models.keys())[2], list(res.keys())[0], res[models_names[0]][2]]\n",
        "    model_results.loc[7] = [list(best_models.keys())[2], list(res.keys())[1], res[models_names[1]][2]]\n",
        "    model_results.loc[8] = [list(best_models.keys())[2], list(res.keys())[2], res[models_names[2]][2]]"
      ]
    },
    {
      "cell_type": "code",
      "execution_count": 124,
      "metadata": {
        "colab": {
          "base_uri": "https://localhost:8080/",
          "height": 332
        },
        "id": "FJbnFBffq_Gb",
        "outputId": "81934a97-45d1-476c-85d6-6d1fd346fed6"
      },
      "outputs": [
        {
          "output_type": "execute_result",
          "data": {
            "text/plain": [
              "   seed         model        f1\n",
              "0     0      baseline  0.790521\n",
              "1     0   double_lstm  0.769236\n",
              "2     0  double_dense  0.796476\n",
              "3     1      baseline  0.782700\n",
              "4     1   double_lstm  0.788677\n",
              "5     1  double_dense  0.787969\n",
              "6     2      baseline  0.785316\n",
              "7     2   double_lstm  0.792099\n",
              "8     2  double_dense  0.792320"
            ],
            "text/html": [
              "\n",
              "  <div id=\"df-46d596a5-d979-4b1b-9ce3-7f6d515c60c9\" class=\"colab-df-container\">\n",
              "    <div>\n",
              "<style scoped>\n",
              "    .dataframe tbody tr th:only-of-type {\n",
              "        vertical-align: middle;\n",
              "    }\n",
              "\n",
              "    .dataframe tbody tr th {\n",
              "        vertical-align: top;\n",
              "    }\n",
              "\n",
              "    .dataframe thead th {\n",
              "        text-align: right;\n",
              "    }\n",
              "</style>\n",
              "<table border=\"1\" class=\"dataframe\">\n",
              "  <thead>\n",
              "    <tr style=\"text-align: right;\">\n",
              "      <th></th>\n",
              "      <th>seed</th>\n",
              "      <th>model</th>\n",
              "      <th>f1</th>\n",
              "    </tr>\n",
              "  </thead>\n",
              "  <tbody>\n",
              "    <tr>\n",
              "      <th>0</th>\n",
              "      <td>0</td>\n",
              "      <td>baseline</td>\n",
              "      <td>0.790521</td>\n",
              "    </tr>\n",
              "    <tr>\n",
              "      <th>1</th>\n",
              "      <td>0</td>\n",
              "      <td>double_lstm</td>\n",
              "      <td>0.769236</td>\n",
              "    </tr>\n",
              "    <tr>\n",
              "      <th>2</th>\n",
              "      <td>0</td>\n",
              "      <td>double_dense</td>\n",
              "      <td>0.796476</td>\n",
              "    </tr>\n",
              "    <tr>\n",
              "      <th>3</th>\n",
              "      <td>1</td>\n",
              "      <td>baseline</td>\n",
              "      <td>0.782700</td>\n",
              "    </tr>\n",
              "    <tr>\n",
              "      <th>4</th>\n",
              "      <td>1</td>\n",
              "      <td>double_lstm</td>\n",
              "      <td>0.788677</td>\n",
              "    </tr>\n",
              "    <tr>\n",
              "      <th>5</th>\n",
              "      <td>1</td>\n",
              "      <td>double_dense</td>\n",
              "      <td>0.787969</td>\n",
              "    </tr>\n",
              "    <tr>\n",
              "      <th>6</th>\n",
              "      <td>2</td>\n",
              "      <td>baseline</td>\n",
              "      <td>0.785316</td>\n",
              "    </tr>\n",
              "    <tr>\n",
              "      <th>7</th>\n",
              "      <td>2</td>\n",
              "      <td>double_lstm</td>\n",
              "      <td>0.792099</td>\n",
              "    </tr>\n",
              "    <tr>\n",
              "      <th>8</th>\n",
              "      <td>2</td>\n",
              "      <td>double_dense</td>\n",
              "      <td>0.792320</td>\n",
              "    </tr>\n",
              "  </tbody>\n",
              "</table>\n",
              "</div>\n",
              "    <div class=\"colab-df-buttons\">\n",
              "\n",
              "  <div class=\"colab-df-container\">\n",
              "    <button class=\"colab-df-convert\" onclick=\"convertToInteractive('df-46d596a5-d979-4b1b-9ce3-7f6d515c60c9')\"\n",
              "            title=\"Convert this dataframe to an interactive table.\"\n",
              "            style=\"display:none;\">\n",
              "\n",
              "  <svg xmlns=\"http://www.w3.org/2000/svg\" height=\"24px\" viewBox=\"0 -960 960 960\">\n",
              "    <path d=\"M120-120v-720h720v720H120Zm60-500h600v-160H180v160Zm220 220h160v-160H400v160Zm0 220h160v-160H400v160ZM180-400h160v-160H180v160Zm440 0h160v-160H620v160ZM180-180h160v-160H180v160Zm440 0h160v-160H620v160Z\"/>\n",
              "  </svg>\n",
              "    </button>\n",
              "\n",
              "  <style>\n",
              "    .colab-df-container {\n",
              "      display:flex;\n",
              "      gap: 12px;\n",
              "    }\n",
              "\n",
              "    .colab-df-convert {\n",
              "      background-color: #E8F0FE;\n",
              "      border: none;\n",
              "      border-radius: 50%;\n",
              "      cursor: pointer;\n",
              "      display: none;\n",
              "      fill: #1967D2;\n",
              "      height: 32px;\n",
              "      padding: 0 0 0 0;\n",
              "      width: 32px;\n",
              "    }\n",
              "\n",
              "    .colab-df-convert:hover {\n",
              "      background-color: #E2EBFA;\n",
              "      box-shadow: 0px 1px 2px rgba(60, 64, 67, 0.3), 0px 1px 3px 1px rgba(60, 64, 67, 0.15);\n",
              "      fill: #174EA6;\n",
              "    }\n",
              "\n",
              "    .colab-df-buttons div {\n",
              "      margin-bottom: 4px;\n",
              "    }\n",
              "\n",
              "    [theme=dark] .colab-df-convert {\n",
              "      background-color: #3B4455;\n",
              "      fill: #D2E3FC;\n",
              "    }\n",
              "\n",
              "    [theme=dark] .colab-df-convert:hover {\n",
              "      background-color: #434B5C;\n",
              "      box-shadow: 0px 1px 3px 1px rgba(0, 0, 0, 0.15);\n",
              "      filter: drop-shadow(0px 1px 2px rgba(0, 0, 0, 0.3));\n",
              "      fill: #FFFFFF;\n",
              "    }\n",
              "  </style>\n",
              "\n",
              "    <script>\n",
              "      const buttonEl =\n",
              "        document.querySelector('#df-46d596a5-d979-4b1b-9ce3-7f6d515c60c9 button.colab-df-convert');\n",
              "      buttonEl.style.display =\n",
              "        google.colab.kernel.accessAllowed ? 'block' : 'none';\n",
              "\n",
              "      async function convertToInteractive(key) {\n",
              "        const element = document.querySelector('#df-46d596a5-d979-4b1b-9ce3-7f6d515c60c9');\n",
              "        const dataTable =\n",
              "          await google.colab.kernel.invokeFunction('convertToInteractive',\n",
              "                                                    [key], {});\n",
              "        if (!dataTable) return;\n",
              "\n",
              "        const docLinkHtml = 'Like what you see? Visit the ' +\n",
              "          '<a target=\"_blank\" href=https://colab.research.google.com/notebooks/data_table.ipynb>data table notebook</a>'\n",
              "          + ' to learn more about interactive tables.';\n",
              "        element.innerHTML = '';\n",
              "        dataTable['output_type'] = 'display_data';\n",
              "        await google.colab.output.renderOutput(dataTable, element);\n",
              "        const docLink = document.createElement('div');\n",
              "        docLink.innerHTML = docLinkHtml;\n",
              "        element.appendChild(docLink);\n",
              "      }\n",
              "    </script>\n",
              "  </div>\n",
              "\n",
              "\n",
              "<div id=\"df-664df96a-8efd-4fd9-9699-03fa7f338b1c\">\n",
              "  <button class=\"colab-df-quickchart\" onclick=\"quickchart('df-664df96a-8efd-4fd9-9699-03fa7f338b1c')\"\n",
              "            title=\"Suggest charts\"\n",
              "            style=\"display:none;\">\n",
              "\n",
              "<svg xmlns=\"http://www.w3.org/2000/svg\" height=\"24px\"viewBox=\"0 0 24 24\"\n",
              "     width=\"24px\">\n",
              "    <g>\n",
              "        <path d=\"M19 3H5c-1.1 0-2 .9-2 2v14c0 1.1.9 2 2 2h14c1.1 0 2-.9 2-2V5c0-1.1-.9-2-2-2zM9 17H7v-7h2v7zm4 0h-2V7h2v10zm4 0h-2v-4h2v4z\"/>\n",
              "    </g>\n",
              "</svg>\n",
              "  </button>\n",
              "\n",
              "<style>\n",
              "  .colab-df-quickchart {\n",
              "      --bg-color: #E8F0FE;\n",
              "      --fill-color: #1967D2;\n",
              "      --hover-bg-color: #E2EBFA;\n",
              "      --hover-fill-color: #174EA6;\n",
              "      --disabled-fill-color: #AAA;\n",
              "      --disabled-bg-color: #DDD;\n",
              "  }\n",
              "\n",
              "  [theme=dark] .colab-df-quickchart {\n",
              "      --bg-color: #3B4455;\n",
              "      --fill-color: #D2E3FC;\n",
              "      --hover-bg-color: #434B5C;\n",
              "      --hover-fill-color: #FFFFFF;\n",
              "      --disabled-bg-color: #3B4455;\n",
              "      --disabled-fill-color: #666;\n",
              "  }\n",
              "\n",
              "  .colab-df-quickchart {\n",
              "    background-color: var(--bg-color);\n",
              "    border: none;\n",
              "    border-radius: 50%;\n",
              "    cursor: pointer;\n",
              "    display: none;\n",
              "    fill: var(--fill-color);\n",
              "    height: 32px;\n",
              "    padding: 0;\n",
              "    width: 32px;\n",
              "  }\n",
              "\n",
              "  .colab-df-quickchart:hover {\n",
              "    background-color: var(--hover-bg-color);\n",
              "    box-shadow: 0 1px 2px rgba(60, 64, 67, 0.3), 0 1px 3px 1px rgba(60, 64, 67, 0.15);\n",
              "    fill: var(--button-hover-fill-color);\n",
              "  }\n",
              "\n",
              "  .colab-df-quickchart-complete:disabled,\n",
              "  .colab-df-quickchart-complete:disabled:hover {\n",
              "    background-color: var(--disabled-bg-color);\n",
              "    fill: var(--disabled-fill-color);\n",
              "    box-shadow: none;\n",
              "  }\n",
              "\n",
              "  .colab-df-spinner {\n",
              "    border: 2px solid var(--fill-color);\n",
              "    border-color: transparent;\n",
              "    border-bottom-color: var(--fill-color);\n",
              "    animation:\n",
              "      spin 1s steps(1) infinite;\n",
              "  }\n",
              "\n",
              "  @keyframes spin {\n",
              "    0% {\n",
              "      border-color: transparent;\n",
              "      border-bottom-color: var(--fill-color);\n",
              "      border-left-color: var(--fill-color);\n",
              "    }\n",
              "    20% {\n",
              "      border-color: transparent;\n",
              "      border-left-color: var(--fill-color);\n",
              "      border-top-color: var(--fill-color);\n",
              "    }\n",
              "    30% {\n",
              "      border-color: transparent;\n",
              "      border-left-color: var(--fill-color);\n",
              "      border-top-color: var(--fill-color);\n",
              "      border-right-color: var(--fill-color);\n",
              "    }\n",
              "    40% {\n",
              "      border-color: transparent;\n",
              "      border-right-color: var(--fill-color);\n",
              "      border-top-color: var(--fill-color);\n",
              "    }\n",
              "    60% {\n",
              "      border-color: transparent;\n",
              "      border-right-color: var(--fill-color);\n",
              "    }\n",
              "    80% {\n",
              "      border-color: transparent;\n",
              "      border-right-color: var(--fill-color);\n",
              "      border-bottom-color: var(--fill-color);\n",
              "    }\n",
              "    90% {\n",
              "      border-color: transparent;\n",
              "      border-bottom-color: var(--fill-color);\n",
              "    }\n",
              "  }\n",
              "</style>\n",
              "\n",
              "  <script>\n",
              "    async function quickchart(key) {\n",
              "      const quickchartButtonEl =\n",
              "        document.querySelector('#' + key + ' button');\n",
              "      quickchartButtonEl.disabled = true;  // To prevent multiple clicks.\n",
              "      quickchartButtonEl.classList.add('colab-df-spinner');\n",
              "      try {\n",
              "        const charts = await google.colab.kernel.invokeFunction(\n",
              "            'suggestCharts', [key], {});\n",
              "      } catch (error) {\n",
              "        console.error('Error during call to suggestCharts:', error);\n",
              "      }\n",
              "      quickchartButtonEl.classList.remove('colab-df-spinner');\n",
              "      quickchartButtonEl.classList.add('colab-df-quickchart-complete');\n",
              "    }\n",
              "    (() => {\n",
              "      let quickchartButtonEl =\n",
              "        document.querySelector('#df-664df96a-8efd-4fd9-9699-03fa7f338b1c button');\n",
              "      quickchartButtonEl.style.display =\n",
              "        google.colab.kernel.accessAllowed ? 'block' : 'none';\n",
              "    })();\n",
              "  </script>\n",
              "</div>\n",
              "    </div>\n",
              "  </div>\n"
            ]
          },
          "metadata": {},
          "execution_count": 124
        }
      ],
      "source": [
        "model_results.head(9)"
      ]
    },
    {
      "cell_type": "code",
      "execution_count": 127,
      "metadata": {
        "colab": {
          "base_uri": "https://localhost:8080/"
        },
        "id": "wpWff7L-fEoH",
        "outputId": "0e364957-9100-4960-bd69-d35b4703a86f"
      },
      "outputs": [
        {
          "output_type": "stream",
          "name": "stdout",
          "text": [
            "Average f1 score for baseline: 0.7861787017106111\n",
            "Standard deviation for baseline: 0.003250758460292063\n",
            "\n",
            "Average f1 score for double_lstm: 0.7833372333091185\n",
            "Standard deviation for double_lstm: 0.010068684197471223\n",
            "\n",
            "Average f1 score for double_dense: 0.7922553799245172\n",
            "Standard deviation for double_dense: 0.003473248243455608\n",
            "\n",
            "Best model: baseline\n"
          ]
        }
      ],
      "source": [
        "means = []\n",
        "stdevs = []\n",
        "std_means = []\n",
        "for model in res.keys():\n",
        "    print(f'Average f1 score for {model}: {np.mean(res[model])}')\n",
        "    print(f'Standard deviation for {model}: {np.std(res[model])}')\n",
        "    print()\n",
        "    means.append(np.mean(res[model]))\n",
        "    stdevs.append(np.std(res[model]))\n",
        "for i, model in enumerate(res.keys()):\n",
        "    std_means.append(means[i]/stdevs[i])\n",
        "\n",
        "best_model_idx = np.argmax(std_means)\n",
        "best_model_name = models_names[best_model_idx]\n",
        "best_model = best_final_models[best_model_idx]\n",
        "print(f'Best model: {best_model_name}')"
      ]
    },
    {
      "cell_type": "markdown",
      "metadata": {
        "id": "_sN60F5MO0mB"
      },
      "source": [
        "# [Task 6 - 1.0 points] Error Analysis\n",
        "\n",
        "You are tasked to evaluate your best performing model."
      ]
    },
    {
      "cell_type": "markdown",
      "metadata": {
        "id": "5IvcbIwiO0mB"
      },
      "source": [
        "### Instructions\n",
        "\n",
        "* Compare the errors made on the validation and test sets.\n",
        "* Aggregate model errors into categories (if possible)\n",
        "* Comment the about errors and propose possible solutions on how to address them."
      ]
    },
    {
      "cell_type": "code",
      "execution_count": 149,
      "metadata": {
        "id": "FMFFYMburLuh"
      },
      "outputs": [],
      "source": [
        "# Evaluate again our best performing model\n",
        "best_model_loss = CrossEntropyLoss()\n",
        "best_model_accuracy_val, best_model_f1_val, best_model_pred_val, best_model_targ_val = evaluate(best_model, best_model_loss, val_dl, verbose=False)\n",
        "best_model_accuracy_test, best_model_f1_test, best_model_pred_test, best_model_targ_test = evaluate(best_model, best_model_loss, test_dl, verbose=False)"
      ]
    },
    {
      "cell_type": "code",
      "execution_count": 150,
      "metadata": {
        "id": "VV9HZZLJqdcY"
      },
      "outputs": [],
      "source": [
        "def build_classification_report(targ,pred,unique_tags):\n",
        "    \"\"\"\n",
        "        Build classification report and prints it\n",
        "    \"\"\"\n",
        "    report = classification_report(targ,pred,zero_division=0,output_dict=False,target_names=unique_tags)\n",
        "    print(report)\n",
        "\n",
        "def build_confusion_matrix(targ,pred,unique_tags):\n",
        "    \"\"\"\n",
        "        Build confusion matrix, plot and returns it\n",
        "    \"\"\"\n",
        "    cf_matrix = confusion_matrix(targ, pred)\n",
        "    df_cm = pd.DataFrame(cf_matrix, index = unique_tags, columns = unique_tags)\n",
        "    plt.figure(figsize = (40,32))\n",
        "    sn.heatmap(df_cm, annot=True, cmap=\"Blues\", linewidths= 0.05, linecolor='white')\n",
        "    return df_cm\n",
        "\n",
        "def build_errors_dictionary(df_cm):\n",
        "    \"\"\"\n",
        "        Build errors dictionary and prints it\n",
        "    \"\"\"\n",
        "    errors = {}\n",
        "    for true_tag,row in df_cm.iterrows():    #loop on the rows of the dataframe\n",
        "\n",
        "        tag_errors = []\n",
        "        for pred_tag, occurrences in row.items() :     #loop on each column of that specific row\n",
        "            if not pred_tag==true_tag and occurrences!=0 :\n",
        "                tag_errors.append((pred_tag,occurrences))\n",
        "\n",
        "        tag_errors.sort(key = itemgetter(1),reverse=True)   #sort it so that the tag that is more mistaken for the correct one is the first one to appear on the left\n",
        "\n",
        "        if tag_errors:\n",
        "            errors[true_tag] = tag_errors     #put it in the dict only if there are actually errors\n",
        "\n",
        "    errors = dict(sorted(errors.items(), key = lambda item : item[1][0][1],reverse=True))    #sort the dictionary in order to have the more wrongly classified tags on top\n",
        "\n",
        "    #pretty print\n",
        "    print('true_TAG --> (pred_TAG, n_times)\\n')\n",
        "    for k,v in errors.items():\n",
        "        print(k,'-->',*v)\n",
        "\n",
        "def get_tag_distribution(indexed_df, split):\n",
        "    \"\"\"\n",
        "        Count number of occurrences of each TAG in the train set\n",
        "    \"\"\"\n",
        "    tag_frequency = {}\n",
        "    df_temp = indexed_df[indexed_df['split'] == split]\n",
        "    for _ ,row in df_temp.iterrows():\n",
        "        for key in row['indexed_tags']:\n",
        "            tag_frequency[vocab.i2t(key)] = tag_frequency.get(vocab.i2t(key),0) + 1\n",
        "\n",
        "    return dict(sorted(tag_frequency.items(), key=lambda item: item[1], reverse = True))\n",
        "\n",
        "def get_number_of_missclassified_words(cm, tags):\n",
        "    \"\"\"\n",
        "        Returns the number of missclassified words for the given tag\n",
        "    \"\"\"\n",
        "    row = cm.loc[tag]\n",
        "    return row.sum() - row[tag]"
      ]
    },
    {
      "cell_type": "markdown",
      "source": [
        "Confusion matrix and errors dictionary for the best performing model on validation set"
      ],
      "metadata": {
        "id": "y6UL8LgS6Gep"
      }
    },
    {
      "cell_type": "code",
      "execution_count": 151,
      "metadata": {
        "colab": {
          "base_uri": "https://localhost:8080/",
          "height": 1000
        },
        "id": "_jpwUoKoqdcY",
        "outputId": "1ae5676d-5f3f-44a5-b8a8-8eefa3d1ed1b"
      },
      "outputs": [
        {
          "output_type": "stream",
          "name": "stdout",
          "text": [
            "true_TAG --> (pred_TAG, n_times)\n",
            "\n",
            "NN --> ('NNP', 215) ('JJ', 90) ('VBG', 35) ('NNS', 29) ('VB', 28) ('CD', 22) ('VBP', 19) ('VBN', 6) ('RB', 5) ('VBZ', 4) ('JJR', 3) ('VBD', 3) ('NNPS', 2) ('PRP', 1) ('DT', 1) ('WDT', 1) ('RBR', 1) ('IN', 1)\n",
            "NNP --> ('NN', 160) ('JJ', 54) ('NNPS', 48) ('CD', 23) ('NNS', 18) ('IN', 11) ('VB', 9) ('VBZ', 5) ('VBP', 3) ('CC', 3) ('VBG', 2) ('VBN', 1) ('MD', 1) ('FW', 1) ('UH', 1) ('RB', 1) ('VBD', 1)\n",
            "JJ --> ('NN', 143) ('NNP', 89) ('VBN', 39) ('NNS', 33) ('RB', 25) ('VBG', 14) ('CD', 10) ('VBD', 10) ('VBP', 6) ('PDT', 3) ('VB', 3) ('DT', 2) ('JJS', 2) ('CC', 2) ('IN', 2) ('JJR', 1) ('WP$', 1) ('NNPS', 1)\n",
            "VBD --> ('VBN', 76) ('JJ', 5) ('NNS', 5) ('RB', 3) ('VBP', 2) ('NN', 2) ('NNP', 2) ('VBG', 1)\n",
            "VBN --> ('VBD', 73) ('JJ', 11) ('NNS', 5) ('RB', 5) ('VB', 4) ('VBG', 3) ('NNP', 3) ('NN', 2)\n",
            "VBP --> ('VB', 54) ('NN', 6) ('NNS', 4) ('VBD', 4) ('VBZ', 2) ('JJ', 2) ('NNP', 2) ('IN', 2) ('MD', 1)\n",
            "VBG --> ('NN', 45) ('JJ', 22) ('NNS', 7) ('RB', 6) ('VBP', 3) ('VBN', 2) ('JJR', 2) ('VBZ', 2) ('NNP', 2) ('VB', 1)\n",
            "NNS --> ('NNPS', 41) ('NN', 33) ('VBZ', 32) ('NNP', 26) ('VBP', 11) ('JJ', 11) ('CD', 9) ('VBN', 3) ('VBG', 3) ('RB', 2) ('VB', 1) ('FW', 1)\n",
            "RB --> ('IN', 36) ('JJ', 27) ('VBN', 12) ('RP', 4) ('NN', 3) ('CC', 3) ('VBG', 3) ('NNS', 3) ('VB', 2) ('DT', 2) ('VBD', 2) ('VBP', 1) ('MD', 1) ('VBZ', 1) ('PRP', 1) ('NNP', 1)\n",
            "RBR --> ('JJR', 31) ('JJ', 2)\n",
            "VB --> ('NN', 26) ('VBP', 20) ('JJ', 8) ('MD', 5) ('VBN', 4) ('NNP', 4) ('RB', 3) ('PRP', 2) ('NNS', 2) ('CD', 1) ('VBG', 1) ('VBD', 1) ('RBR', 1)\n",
            "RP --> ('IN', 23) ('RB', 8) ('NN', 1) ('JJ', 1)\n",
            "IN --> ('DT', 18) ('WDT', 13) ('RB', 12) ('RP', 11) ('VBG', 5) ('JJ', 2) ('VBP', 1) ('VBZ', 1) ('NNS', 1) ('NNP', 1)\n",
            "VBZ --> ('NNS', 17) ('NN', 6) ('NNP', 6) ('VBP', 3) ('VB', 1)\n",
            "WDT --> ('IN', 15) ('DT', 5)\n",
            "CD --> ('NNP', 13) ('JJ', 11) ('NN', 8) ('NNS', 4) ('LS', 2) ('VBG', 1) ('RB', 1) ('IN', 1)\n",
            "NNPS --> ('NNS', 11) ('VBZ', 2) ('NNP', 2)\n",
            "DT --> ('PDT', 10) ('NN', 5) ('RB', 5) ('IN', 5) ('WDT', 3) ('JJ', 1) ('UH', 1) ('VBG', 1) ('NNP', 1)\n",
            "JJR --> ('RBR', 8) ('NNS', 1)\n",
            "JJS --> ('JJ', 5) ('RBS', 3) ('NNP', 2)\n",
            "RBS --> ('JJS', 5)\n",
            "WP --> ('WDT', 3) ('VB', 1)\n",
            "EX --> ('RB', 3)\n",
            "MD --> ('RB', 1) ('NNP', 1)\n",
            "PRP$ --> ('PRP', 1)\n",
            "PRP --> ('RB', 1) ('VBD', 1) ('NNP', 1)\n",
            "POS --> ('VBZ', 1)\n"
          ]
        },
        {
          "output_type": "display_data",
          "data": {
            "text/plain": [
              "<Figure size 4000x3200 with 2 Axes>"
            ],
            "image/png": "[encoded data removed]"
          },
          "metadata": {}
        }
      ],
      "source": [
        "validation_tags = [vocab.i2t(i) for i in set(best_model_pred_val.tolist() + best_model_targ_val.tolist())]\n",
        "\n",
        "validation_cm = build_confusion_matrix(best_model_pred_val,best_model_targ_val,validation_tags)\n",
        "\n",
        "build_errors_dictionary(validation_cm)"
      ]
    },
    {
      "cell_type": "markdown",
      "source": [
        "Confusion matrix and errors dictionary for the best performing model on test set"
      ],
      "metadata": {
        "id": "ug065yB17DWc"
      }
    },
    {
      "cell_type": "code",
      "source": [
        "test_tags = [vocab.i2t(i) for i in set(best_model_pred_test.tolist() + best_model_targ_test.tolist())]\n",
        "\n",
        "test_cm = build_confusion_matrix(best_model_pred_test,best_model_targ_test,test_tags)\n",
        "\n",
        "build_errors_dictionary(test_cm)"
      ],
      "metadata": {
        "colab": {
          "base_uri": "https://localhost:8080/",
          "height": 1000
        },
        "id": "AlGo7Q6Z7HvB",
        "outputId": "bf0575cd-ae90-4fc9-8115-a52ff68acb55"
      },
      "execution_count": 152,
      "outputs": [
        {
          "output_type": "stream",
          "name": "stdout",
          "text": [
            "true_TAG --> (pred_TAG, n_times)\n",
            "\n",
            "NN --> ('NNP', 103) ('JJ', 45) ('NNS', 18) ('VBG', 15) ('CD', 10) ('VBP', 4) ('VB', 4) ('VBZ', 4) ('RB', 4) ('VBD', 4) ('VBN', 3) ('DT', 3) ('CC', 1) ('WRB', 1) ('IN', 1)\n",
            "NNP --> ('NN', 92) ('JJ', 25) ('NNPS', 18) ('NNS', 14) ('CD', 6) ('VBG', 6) ('VB', 5) ('VBP', 4) ('RB', 1) ('VBD', 1)\n",
            "JJ --> ('NN', 74) ('NNP', 53) ('VBN', 28) ('RB', 10) ('VB', 4) ('CD', 4) ('VBD', 4) ('VBG', 3) ('NNS', 3) ('VBP', 2) ('PDT', 2) ('IN', 2) ('DT', 1) ('JJS', 1) ('NNPS', 1)\n",
            "NNS --> ('NN', 50) ('NNPS', 22) ('JJ', 7) ('NNP', 7) ('VBZ', 4) ('VBG', 4) ('VBN', 2) ('CD', 2)\n",
            "VBN --> ('VBD', 46) ('NN', 4) ('JJ', 4) ('RB', 3) ('NNP', 3) ('VBP', 2) ('NNS', 2) ('VBG', 1)\n",
            "VBD --> ('VBN', 33) ('NNS', 4) ('NNP', 3) ('NN', 2) ('JJ', 2) ('VBZ', 1)\n",
            "RB --> ('IN', 28) ('JJ', 10) ('VBN', 5) ('RP', 4) ('VBP', 1) ('VB', 1) ('NN', 1) ('VBD', 1)\n",
            "VBG --> ('NN', 19) ('JJ', 5) ('NNP', 5) ('VBN', 3) ('RB', 3) ('VBZ', 1)\n",
            "RP --> ('IN', 16) ('RB', 3)\n",
            "VBZ --> ('NNS', 12) ('NN', 4) ('VBP', 3) ('POS', 2) ('VBD', 2) ('NNP', 2) ('VB', 1)\n",
            "VBP --> ('VB', 9) ('NN', 4) ('JJ', 2) ('PRP', 1)\n",
            "VB --> ('NN', 9) ('VBP', 4) ('JJ', 4) ('CD', 3) ('VBN', 2) ('NNS', 1) ('RB', 1) ('NNP', 1)\n",
            "WDT --> ('IN', 8) ('DT', 2)\n",
            "CD --> ('NN', 7) ('JJ', 7) ('NNP', 3) ('NNS', 2) ('IN', 1)\n",
            "IN --> ('DT', 7) ('WDT', 6) ('RB', 5) ('NNS', 3) ('RP', 3) ('JJ', 2) ('VB', 1) ('VBD', 1)\n",
            "JJR --> ('RBR', 4) ('RB', 1)\n",
            "MD --> ('NNP', 4) ('NN', 2) ('NNS', 1) ('RB', 1)\n",
            "NNPS --> ('NNS', 4) ('NNP', 2) ('JJ', 1)\n",
            "RBR --> ('JJR', 4)\n",
            "DT --> ('NN', 3) ('PDT', 2) ('NNS', 2) ('RB', 2) ('NNP', 2) ('WDT', 1)\n",
            "RBS --> ('JJS', 2)\n",
            "WP --> ('NNS', 1)\n",
            "PRP --> ('PRP$', 1)\n",
            "JJS --> ('RBS', 1)\n",
            "CC --> ('DT', 1) ('NNP', 1)\n",
            "POS --> ('VBZ', 1)\n",
            "EX --> ('RB', 1)\n"
          ]
        },
        {
          "output_type": "display_data",
          "data": {
            "text/plain": [
              "<Figure size 4000x3200 with 2 Axes>"
            ],
            "image/png": "[encoded data removed]"
          },
          "metadata": {}
        }
      ]
    },
    {
      "cell_type": "markdown",
      "source": [
        "Best model performance on k most/less frequent tags"
      ],
      "metadata": {
        "id": "eAjEka3O7mfu"
      }
    },
    {
      "cell_type": "code",
      "source": [
        "k = 3\n",
        "\n",
        "cm = { 'val': validation_cm, 'test': test_cm }\n",
        "most_frequent_tags = {}\n",
        "less_frequent_tags = {}\n",
        "\n",
        "for split in ['val', 'test']:\n",
        "    tag_distribution = list(get_tag_distribution(indexed_dataset, split).keys())\n",
        "    tag_distribution = [tag for tag in tag_distribution if vocab.t2i(tag) not in to_mask.tolist()]\n",
        "    most_frequent_tags[split] = tag_distribution[:k]\n",
        "    less_frequent_tags[split] = tag_distribution[-k:]\n",
        "    print(f'Most frequent tags in {split} set: {most_frequent_tags[split]}')\n",
        "    for tag in most_frequent_tags[split]:\n",
        "        misclassified = get_number_of_missclassified_words(cm[split], tag)\n",
        "        print(f'Misclassified words for tag {tag}: {misclassified}')\n",
        "    print()\n",
        "    print(f'Less frequent tags in {split} set: {less_frequent_tags[split]}')\n",
        "    for tag in less_frequent_tags[split]:\n",
        "        misclassified = get_number_of_missclassified_words(cm[split], tag)\n",
        "        print(f'Misclassified words for tag {tag}: {misclassified}')\n",
        "    print()"
      ],
      "metadata": {
        "colab": {
          "base_uri": "https://localhost:8080/"
        },
        "id": "2ZCGT0ohaxbA",
        "outputId": "b7a4549e-a8f1-49cc-e4e7-cf21829384f4"
      },
      "execution_count": 153,
      "outputs": [
        {
          "output_type": "stream",
          "name": "stdout",
          "text": [
            "Most frequent tags in val set: ['NN', 'IN', 'DT']\n",
            "Misclassified words for tag NN: 466\n",
            "Misclassified words for tag IN: 65\n",
            "Misclassified words for tag DT: 32\n",
            "\n",
            "Less frequent tags in val set: ['LS', 'FW', 'UH']\n",
            "Misclassified words for tag LS: 0\n",
            "Misclassified words for tag FW: 0\n",
            "Misclassified words for tag UH: 0\n",
            "\n",
            "Most frequent tags in test set: ['NN', 'IN', 'NNP']\n",
            "Misclassified words for tag NN: 220\n",
            "Misclassified words for tag IN: 28\n",
            "Misclassified words for tag NNP: 172\n",
            "\n",
            "Less frequent tags in test set: ['WP$', 'PDT', 'RBS']\n",
            "Misclassified words for tag WP$: 0\n",
            "Misclassified words for tag PDT: 0\n",
            "Misclassified words for tag RBS: 2\n",
            "\n"
          ]
        }
      ]
    },
    {
      "cell_type": "markdown",
      "source": [
        "Samples of errors made by the best model on validation set"
      ],
      "metadata": {
        "id": "8OWDHha7a2XX"
      }
    },
    {
      "cell_type": "code",
      "source": [
        "test_samples = 2\n",
        "\n",
        "for split in ['val', 'test']:\n",
        "    print('Testing on the', split, 'set')\n",
        "    for i in range(test_samples):\n",
        "        random_sentence = random.randint(0, len(indexed_dataset[indexed_dataset['split'] == split]))\n",
        "        sentence = indexed_dataset[indexed_dataset['split'] == split].iloc[random_sentence]['indexed_words']\n",
        "\n",
        "        text_sentence =\" \".join([vocab.i2w(i) for i in sentence])\n",
        "        print(f'Random sentence from {split} set: {text_sentence}')\n",
        "\n",
        "        sentence = torch.LongTensor(sentence).unsqueeze(0)\n",
        "        sentence_length = [len(sentence[0])]\n",
        "        prediction = best_model(sentence, sentence_length)\n",
        "        prediction = prediction.argmax(dim=2)\n",
        "        prediction = prediction.squeeze(0)\n",
        "\n",
        "        prediction = [vocab.i2t(i) for i in prediction.tolist()]\n",
        "        actual_tags = [vocab.i2t(t) for t in indexed_dataset[indexed_dataset[\"split\"] == split].iloc[random_sentence][\"indexed_tags\"]]\n",
        "        number_missclassified = sum([1 for i in range(len(prediction)) if prediction[i] != actual_tags[i]])\n",
        "        print(f'Predicted tags for sentence: {prediction}')\n",
        "        print(f'Actual tags for sentence: {actual_tags}')\n",
        "        print(f'Number of missclassified words: {number_missclassified}')\n",
        "        print()\n",
        "    print('-------------------------------------------------')"
      ],
      "metadata": {
        "colab": {
          "base_uri": "https://localhost:8080/"
        },
        "id": "PE5B7Qmza3A2",
        "outputId": "160e3a43-de38-4221-b456-30c968dd0ec7"
      },
      "execution_count": 154,
      "outputs": [
        {
          "output_type": "stream",
          "name": "stdout",
          "text": [
            "Testing on the val set\n",
            "Random sentence from val set: there is no sign that you bothered to consider the inverse of your logic : namely , that mental illness and substance abuse might be to some degree consequences rather than causes of homelessness .\n",
            "Predicted tags for sentence: ['EX', 'VBZ', 'DT', 'NN', 'WDT', 'PRP', 'VBD', 'TO', 'VB', 'DT', 'JJ', 'IN', 'PRP$', 'NN', 'NN', 'NN', 'CC', 'IN', 'JJ', 'NN', 'CC', 'NN', 'NN', 'MD', 'VB', 'TO', 'DT', 'JJ', 'NNS', 'RB', 'IN', 'NN', 'IN', 'NN', 'CC']\n",
            "Actual tags for sentence: ['EX', 'VBZ', 'DT', 'NN', 'IN', 'PRP', 'VBD', 'TO', 'VB', 'DT', 'NN', 'IN', 'PRP$', 'NN', ':', 'RB', ',', 'IN', 'JJ', 'NN', 'CC', 'NN', 'NN', 'MD', 'VB', 'TO', 'DT', 'NN', 'NNS', 'RB', 'IN', 'NNS', 'IN', 'NN', '.']\n",
            "Number of missclassified words: 8\n",
            "\n",
            "Random sentence from val set: but the court disagreed .\n",
            "Predicted tags for sentence: ['CC', 'DT', 'NN', 'VBD', 'CC']\n",
            "Actual tags for sentence: ['CC', 'DT', 'NN', 'VBD', '.']\n",
            "Number of missclassified words: 1\n",
            "\n",
            "-------------------------------------------------\n",
            "Testing on the test set\n",
            "Random sentence from test set: copper :\n",
            "Predicted tags for sentence: ['NNP', 'NNP']\n",
            "Actual tags for sentence: ['NNP', ':']\n",
            "Number of missclassified words: 1\n",
            "\n",
            "Random sentence from test set: that 's almost $ 10 of equity for each columbia share , including convertible preferred shares , though more junk markdowns would reduce the cushion .\n",
            "Predicted tags for sentence: ['IN', 'VBZ', 'RB', 'CD', 'CD', 'IN', 'NN', 'IN', 'DT', 'JJ', 'NN', 'IN', 'VBG', 'JJ', 'VBN', 'NNS', 'CC', 'IN', 'RBR', 'JJ', 'NNS', 'MD', 'VB', 'DT', 'NN', 'CC']\n",
            "Actual tags for sentence: ['DT', 'VBZ', 'RB', '$', 'CD', 'IN', 'NN', 'IN', 'DT', 'NNP', 'NN', ',', 'VBG', 'JJ', 'JJ', 'NNS', ',', 'IN', 'JJR', 'NN', 'NNS', 'MD', 'VB', 'DT', 'NN', '.']\n",
            "Number of missclassified words: 9\n",
            "\n",
            "-------------------------------------------------\n"
          ]
        }
      ]
    },
    {
      "cell_type": "markdown",
      "source": [
        "Precision-recall curve for the most frequent tag in the test set"
      ],
      "metadata": {
        "id": "c6ma0EZQa6vp"
      }
    },
    {
      "cell_type": "code",
      "source": [
        "from sklearn.metrics import precision_recall_curve\n",
        "\n",
        "# compute precision-recall curve for the most frequent tag in the test set\n",
        "most_frequent_tag = most_frequent_tags['test'][0]\n",
        "total_pred = len(best_model_pred_test)\n",
        "points = 1000\n",
        "precision = []\n",
        "recall = []\n",
        "\n",
        "total_tp = np.sum([1 for i in range(total_pred) if best_model_pred_test[i] == best_model_targ_test[i] and best_model_pred_test[i] == vocab.t2i(most_frequent_tag)])\n",
        "total_fp = np.sum([1 for i in range(total_pred) if best_model_pred_test[i] == vocab.t2i(most_frequent_tag) and best_model_targ_test[i] != vocab.t2i(most_frequent_tag)])\n",
        "total_fn = np.sum([1 for i in range(total_pred) if best_model_pred_test[i] != vocab.t2i(most_frequent_tag) and best_model_targ_test[i] == vocab.t2i(most_frequent_tag)])\n",
        "\n",
        "for i in range(points+1):\n",
        "    ending = min(int(total_pred * (i+1) / points) - 1, total_pred)\n",
        "    actual_pred = best_model_pred_test[:ending]\n",
        "    actual_targ = best_model_targ_test[:ending]\n",
        "\n",
        "    actual_pred = [vocab.i2t(i) for i in actual_pred.tolist()]\n",
        "    actual_targ = [vocab.i2t(i) for i in actual_targ.tolist()]\n",
        "\n",
        "    tp, fp, fn = 0, 0, 0\n",
        "    # compute precision and recall\n",
        "    tp = sum([1 for i in range(len(actual_pred)) if actual_pred[i] == most_frequent_tag and actual_targ[i] == most_frequent_tag])\n",
        "    fp = sum([1 for i in range(len(actual_pred)) if actual_pred[i] == most_frequent_tag and actual_targ[i] != most_frequent_tag])\n",
        "    fn = sum([1 for i in range(len(actual_pred)) if actual_pred[i] != most_frequent_tag and actual_targ[i] == most_frequent_tag])\n",
        "    if tp + fp != 0 and tp + fn != 0:\n",
        "        precision.append(tp / (tp + fp))\n",
        "        recall.append(tp / (total_tp + total_fn))\n",
        "\n",
        "plt.plot(recall, precision)\n",
        "plt.xlabel('Recall')\n",
        "plt.ylabel('Precision')\n",
        "plt.title('Precision-Recall curve for the most frequent tag')\n",
        "plt.show()"
      ],
      "metadata": {
        "colab": {
          "base_uri": "https://localhost:8080/",
          "height": 472
        },
        "id": "PgMPsoEaa7qg",
        "outputId": "06d189ca-b7f3-4fdc-b07c-0401c18e0be5"
      },
      "execution_count": 155,
      "outputs": [
        {
          "output_type": "display_data",
          "data": {
            "text/plain": [
              "<Figure size 640x480 with 1 Axes>"
            ],
            "image/png": "[encoded data removed]"
          },
          "metadata": {}
        }
      ]
    },
    {
      "cell_type": "markdown",
      "metadata": {
        "id": "32F8eX_hO0mB"
      },
      "source": [
        "# [Task 7 - 1.0 points] Report\n",
        "\n",
        "Wrap up your experiment in a short report (up to 2 pages)."
      ]
    },
    {
      "cell_type": "markdown",
      "metadata": {
        "id": "xv4OVz1vO0mC"
      },
      "source": [
        "### Instructions\n",
        "\n",
        "* Use the NLP course report template.\n",
        "* Summarize each task in the report following the provided template."
      ]
    },
    {
      "cell_type": "markdown",
      "metadata": {
        "id": "LkAPKCbIO0mC"
      },
      "source": [
        "### Recommendations\n",
        "\n",
        "The report is not a copy-paste of graphs, tables, and command outputs.\n",
        "\n",
        "* Summarize classification performance in Table format.\n",
        "* **Do not** report command outputs or screenshots.\n",
        "* Report learning curves in Figure format.\n",
        "* The error analysis section should summarize your findings."
      ]
    },
    {
      "cell_type": "markdown",
      "metadata": {
        "id": "449lJeI-O0mC"
      },
      "source": [
        "# Submission\n",
        "\n",
        "* **Submit** your report in PDF format.\n",
        "* **Submit** your python notebook.\n",
        "* Make sure your notebook is **well organized**, with no temporary code, commented sections, tests, etc...\n",
        "* You can upload **model weights** in a cloud repository and report the link in the report."
      ]
    },
    {
      "cell_type": "markdown",
      "metadata": {
        "id": "adKOVVP-O0mC"
      },
      "source": [
        "# FAQ\n",
        "\n",
        "Please check this frequently asked questions before contacting us"
      ]
    },
    {
      "cell_type": "markdown",
      "metadata": {
        "id": "x9faC6QnO0mC"
      },
      "source": [
        "### Trainable Embeddings\n",
        "\n",
        "You are **free** to define a trainable or non-trainable Embedding layer to load the GloVe embeddings."
      ]
    },
    {
      "cell_type": "markdown",
      "metadata": {
        "id": "KML9gLHgO0mC"
      },
      "source": [
        "### Model architecture\n",
        "\n",
        "You **should not** change the architecture of a model (i.e., its layers).\n",
        "\n",
        "However, you are **free** to play with their hyper-parameters."
      ]
    },
    {
      "cell_type": "markdown",
      "metadata": {
        "id": "8cgg47FVO0mD"
      },
      "source": [
        "### Neural Libraries\n",
        "\n",
        "You are **free** to use any library of your choice to implement the networks (e.g., Keras, Tensorflow, PyTorch, JAX, etc...)"
      ]
    },
    {
      "cell_type": "markdown",
      "metadata": {
        "id": "6qmgkNGsO0mD"
      },
      "source": [
        "### Keras TimeDistributed Dense layer\n",
        "\n",
        "If you are using Keras, we recommend wrapping the final Dense layer with `TimeDistributed`."
      ]
    },
    {
      "cell_type": "markdown",
      "metadata": {
        "id": "AKxd8OlIO0mD"
      },
      "source": [
        "### Error Analysis\n",
        "\n",
        "Some topics for discussion include:\n",
        "   * Model performance on most/less frequent classes.\n",
        "   * Precision/Recall curves.\n",
        "   * Confusion matrices.\n",
        "   * Specific misclassified samples."
      ]
    },
    {
      "cell_type": "markdown",
      "metadata": {
        "id": "_m5SkbO0O0mD"
      },
      "source": [
        "### Punctuation\n",
        "\n",
        "**Do not** remove punctuation from documents since it may be helpful to the model.\n",
        "\n",
        "You should **ignore** it during metrics computation.\n",
        "\n",
        "If you are curious, you can run additional experiments to verify the impact of removing punctuation."
      ]
    },
    {
      "cell_type": "markdown",
      "metadata": {
        "id": "urd139anO0mD"
      },
      "source": [
        "# The End"
      ]
    }
  ],
  "metadata": {
    "celltoolbar": "Slideshow",
    "colab": {
      "provenance": []
    },
    "kernelspec": {
      "display_name": "Python 3",
      "name": "python3"
    },
    "language_info": {
      "codemirror_mode": {
        "name": "ipython",
        "version": 3
      },
      "file_extension": ".py",
      "mimetype": "text/x-python",
      "name": "python",
      "nbconvert_exporter": "python",
      "pygments_lexer": "ipython3",
      "version": "3.10.12"
    }
  },
  "nbformat": 4,
  "nbformat_minor": 0
}